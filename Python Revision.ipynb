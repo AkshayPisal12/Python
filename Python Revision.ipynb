{
 "cells": [
  {
   "cell_type": "markdown",
   "id": "6ccceadd",
   "metadata": {},
   "source": [
    "# Naming Conventions"
   ]
  },
  {
   "cell_type": "code",
   "execution_count": 1,
   "id": "1bc8ec61",
   "metadata": {},
   "outputs": [
    {
     "name": "stdout",
     "output_type": "stream",
     "text": [
      "101\n"
     ]
    }
   ],
   "source": [
    "#  Creating a valid identifier\n",
    "\n",
    "student_id=101\n",
    "print(student_id)"
   ]
  },
  {
   "cell_type": "code",
   "execution_count": 2,
   "id": "b7d89f43",
   "metadata": {},
   "outputs": [
    {
     "ename": "SyntaxError",
     "evalue": "invalid syntax (753220546.py, line 3)",
     "output_type": "error",
     "traceback": [
      "\u001b[1;36m  Cell \u001b[1;32mIn[2], line 3\u001b[1;36m\u001b[0m\n\u001b[1;33m    ($tudemt_id=101\u001b[0m\n\u001b[1;37m     ^\u001b[0m\n\u001b[1;31mSyntaxError\u001b[0m\u001b[1;31m:\u001b[0m invalid syntax\n"
     ]
    }
   ],
   "source": [
    "#Creating invalid identifier  #  Syntax error\n",
    "\n",
    "($tudemt_id=101\n",
    "print($tudemt_id)"
   ]
  },
  {
   "cell_type": "code",
   "execution_count": 2,
   "id": "4fb65102",
   "metadata": {},
   "outputs": [
    {
     "name": "stdout",
     "output_type": "stream",
     "text": [
      "1010\n"
     ]
    }
   ],
   "source": [
    "#  Identifier with number but not start with number\n",
    "\n",
    "student_id12=1010\n",
    "print(student_id12)\n",
    "\n"
   ]
  },
  {
   "cell_type": "code",
   "execution_count": 3,
   "id": "607b3270",
   "metadata": {},
   "outputs": [
    {
     "ename": "SyntaxError",
     "evalue": "invalid decimal literal (3520341015.py, line 4)",
     "output_type": "error",
     "traceback": [
      "\u001b[1;36m  Cell \u001b[1;32mIn[3], line 4\u001b[1;36m\u001b[0m\n\u001b[1;33m    12student_id=101\u001b[0m\n\u001b[1;37m     ^\u001b[0m\n\u001b[1;31mSyntaxError\u001b[0m\u001b[1;31m:\u001b[0m invalid decimal literal\n"
     ]
    }
   ],
   "source": [
    "#  Invalid\n",
    "\n",
    "\n",
    "12student_id=101\n",
    "print(12student_id)"
   ]
  },
  {
   "cell_type": "code",
   "execution_count": 4,
   "id": "378c1797",
   "metadata": {},
   "outputs": [
    {
     "name": "stdout",
     "output_type": "stream",
     "text": [
      "10\n"
     ]
    }
   ],
   "source": [
    "#  Identifiers are Case sensitive\n",
    "\n",
    "value=10\n",
    "print(value)"
   ]
  },
  {
   "cell_type": "code",
   "execution_count": 5,
   "id": "a8b8114c",
   "metadata": {},
   "outputs": [
    {
     "ename": "NameError",
     "evalue": "name 'VALUE' is not defined",
     "output_type": "error",
     "traceback": [
      "\u001b[1;31m---------------------------------------------------------------------------\u001b[0m",
      "\u001b[1;31mNameError\u001b[0m                                 Traceback (most recent call last)",
      "Cell \u001b[1;32mIn[5], line 2\u001b[0m\n\u001b[0;32m      1\u001b[0m value\u001b[38;5;241m=\u001b[39m\u001b[38;5;241m10\u001b[39m\n\u001b[1;32m----> 2\u001b[0m \u001b[38;5;28mprint\u001b[39m(\u001b[43mVALUE\u001b[49m)\n",
      "\u001b[1;31mNameError\u001b[0m: name 'VALUE' is not defined"
     ]
    }
   ],
   "source": [
    "value=10\n",
    "print(VALUE)"
   ]
  },
  {
   "cell_type": "code",
   "execution_count": null,
   "id": "93e43f34",
   "metadata": {},
   "outputs": [],
   "source": [
    "# Cannnit use keywords as identifiers\n",
    "\n",
    "if=10\n",
    "printa(if)"
   ]
  },
  {
   "cell_type": "markdown",
   "id": "5e5f5a1d",
   "metadata": {},
   "source": [
    "# Variables"
   ]
  },
  {
   "cell_type": "code",
   "execution_count": 6,
   "id": "e3c39890",
   "metadata": {},
   "outputs": [
    {
     "data": {
      "text/plain": [
       "16"
      ]
     },
     "execution_count": 6,
     "metadata": {},
     "output_type": "execute_result"
    }
   ],
   "source": [
    "#  Creating a variable\n",
    "\n",
    "age=16\n",
    "age\n",
    "\n"
   ]
  },
  {
   "cell_type": "code",
   "execution_count": 7,
   "id": "c955a689",
   "metadata": {},
   "outputs": [
    {
     "name": "stdout",
     "output_type": "stream",
     "text": [
      "daniel\n",
      "15\n"
     ]
    }
   ],
   "source": [
    "#craeting two variables\n",
    "\n",
    "name=\"daniel\"\n",
    "weight=15\n",
    "\n",
    "print(name)\n",
    "print(weight)"
   ]
  },
  {
   "cell_type": "code",
   "execution_count": 8,
   "id": "6c881093",
   "metadata": {},
   "outputs": [
    {
     "name": "stdout",
     "output_type": "stream",
     "text": [
      "I am Daniel\n"
     ]
    }
   ],
   "source": [
    "#  Creating a variable with meaningful text message\n",
    "\n",
    "name=\"Daniel\"\n",
    "print(\"I am\",name)"
   ]
  },
  {
   "cell_type": "code",
   "execution_count": 9,
   "id": "ae821659",
   "metadata": {},
   "outputs": [
    {
     "name": "stdout",
     "output_type": "stream",
     "text": [
      "1\n",
      "2\n",
      "3\n"
     ]
    }
   ],
   "source": [
    "#  Craeting multiple variables in single line\n",
    "\n",
    "a,b,c=1,2,3\n",
    "print(a)\n",
    "print(b)\n",
    "print(c)"
   ]
  },
  {
   "cell_type": "code",
   "execution_count": 10,
   "id": "b6ae7281",
   "metadata": {},
   "outputs": [
    {
     "name": "stdout",
     "output_type": "stream",
     "text": [
      "5\n",
      "5\n",
      "5\n"
     ]
    }
   ],
   "source": [
    "#  sinbgle value for multiple variables\n",
    "\n",
    "a=b=c=5\n",
    "\n",
    "print(a)\n",
    "print(b)\n",
    "print(c)"
   ]
  },
  {
   "cell_type": "code",
   "execution_count": 11,
   "id": "950f7922",
   "metadata": {},
   "outputs": [
    {
     "name": "stdout",
     "output_type": "stream",
     "text": [
      "My salary is 10000\n"
     ]
    }
   ],
   "source": [
    "#  Variable Re-initialization\n",
    "\n",
    "sal=10000\n",
    "print(\"My salary is\",sal)"
   ]
  },
  {
   "cell_type": "code",
   "execution_count": 12,
   "id": "ece5674b",
   "metadata": {},
   "outputs": [
    {
     "name": "stdout",
     "output_type": "stream",
     "text": [
      "My saalary is 20000\n"
     ]
    }
   ],
   "source": [
    "sal=10000\n",
    "sal=20000\n",
    "print(\"My saalary is\",sal)"
   ]
  },
  {
   "cell_type": "markdown",
   "id": "2a2e04de",
   "metadata": {},
   "source": [
    "#  Python Datatypes\n"
   ]
  },
  {
   "cell_type": "code",
   "execution_count": 13,
   "id": "72d247b5",
   "metadata": {},
   "outputs": [
    {
     "name": "stdout",
     "output_type": "stream",
     "text": [
      "My employee id is: 1\n",
      "My name is: Daniel\n",
      "My salary is: 10000.56\n"
     ]
    }
   ],
   "source": [
    "#  Print different kinds of variables\n",
    "\n",
    "emp_id=1\n",
    "name=\"Daniel\"\n",
    "salary=10000.56\n",
    "\n",
    "print(\"My employee id is:\",emp_id)\n",
    "print(\"My name is:\",name)\n",
    "print(\"My salary is:\",salary)"
   ]
  },
  {
   "cell_type": "code",
   "execution_count": 14,
   "id": "4d5eeca7",
   "metadata": {},
   "outputs": [
    {
     "name": "stdout",
     "output_type": "stream",
     "text": [
      "My employee id is: 1\n",
      "My name is: Daniel\n",
      "My salary is: 10000.56\n",
      "\n",
      "emp_id type is <class 'int'>\n",
      "name type is <class 'str'>\n",
      "salary type is <class 'float'>\n"
     ]
    }
   ],
   "source": [
    "#  type()  function\n",
    "\n",
    "emp_id=1\n",
    "name=\"Daniel\"\n",
    "salary=10000.56\n",
    "\n",
    "print(\"My employee id is:\",emp_id)\n",
    "print(\"My name is:\",name)\n",
    "print(\"My salary is:\",salary)\n",
    "print()\n",
    "\n",
    "print('emp_id type is',type(emp_id))\n",
    "print('name type is',type(name))\n",
    "print('salary type is',type(salary))"
   ]
  },
  {
   "cell_type": "code",
   "execution_count": 15,
   "id": "ee845fe0",
   "metadata": {},
   "outputs": [
    {
     "name": "stdout",
     "output_type": "stream",
     "text": [
      "20\n",
      "<class 'int'>\n"
     ]
    }
   ],
   "source": [
    "#  int data type\n",
    "a=20\n",
    "print(a)\n",
    "print(type(a))"
   ]
  },
  {
   "cell_type": "code",
   "execution_count": 16,
   "id": "dfe2f145",
   "metadata": {},
   "outputs": [
    {
     "name": "stdout",
     "output_type": "stream",
     "text": [
      "10000.52\n",
      "<class 'float'>\n"
     ]
    }
   ],
   "source": [
    "# float datatype\n",
    "\n",
    "salary=10000.52\n",
    "print(salary)\n",
    "print(type(salary))"
   ]
  },
  {
   "cell_type": "code",
   "execution_count": 17,
   "id": "1a2acb90",
   "metadata": {},
   "outputs": [
    {
     "name": "stdout",
     "output_type": "stream",
     "text": [
      "True\n",
      "False\n"
     ]
    }
   ],
   "source": [
    "# Boolean data type\n",
    "\n",
    "a=True\n",
    "b=False\n",
    "\n",
    "print(a)\n",
    "print(b)"
   ]
  },
  {
   "cell_type": "code",
   "execution_count": 18,
   "id": "4987695d",
   "metadata": {},
   "outputs": [
    {
     "name": "stdout",
     "output_type": "stream",
     "text": [
      "None\n",
      "<class 'NoneType'>\n"
     ]
    }
   ],
   "source": [
    "#v None data type\n",
    "\n",
    "a=None\n",
    "print(a)\n",
    "print(type(a))"
   ]
  },
  {
   "cell_type": "code",
   "execution_count": 19,
   "id": "de09e789",
   "metadata": {},
   "outputs": [
    {
     "name": "stdout",
     "output_type": "stream",
     "text": [
      "Daniel\n",
      "Daniel\n",
      "Daniel\n",
      "Daniel\n",
      "<class 'str'>\n",
      "<class 'str'>\n",
      "<class 'str'>\n",
      "<class 'str'>\n"
     ]
    }
   ],
   "source": [
    "# string \n",
    "\n",
    "name1=\"Daniel\"\n",
    "name2='Daniel'\n",
    "name3='''Daniel'''\n",
    "name4=\"\"\"Daniel\"\"\"\n",
    "\n",
    "print(name1)\n",
    "print(name2)\n",
    "print(name3)\n",
    "print(name4)\n",
    "\n",
    "print(type(name1))\n",
    "print(type(name2))\n",
    "print(type(name3))\n",
    "print(type(name4))\n"
   ]
  },
  {
   "cell_type": "code",
   "execution_count": 20,
   "id": "a156624b",
   "metadata": {},
   "outputs": [
    {
     "name": "stdout",
     "output_type": "stream",
     "text": [
      "[10, 20, 30, 40]\n",
      "<class 'list'>\n"
     ]
    }
   ],
   "source": [
    "#  List data stucture\n",
    "\n",
    "values=[10,20,30,40]\n",
    "print(values)\n",
    "print(type(values))"
   ]
  },
  {
   "cell_type": "code",
   "execution_count": 21,
   "id": "8a34263c",
   "metadata": {},
   "outputs": [
    {
     "name": "stdout",
     "output_type": "stream",
     "text": [
      "(10, 20, 30, 40)\n",
      "<class 'tuple'>\n"
     ]
    }
   ],
   "source": [
    "# tuple\n",
    "\n",
    "values=(10,20,30,40)\n",
    "print(values)\n",
    "print(type(values))"
   ]
  },
  {
   "cell_type": "code",
   "execution_count": 22,
   "id": "cef82596",
   "metadata": {},
   "outputs": [
    {
     "name": "stdout",
     "output_type": "stream",
     "text": [
      "{40, 10, 20, 30}\n",
      "<class 'set'>\n"
     ]
    }
   ],
   "source": [
    "# Set\n",
    "\n",
    "values = {10, 20, 30, 40}\n",
    "print(values)\n",
    "print(type(values))"
   ]
  },
  {
   "cell_type": "code",
   "execution_count": 23,
   "id": "bf665d69",
   "metadata": {},
   "outputs": [
    {
     "name": "stdout",
     "output_type": "stream",
     "text": [
      "{1: 'Jeswanth', 2: 'Kumari', 3: 'Prasad', 4: 'Daniel'}\n",
      "<class 'dict'>\n"
     ]
    }
   ],
   "source": [
    "#  Dictionary\n",
    "details = {1: \"Jeswanth\", 2: \"Kumari\", 3: \"Prasad\", 4: \"Daniel\"}\n",
    "print(details)\n",
    "print(type(details))\n"
   ]
  },
  {
   "cell_type": "code",
   "execution_count": 24,
   "id": "8f0f94f0",
   "metadata": {},
   "outputs": [
    {
     "name": "stdout",
     "output_type": "stream",
     "text": [
      "range(0, 5)\n",
      "<class 'range'>\n"
     ]
    }
   ],
   "source": [
    "#  Range\n",
    "\n",
    "a = range(5)\n",
    "print(a)\n",
    "print(type(a))"
   ]
  },
  {
   "cell_type": "code",
   "execution_count": 25,
   "id": "ac33549b",
   "metadata": {},
   "outputs": [
    {
     "name": "stdout",
     "output_type": "stream",
     "text": [
      "range(1, 10)\n"
     ]
    }
   ],
   "source": [
    "# Creating range of values 1 to 9\n",
    "\n",
    "a = range(1, 10)\n",
    "print(a)\n"
   ]
  },
  {
   "cell_type": "code",
   "execution_count": 26,
   "id": "d454ab4f",
   "metadata": {},
   "outputs": [
    {
     "name": "stdout",
     "output_type": "stream",
     "text": [
      "10\n",
      "11\n",
      "12\n",
      "13\n",
      "14\n"
     ]
    }
   ],
   "source": [
    "r = range(10, 15)\n",
    "for value in r:\n",
    "    print(value)"
   ]
  },
  {
   "cell_type": "markdown",
   "id": "92336c5f",
   "metadata": {},
   "source": [
    "# Python Operators"
   ]
  },
  {
   "cell_type": "code",
   "execution_count": 27,
   "id": "473ddd41",
   "metadata": {},
   "outputs": [
    {
     "data": {
      "text/plain": [
       "30"
      ]
     },
     "execution_count": 27,
     "metadata": {},
     "output_type": "execute_result"
    }
   ],
   "source": [
    "# operators and operands\n",
    "\n",
    "a=10\n",
    "b=20\n",
    "c=a+b\n",
    "c"
   ]
  },
  {
   "cell_type": "code",
   "execution_count": 28,
   "id": "5e420e11",
   "metadata": {},
   "outputs": [
    {
     "name": "stdout",
     "output_type": "stream",
     "text": [
      "18\n",
      "8\n",
      "65\n",
      "2.6\n",
      "3\n",
      "371293\n",
      "2\n"
     ]
    }
   ],
   "source": [
    "#  Arithmetic Operators\n",
    "\n",
    "a=13\n",
    "b=5\n",
    "\n",
    "print(a+b)\n",
    "print(a-b)\n",
    "print(a*b)\n",
    "print(a/b)\n",
    "print(a%b)\n",
    "print(a**b)\n",
    "print(a//b)"
   ]
  },
  {
   "cell_type": "code",
   "execution_count": 29,
   "id": "5bf87990",
   "metadata": {},
   "outputs": [
    {
     "name": "stdout",
     "output_type": "stream",
     "text": [
      "13\n",
      "18\n"
     ]
    }
   ],
   "source": [
    "#  Assignment Operators\n",
    "\n",
    "a=13\n",
    "print(a)\n",
    "\n",
    "a+=5\n",
    "print(a)"
   ]
  },
  {
   "cell_type": "code",
   "execution_count": 30,
   "id": "4b6d05aa",
   "metadata": {},
   "outputs": [
    {
     "name": "stdout",
     "output_type": "stream",
     "text": [
      "10\n",
      "-10\n"
     ]
    }
   ],
   "source": [
    "#Unary Minus Operator\n",
    "\n",
    "a=10\n",
    "print(a)\n",
    "print(-a)"
   ]
  },
  {
   "cell_type": "code",
   "execution_count": 31,
   "id": "c1978c73",
   "metadata": {},
   "outputs": [
    {
     "name": "stdout",
     "output_type": "stream",
     "text": [
      "True\n",
      "True\n",
      "False\n",
      "False\n",
      "False\n",
      "True\n"
     ]
    }
   ],
   "source": [
    "#  Relational Operator\n",
    "\n",
    "a=13\n",
    "b=5\n",
    "\n",
    "print(a>b)\n",
    "print(a>=b)\n",
    "print(a<b)\n",
    "print(a<=b)\n",
    "print(a==b)\n",
    "print(a!=b)"
   ]
  },
  {
   "cell_type": "code",
   "execution_count": 32,
   "id": "772e83c6",
   "metadata": {},
   "outputs": [
    {
     "name": "stdout",
     "output_type": "stream",
     "text": [
      "True\n",
      "True\n",
      "False\n"
     ]
    }
   ],
   "source": [
    "a=True\n",
    "b=False\n",
    "\n",
    "print(a and a)\n",
    "print(a or b)\n",
    "print(not a)"
   ]
  },
  {
   "cell_type": "code",
   "execution_count": 33,
   "id": "1bd9bd48",
   "metadata": {},
   "outputs": [
    {
     "name": "stdout",
     "output_type": "stream",
     "text": [
      "False\n",
      "True\n"
     ]
    }
   ],
   "source": [
    "#  Logical Operator\n",
    "\n",
    "a=1\n",
    "b=2\n",
    "c=3\n",
    "\n",
    "print((a>b)) and (b>c)\n",
    "print((a<b))and(b<c)"
   ]
  },
  {
   "cell_type": "code",
   "execution_count": 34,
   "id": "c113218c",
   "metadata": {},
   "outputs": [
    {
     "name": "stdout",
     "output_type": "stream",
     "text": [
      "True\n",
      "False\n",
      "False\n"
     ]
    }
   ],
   "source": [
    "#  Membership operators ( in,not in)\n",
    "\n",
    "values=[10,20,30]\n",
    "\n",
    "print(20 in values)\n",
    "print(22 in values)\n",
    "print(30 not in values)"
   ]
  },
  {
   "cell_type": "markdown",
   "id": "98f20429",
   "metadata": {},
   "source": [
    "# Input and Output"
   ]
  },
  {
   "cell_type": "code",
   "execution_count": 35,
   "id": "5d326895",
   "metadata": {},
   "outputs": [
    {
     "name": "stdout",
     "output_type": "stream",
     "text": [
      "Enter the name:\n",
      "You enter name as: \n"
     ]
    }
   ],
   "source": [
    "#  input(p)  Function\n",
    "\n",
    "name=input(\"Enter the name:\")\n",
    "print(\"You enter name as:\",name)\n"
   ]
  },
  {
   "cell_type": "code",
   "execution_count": 36,
   "id": "0082dd64",
   "metadata": {},
   "outputs": [
    {
     "name": "stdout",
     "output_type": "stream",
     "text": [
      "Enter the value50\n",
      "Entered value as: 50\n",
      "type is  <class 'str'>\n"
     ]
    }
   ],
   "source": [
    "# Checking return type value for input() fuction\n",
    "\n",
    "value=input(\"Enter the value\")\n",
    "print(\"Entered value as:\",value)\n",
    "\n",
    "print(\"type is \",type(value))"
   ]
  },
  {
   "cell_type": "code",
   "execution_count": 37,
   "id": "04d1965f",
   "metadata": {},
   "outputs": [
    {
     "name": "stdout",
     "output_type": "stream",
     "text": [
      "123\n",
      "<class 'str'>\n",
      "123\n",
      "<class 'int'>\n"
     ]
    }
   ],
   "source": [
    "#  Convert from string to int\n",
    "\n",
    "a=\"123\"\n",
    "print(a)\n",
    "print(type(a))\n",
    "\n",
    "b=int(a)\n",
    "print(b)\n",
    "print(type(b))"
   ]
  },
  {
   "cell_type": "code",
   "execution_count": 38,
   "id": "0ded2f49",
   "metadata": {},
   "outputs": [
    {
     "name": "stdout",
     "output_type": "stream",
     "text": [
      "123.99\n",
      "<class 'str'>\n",
      "123.99\n",
      "<class 'float'>\n"
     ]
    }
   ],
   "source": [
    "#  Converting from string to float data type\n",
    "\n",
    "a=\"123.99\"\n",
    "print(a)\n",
    "print(type(a))\n",
    "\n",
    "b=float(a)\n",
    "print(b)\n",
    "print(type(b))"
   ]
  },
  {
   "cell_type": "code",
   "execution_count": 39,
   "id": "8ebdef55",
   "metadata": {},
   "outputs": [
    {
     "name": "stdout",
     "output_type": "stream",
     "text": [
      "1000.5\n",
      "<class 'float'>\n",
      "1000\n",
      "<class 'int'>\n"
     ]
    }
   ],
   "source": [
    "# Converting the float datatype value into int data type\n",
    "\n",
    "a=1000.5\n",
    "print(a)\n",
    "print(type(a))\n",
    "\n",
    "b=int(a)\n",
    "print(b)\n",
    "print(type(b))"
   ]
  },
  {
   "cell_type": "code",
   "execution_count": 40,
   "id": "2ea135e6",
   "metadata": {},
   "outputs": [
    {
     "name": "stdout",
     "output_type": "stream",
     "text": [
      "Enter First product price:55\n",
      "Enter Second product price:45\n",
      "Total price is: 5545\n"
     ]
    }
   ],
   "source": [
    "#  + operator concatenates/joins two string values\n",
    "\n",
    "p1=input(\"Enter First product price:\")\n",
    "p2=input(\"Enter Second product price:\")\n",
    "\n",
    "\n",
    "print(\"Total price is:\",p1+p2)"
   ]
  },
  {
   "cell_type": "markdown",
   "id": "564e58ed",
   "metadata": {},
   "source": [
    "# FLOW CONTROL"
   ]
  },
  {
   "cell_type": "code",
   "execution_count": 41,
   "id": "fc13e376",
   "metadata": {},
   "outputs": [
    {
     "name": "stdout",
     "output_type": "stream",
     "text": [
      "x==y value is: True\n",
      "If block statement executed \n"
     ]
    }
   ],
   "source": [
    "#  Executing if block statements by using if staement\n",
    "\n",
    "\n",
    "x=1\n",
    "y=1\n",
    "\n",
    "print(\"x==y value is:\",(x==y))\n",
    "if x==y:\n",
    "    print(\"If block statement executed \")"
   ]
  },
  {
   "cell_type": "code",
   "execution_count": 42,
   "id": "c25c479d",
   "metadata": {},
   "outputs": [
    {
     "name": "stdout",
     "output_type": "stream",
     "text": [
      "x==y value is: False\n",
      "out of if block statements\n"
     ]
    }
   ],
   "source": [
    "#  Executing out of if block statements\n",
    "\n",
    "x=1\n",
    "y=2\n",
    "\n",
    "print(\"x==y value is:\",(x==y))\n",
    "if x==y:\n",
    "    print('if block statements executed')\n",
    "    \n",
    "print(\"out of if block statements\")"
   ]
  },
  {
   "cell_type": "code",
   "execution_count": 43,
   "id": "62554daf",
   "metadata": {},
   "outputs": [
    {
     "name": "stdout",
     "output_type": "stream",
     "text": [
      "x==y is : True\n",
      "if block statements executed\n"
     ]
    }
   ],
   "source": [
    "#  Executing if block statements by using if else statement\n",
    "\n",
    "x=1\n",
    "y=1\n",
    "\n",
    "print(\"x==y is :\",(x==y))\n",
    "\n",
    "if x==y:\n",
    "    print(\"if block statements executed\")\n",
    "    \n",
    "else:\n",
    "    print(\"else block statements executed\")\n",
    "    \n",
    "    "
   ]
  },
  {
   "cell_type": "code",
   "execution_count": 44,
   "id": "c47b393e",
   "metadata": {},
   "outputs": [
    {
     "name": "stdout",
     "output_type": "stream",
     "text": [
      "x==y value is: False\n",
      "Else block is executed\n"
     ]
    }
   ],
   "source": [
    "#  Printing the else statement\n",
    "\n",
    "x=1\n",
    "y=2\n",
    "\n",
    "print(\"x==y value is:\",(x==y))\n",
    "\n",
    "if x==y:\n",
    "    print(\"If block is executed\")\n",
    "    \n",
    "else:\n",
    "    \n",
    "    print(\"Else block is executed\")"
   ]
  },
  {
   "cell_type": "code",
   "execution_count": 45,
   "id": "bbd2d45e",
   "metadata": {},
   "outputs": [
    {
     "name": "stdout",
     "output_type": "stream",
     "text": [
      "Enter the values from 0 to 4\n",
      "Enter a number:3\n",
      "You entered: 3\n"
     ]
    }
   ],
   "source": [
    "#  Printing corresponding value by using if,elif, else statement\n",
    "\n",
    "print(\"Enter the values from 0 to 4\")\n",
    "x=int(input(\"Enter a number:\"))\n",
    "\n",
    "if x==0:\n",
    "    print(\"You entered:\",x)\n",
    "elif x==1:\n",
    "    print(\"You entered:\",x)\n",
    "    \n",
    "elif x==2:\n",
    "    print(\"You entered:\",x)\n",
    "    \n",
    "elif x==3:\n",
    "    print(\"You entered:\",x)\n",
    "    \n",
    "elif x==4:\n",
    "    print(\"You entered:\",x)\n",
    "else:    \n",
    "    print(\"Beyond the range than specified\")"
   ]
  },
  {
   "cell_type": "code",
   "execution_count": 46,
   "id": "edba7c83",
   "metadata": {},
   "outputs": [
    {
     "name": "stdout",
     "output_type": "stream",
     "text": [
      "10\n",
      "20\n",
      "30\n",
      "Daniel\n"
     ]
    }
   ],
   "source": [
    "#  For Loop\n",
    "# using for loop printing value list\n",
    "\n",
    "values=[10,20,30,\"Daniel\"]\n",
    "for value in values:\n",
    "    print(value)"
   ]
  },
  {
   "cell_type": "code",
   "execution_count": 47,
   "id": "74813ca8",
   "metadata": {},
   "outputs": [
    {
     "name": "stdout",
     "output_type": "stream",
     "text": [
      "1\n",
      "2\n",
      "3\n",
      "4\n",
      "5\n",
      "end\n"
     ]
    }
   ],
   "source": [
    "# While loop\n",
    "\n",
    "#  Printing numbers from 1 to 5 by using while loop\n",
    "\n",
    "x=1\n",
    "while x<=5:\n",
    "    print(x)\n",
    "    x=x+1\n",
    "    \n",
    "print('end')"
   ]
  },
  {
   "cell_type": "code",
   "execution_count": 48,
   "id": "b3586005",
   "metadata": {},
   "outputs": [
    {
     "name": "stdout",
     "output_type": "stream",
     "text": [
      "x= 1\n",
      "x= 2\n",
      "x= 3\n",
      "x= 4\n",
      "x= 5\n",
      "x= 6\n",
      "x= 7\n",
      "x= 8\n",
      "x= 9\n",
      "x= 10\n",
      "Out of loop\n"
     ]
    }
   ],
   "source": [
    "#  Break statement\n",
    "\n",
    "x=1\n",
    "while x<=10:\n",
    "    print(\"x=\",x)\n",
    "    x=x+1\n",
    "    \n",
    "print(\"Out of loop\")\n"
   ]
  },
  {
   "cell_type": "code",
   "execution_count": 49,
   "id": "861edbca",
   "metadata": {},
   "outputs": [
    {
     "name": "stdout",
     "output_type": "stream",
     "text": [
      "x= 1\n",
      "x= 2\n",
      "x= 3\n",
      "x= 4\n",
      "Out of loop\n"
     ]
    }
   ],
   "source": [
    "# Printing just 1 to 5 by using while loop and break\n",
    "\n",
    "x=1\n",
    "while x<=10:\n",
    "    print(\"x=\",x)\n",
    "    x=x+1\n",
    "    if x==5:\n",
    "        break\n",
    "        \n",
    "print(\"Out of loop\")"
   ]
  },
  {
   "cell_type": "code",
   "execution_count": 52,
   "id": "b995867e",
   "metadata": {},
   "outputs": [
    {
     "ename": "SyntaxError",
     "evalue": "'break' outside loop (2387416904.py, line 7)",
     "output_type": "error",
     "traceback": [
      "\u001b[1;36m  Cell \u001b[1;32mIn[52], line 7\u001b[1;36m\u001b[0m\n\u001b[1;33m    break\u001b[0m\n\u001b[1;37m    ^\u001b[0m\n\u001b[1;31mSyntaxError\u001b[0m\u001b[1;31m:\u001b[0m 'break' outside loop\n"
     ]
    }
   ],
   "source": [
    "#  Break without loop.... Getting Syntax error\n",
    "\n",
    "x=1\n",
    "\n",
    "if x<=10:\n",
    "    print(x)\n",
    "    break"
   ]
  },
  {
   "cell_type": "code",
   "execution_count": 53,
   "id": "f8811f28",
   "metadata": {},
   "outputs": [
    {
     "name": "stdout",
     "output_type": "stream",
     "text": [
      "10\n",
      "20\n",
      "700\n",
      "50\n",
      "60\n"
     ]
    }
   ],
   "source": [
    "#  Continue satement\n",
    "\n",
    "cart=[10,20,500,700,50,60]\n",
    "\n",
    "for item in cart:\n",
    "    if item ==500:\n",
    "        continue\n",
    "    print(item)"
   ]
  },
  {
   "cell_type": "code",
   "execution_count": 55,
   "id": "c0418475",
   "metadata": {},
   "outputs": [],
   "source": [
    "# Pass statement     #  dont get output\n",
    "\n",
    "def upcoming_sales():\n",
    "    pass\n",
    "\n",
    "upcoming_sales()"
   ]
  },
  {
   "cell_type": "markdown",
   "id": "98df381e",
   "metadata": {},
   "source": [
    "# Function Part 1"
   ]
  },
  {
   "cell_type": "code",
   "execution_count": 56,
   "id": "96d12f50",
   "metadata": {},
   "outputs": [],
   "source": [
    "#  Creating a function\n",
    "\n",
    "def display():\n",
    "    print(\"Welcome to function\")"
   ]
  },
  {
   "cell_type": "code",
   "execution_count": 58,
   "id": "42877e04",
   "metadata": {},
   "outputs": [
    {
     "name": "stdout",
     "output_type": "stream",
     "text": [
      "Welcome to function\n"
     ]
    }
   ],
   "source": [
    "# calling a function\n",
    "\n",
    "\n",
    "    \n",
    "#  Call the finction\n",
    "display()"
   ]
  },
  {
   "cell_type": "code",
   "execution_count": 59,
   "id": "f628110c",
   "metadata": {},
   "outputs": [
    {
     "name": "stdout",
     "output_type": "stream",
     "text": [
      "Welcome to function\n",
      "Welcome to function\n"
     ]
    }
   ],
   "source": [
    "#  Calling function multiple times\n",
    "\n",
    "display()\n",
    "display()"
   ]
  },
  {
   "cell_type": "code",
   "execution_count": 60,
   "id": "89a09836",
   "metadata": {},
   "outputs": [
    {
     "name": "stdout",
     "output_type": "stream",
     "text": [
      "This is first Function\n",
      "This is seconf function\n"
     ]
    }
   ],
   "source": [
    "#  Creating two functions and calling them\n",
    "\n",
    "def first():\n",
    "    print(\"This is first Function\")\n",
    "    \n",
    "def second():\n",
    "    print(\"This is seconf function\")\n",
    "    \n",
    "first()\n",
    "second()"
   ]
  },
  {
   "cell_type": "code",
   "execution_count": 64,
   "id": "77d19440",
   "metadata": {},
   "outputs": [
    {
     "name": "stdout",
     "output_type": "stream",
     "text": [
      "first function\n",
      "second function\n"
     ]
    }
   ],
   "source": [
    "# Creating two functions\n",
    "\n",
    "def m1():\n",
    "    print(\"first function\")\n",
    "def m2():\n",
    "    print(\"second function\")\n",
    "    \n",
    "m1()\n",
    "m2()"
   ]
  },
  {
   "cell_type": "code",
   "execution_count": 62,
   "id": "80dec94b",
   "metadata": {},
   "outputs": [
    {
     "name": "stdout",
     "output_type": "stream",
     "text": [
      "first function\n"
     ]
    }
   ],
   "source": [
    "m1()"
   ]
  },
  {
   "cell_type": "code",
   "execution_count": 66,
   "id": "c5350d2e",
   "metadata": {},
   "outputs": [
    {
     "name": "stdout",
     "output_type": "stream",
     "text": [
      "Welcome to the function which having no parameters\n"
     ]
    }
   ],
   "source": [
    "#  Function without parameter\n",
    "\n",
    "def display():\n",
    "    print(\"Welcome to the function which having no parameters\")\n",
    "    \n",
    "display()"
   ]
  },
  {
   "cell_type": "code",
   "execution_count": 67,
   "id": "7b61087a",
   "metadata": {},
   "outputs": [],
   "source": [
    "#  Parameterized function"
   ]
  },
  {
   "cell_type": "code",
   "execution_count": 68,
   "id": "55b6a722",
   "metadata": {},
   "outputs": [
    {
     "name": "stdout",
     "output_type": "stream",
     "text": [
      "One parameterised function: 10\n"
     ]
    }
   ],
   "source": [
    "#  One parameterized function\n",
    "\n",
    "def testing(a):\n",
    "    print(\"One parameterised function:\",a)\n",
    "    \n",
    "testing(10)"
   ]
  },
  {
   "cell_type": "code",
   "execution_count": 69,
   "id": "d2116f87",
   "metadata": {},
   "outputs": [
    {
     "name": "stdout",
     "output_type": "stream",
     "text": [
      "Enter a value:50\n",
      "One parameterised function: 50\n"
     ]
    }
   ],
   "source": [
    "#  One parameterised function\n",
    "\n",
    "x=input('Enter a value:')\n",
    "testing(x)"
   ]
  },
  {
   "cell_type": "code",
   "execution_count": 70,
   "id": "db90ca07",
   "metadata": {},
   "outputs": [
    {
     "name": "stdout",
     "output_type": "stream",
     "text": [
      "Addition of two values= 30\n"
     ]
    }
   ],
   "source": [
    "#  two parameterised function\n",
    "\n",
    "def addition(a,b):\n",
    "    print(\"Addition of two values=\",(a+b))\n",
    "    \n",
    "addition(10,20)"
   ]
  },
  {
   "cell_type": "code",
   "execution_count": 71,
   "id": "2e934ab6",
   "metadata": {},
   "outputs": [
    {
     "name": "stdout",
     "output_type": "stream",
     "text": [
      "Hello\n"
     ]
    },
    {
     "ename": "SyntaxError",
     "evalue": "'return' outside function (3968301138.py, line 4)",
     "output_type": "error",
     "traceback": [
      "\u001b[1;36m  Cell \u001b[1;32mIn[71], line 4\u001b[1;36m\u001b[0m\n\u001b[1;33m    return 100\u001b[0m\n\u001b[1;37m    ^\u001b[0m\n\u001b[1;31mSyntaxError\u001b[0m\u001b[1;31m:\u001b[0m 'return' outside function\n"
     ]
    }
   ],
   "source": [
    "#  Return keyword in python #  error\n",
    "\n",
    "print('Hello')\n",
    "return 100\n"
   ]
  },
  {
   "cell_type": "code",
   "execution_count": 72,
   "id": "9d11f52d",
   "metadata": {},
   "outputs": [
    {
     "name": "stdout",
     "output_type": "stream",
     "text": [
      "My bank balance is:\n"
     ]
    }
   ],
   "source": [
    "#  Function without return\n",
    "\n",
    "def balance():\n",
    "    print(\"My bank balance is:\")\n",
    "balance()"
   ]
  },
  {
   "cell_type": "code",
   "execution_count": 76,
   "id": "e2da6f79",
   "metadata": {},
   "outputs": [
    {
     "name": "stdout",
     "output_type": "stream",
     "text": [
      "My bank balance is: \n"
     ]
    },
    {
     "data": {
      "text/plain": [
       "100"
      ]
     },
     "execution_count": 76,
     "metadata": {},
     "output_type": "execute_result"
    }
   ],
   "source": [
    "#  Function with return\n",
    "\n",
    "def balance():\n",
    "    print(\"My bank balance is: \")\n",
    "    return 100\n",
    "balance()"
   ]
  },
  {
   "cell_type": "code",
   "execution_count": 77,
   "id": "a4286189",
   "metadata": {},
   "outputs": [
    {
     "name": "stdout",
     "output_type": "stream",
     "text": [
      "My bank balance is:\n",
      "100\n"
     ]
    }
   ],
   "source": [
    "def balance():\n",
    "    print(\"My bank balance is:\")\n",
    "    return 100\n",
    "\n",
    "b=balance()\n",
    "print(b)"
   ]
  },
  {
   "cell_type": "code",
   "execution_count": 2,
   "id": "b47e0783",
   "metadata": {},
   "outputs": [
    {
     "name": "stdout",
     "output_type": "stream",
     "text": [
      "Balance is: 0\n"
     ]
    }
   ],
   "source": [
    "# Function with return statement\n",
    "\n",
    "def balance():\n",
    "    return 0\n",
    "    \n",
    "b=balance()\n",
    "\n",
    "if b==0:\n",
    "    print(\"Balance is:\",b)\n",
    "    \n",
    "elif b<=0:\n",
    "    print(\"Balance is:\",b,\"negative please deposit\")\n",
    "    \n",
    "else:\n",
    "    print(\"Balance is :\",b)"
   ]
  },
  {
   "cell_type": "code",
   "execution_count": 3,
   "id": "91ed4217",
   "metadata": {},
   "outputs": [
    {
     "name": "stdout",
     "output_type": "stream",
     "text": [
      "balance is : -50 It is nehative please deposit\n"
     ]
    }
   ],
   "source": [
    "#  Function with return statement\n",
    "\n",
    "def balance():\n",
    "    return-50\n",
    "b=balance()\n",
    "\n",
    "if b==0:\n",
    "    print(\"Balance is:\",b)\n",
    "    \n",
    "elif b<=0:\n",
    "    print(\"balance is :\",b,\"It is nehative please deposit\")\n",
    "    \n",
    "else:\n",
    "    print(\"Balance is:\",b)"
   ]
  },
  {
   "cell_type": "code",
   "execution_count": 5,
   "id": "c86c48e8",
   "metadata": {},
   "outputs": [
    {
     "name": "stdout",
     "output_type": "stream",
     "text": [
      "My bank balance is :\n",
      "100\n"
     ]
    }
   ],
   "source": [
    "#  Below program also valid but not recommended\n",
    "\n",
    "def balance():\n",
    "    print(\"My bank balance is :\")\n",
    "    return 100\n",
    "\n",
    "print(balance())"
   ]
  },
  {
   "cell_type": "code",
   "execution_count": 6,
   "id": "30fdab5c",
   "metadata": {},
   "outputs": [
    {
     "name": "stdout",
     "output_type": "stream",
     "text": [
      "This is function returning nothing\n",
      "None\n"
     ]
    }
   ],
   "source": [
    "#  return vs None\n",
    "\n",
    "def m1():\n",
    "    print(\"This is function returning nothing\")\n",
    "    \n",
    "x=m1()\n",
    "print(x)"
   ]
  },
  {
   "cell_type": "code",
   "execution_count": 7,
   "id": "c3eac4c5",
   "metadata": {},
   "outputs": [
    {
     "name": "stdout",
     "output_type": "stream",
     "text": [
      "First value is : 10\n",
      "Second value is: 11\n"
     ]
    }
   ],
   "source": [
    "#  define a function which can return multiple values\n",
    "\n",
    "def m1():\n",
    "    a=10\n",
    "    b=11\n",
    "    return a,b\n",
    "\n",
    "x,y=m1()\n",
    "\n",
    "print(\"First value is :\",x)\n",
    "print(\"Second value is:\",y)"
   ]
  },
  {
   "cell_type": "code",
   "execution_count": 8,
   "id": "3e60cdcf",
   "metadata": {},
   "outputs": [
    {
     "name": "stdout",
     "output_type": "stream",
     "text": [
      "all values : (10, 11, 12)\n"
     ]
    }
   ],
   "source": [
    "def m1():\n",
    "    a=10\n",
    "    b=11\n",
    "    c=12\n",
    "    return a,b,c\n",
    "\n",
    "x=m1()\n",
    "print(\"all values :\",x)\n",
    "\n"
   ]
  },
  {
   "cell_type": "code",
   "execution_count": 9,
   "id": "0c9bf327",
   "metadata": {},
   "outputs": [
    {
     "name": "stdout",
     "output_type": "stream",
     "text": [
      "Addition of values is 60\n"
     ]
    }
   ],
   "source": [
    "#  A function with parameters and return type\n",
    "\n",
    "\n",
    "def add(x,y,z):\n",
    "    result=x+y+z\n",
    "    return result\n",
    "\n",
    "r=add(10,20,30)\n",
    "\n",
    "print(\"Addition of values is\",r)"
   ]
  },
  {
   "cell_type": "markdown",
   "id": "7908376c",
   "metadata": {},
   "source": [
    "#  Function part 2 \n",
    "\n",
    "\n",
    "Argument"
   ]
  },
  {
   "cell_type": "code",
   "execution_count": 17,
   "id": "2a5e3aa3",
   "metadata": {},
   "outputs": [
    {
     "name": "stdout",
     "output_type": "stream",
     "text": [
      "25\n"
     ]
    }
   ],
   "source": [
    "#  Formal and actual Arguments\n",
    "\n",
    "def add(a,b):\n",
    "    c=a+b\n",
    "    print(c)\n",
    "    \n",
    "# call the function\n",
    "\n",
    "x=10\n",
    "y=15\n",
    "\n",
    "add(x,y)"
   ]
  },
  {
   "cell_type": "code",
   "execution_count": 18,
   "id": "eb05cff1",
   "metadata": {},
   "outputs": [
    {
     "name": "stdout",
     "output_type": "stream",
     "text": [
      "10\n"
     ]
    }
   ],
   "source": [
    "#  Positional Argument\n",
    "\n",
    "def sub(x,y):\n",
    "    print(x-y)\n",
    "    \n",
    "#  calling function\n",
    "\n",
    "sub(20,10)"
   ]
  },
  {
   "cell_type": "code",
   "execution_count": 19,
   "id": "eb990733",
   "metadata": {},
   "outputs": [
    {
     "ename": "TypeError",
     "evalue": "sub() takes 2 positional arguments but 3 were given",
     "output_type": "error",
     "traceback": [
      "\u001b[1;31m---------------------------------------------------------------------------\u001b[0m",
      "\u001b[1;31mTypeError\u001b[0m                                 Traceback (most recent call last)",
      "Cell \u001b[1;32mIn[19], line 8\u001b[0m\n\u001b[0;32m      4\u001b[0m     \u001b[38;5;28mprint\u001b[39m(x\u001b[38;5;241m-\u001b[39my)\n\u001b[0;32m      6\u001b[0m \u001b[38;5;66;03m#calling function\u001b[39;00m\n\u001b[1;32m----> 8\u001b[0m \u001b[43msub\u001b[49m\u001b[43m(\u001b[49m\u001b[38;5;241;43m10\u001b[39;49m\u001b[43m,\u001b[49m\u001b[38;5;241;43m20\u001b[39;49m\u001b[43m,\u001b[49m\u001b[38;5;241;43m30\u001b[39;49m\u001b[43m)\u001b[49m\n",
      "\u001b[1;31mTypeError\u001b[0m: sub() takes 2 positional arguments but 3 were given"
     ]
    }
   ],
   "source": [
    "#  error positional Argument\n",
    "\n",
    "def sub (x,y):\n",
    "    print(x-y)\n",
    "    \n",
    "#calling function\n",
    "\n",
    "sub(10,20,30)"
   ]
  },
  {
   "cell_type": "code",
   "execution_count": 20,
   "id": "21e6325f",
   "metadata": {},
   "outputs": [
    {
     "name": "stdout",
     "output_type": "stream",
     "text": [
      "Product is: bangles\n",
      "cost is: 20000\n"
     ]
    }
   ],
   "source": [
    "#  Keyword Argument\n",
    "\n",
    "def cart(product,price):\n",
    "    print(\"Product is:\",product)\n",
    "    print(\"cost is:\",price)\n",
    "    \n",
    "cart(product='bangles',price=20000)\n",
    "\n"
   ]
  },
  {
   "cell_type": "code",
   "execution_count": 21,
   "id": "f948847e",
   "metadata": {},
   "outputs": [
    {
     "name": "stdout",
     "output_type": "stream",
     "text": [
      "product is: shirt\n",
      "cost is: 1200\n"
     ]
    }
   ],
   "source": [
    "def cart(product,price):\n",
    "    print(\"product is:\",product)\n",
    "    print(\"cost is:\",price)\n",
    "    \n",
    "cart(price=1200,product=\"shirt\")"
   ]
  },
  {
   "cell_type": "code",
   "execution_count": 22,
   "id": "d7707fb3",
   "metadata": {},
   "outputs": [
    {
     "name": "stdout",
     "output_type": "stream",
     "text": [
      "Product is: pen\n",
      "cost is: 40.0\n"
     ]
    }
   ],
   "source": [
    "# Default Argument\n",
    "\n",
    "def cart (product,price=40.0):\n",
    "    print(\"Product is:\",product)\n",
    "    print(\"cost is:\",price)\n",
    "    \n",
    "# calling function\n",
    "\n",
    "cart(product='pen')\n"
   ]
  },
  {
   "cell_type": "code",
   "execution_count": 24,
   "id": "5da169b1",
   "metadata": {},
   "outputs": [
    {
     "name": "stdout",
     "output_type": "stream",
     "text": [
      "Product is: shirt\n",
      "cost is: 500\n"
     ]
    }
   ],
   "source": [
    "def cart(product, price = 40.0):\n",
    "    print(\"Product is:\", product)\n",
    "    print(\"cost is:\", price)\n",
    "cart(price = 500, product = \"shirt\")"
   ]
  },
  {
   "cell_type": "code",
   "execution_count": 26,
   "id": "779d917a",
   "metadata": {},
   "outputs": [
    {
     "name": "stdout",
     "output_type": "stream",
     "text": [
      "10\n"
     ]
    }
   ],
   "source": [
    "# variable length argument (*)\n",
    "\n",
    "def m(x):\n",
    "    print(x)\n",
    "        \n",
    "m(10)"
   ]
  },
  {
   "cell_type": "code",
   "execution_count": 27,
   "id": "f069f917",
   "metadata": {},
   "outputs": [
    {
     "ename": "TypeError",
     "evalue": "m() takes 1 positional argument but 2 were given",
     "output_type": "error",
     "traceback": [
      "\u001b[1;31m---------------------------------------------------------------------------\u001b[0m",
      "\u001b[1;31mTypeError\u001b[0m                                 Traceback (most recent call last)",
      "Cell \u001b[1;32mIn[27], line 6\u001b[0m\n\u001b[0;32m      3\u001b[0m \u001b[38;5;28;01mdef\u001b[39;00m \u001b[38;5;21mm\u001b[39m(x):\n\u001b[0;32m      4\u001b[0m     \u001b[38;5;28mprint\u001b[39m(x)\n\u001b[1;32m----> 6\u001b[0m \u001b[43mm\u001b[49m\u001b[43m(\u001b[49m\u001b[38;5;241;43m10\u001b[39;49m\u001b[43m,\u001b[49m\u001b[38;5;241;43m20\u001b[39;49m\u001b[43m)\u001b[49m\n",
      "\u001b[1;31mTypeError\u001b[0m: m() takes 1 positional argument but 2 were given"
     ]
    }
   ],
   "source": [
    "#  Variable length argument(error)\n",
    "\n",
    "def m(x):\n",
    "    print(x)\n",
    "    \n",
    "m(10,20)"
   ]
  },
  {
   "cell_type": "code",
   "execution_count": 30,
   "id": "b7ff2192",
   "metadata": {},
   "outputs": [
    {
     "name": "stdout",
     "output_type": "stream",
     "text": [
      "(10, 20)\n"
     ]
    }
   ],
   "source": [
    "#  variable length argument\n",
    "\n",
    "\n",
    "def m(*x):\n",
    "    print(x)\n",
    "    \n",
    "m(10,20)"
   ]
  },
  {
   "cell_type": "code",
   "execution_count": 31,
   "id": "0ad0f5f8",
   "metadata": {},
   "outputs": [
    {
     "name": "stdout",
     "output_type": "stream",
     "text": [
      "(10, 20, 30)\n"
     ]
    }
   ],
   "source": [
    "\n",
    "def m(*x):\n",
    "    print(x)\n",
    "    \n",
    "m(10,20,30)"
   ]
  },
  {
   "cell_type": "markdown",
   "id": "8e6cf346",
   "metadata": {},
   "source": [
    "# Anonymous Function OR Lambdas\n"
   ]
  },
  {
   "cell_type": "code",
   "execution_count": 1,
   "id": "fad7849a",
   "metadata": {},
   "outputs": [
    {
     "name": "stdout",
     "output_type": "stream",
     "text": [
      "16\n"
     ]
    }
   ],
   "source": [
    "#  anonymous Function\n",
    "\n",
    "s= lambda a:a*a\n",
    "\n",
    "x=s(4)\n",
    "print(x)"
   ]
  },
  {
   "cell_type": "code",
   "execution_count": 2,
   "id": "3af006eb",
   "metadata": {},
   "outputs": [
    {
     "name": "stdout",
     "output_type": "stream",
     "text": [
      "4\n"
     ]
    }
   ],
   "source": [
    "#  A simple differrence between normal and lambda function\n",
    "\n",
    "def square(t):\n",
    "    return t*t\n",
    "\n",
    "s=square(2)\n",
    "print(s)"
   ]
  },
  {
   "cell_type": "code",
   "execution_count": null,
   "id": "bc97245a",
   "metadata": {},
   "outputs": [],
   "source": [
    "#  To find sum of two values by usng normal function\n",
    "\n",
    "def add(x,y):\n",
    "    return x+y\n",
    "\n",
    "b=add(2,3)\n",
    "print(b)"
   ]
  },
  {
   "cell_type": "code",
   "execution_count": 4,
   "id": "e2e99f7e",
   "metadata": {},
   "outputs": [
    {
     "name": "stdout",
     "output_type": "stream",
     "text": [
      "The sum of the values is: 3\n"
     ]
    }
   ],
   "source": [
    "#  Two find sum of two values by using anonymous function\n",
    "\n",
    "add=lambda x,y:x+y\n",
    "\n",
    "result=add(1,2)\n",
    "print(\"The sum of the values is:\",result)"
   ]
  },
  {
   "cell_type": "code",
   "execution_count": 6,
   "id": "e111b297",
   "metadata": {},
   "outputs": [
    {
     "name": "stdout",
     "output_type": "stream",
     "text": [
      "Without GST items cost [100, 200, 300, 400]\n",
      "With GST iyems costs: [110, 210, 310, 410]\n"
     ]
    }
   ],
   "source": [
    "#  map(p1,p2) function\n",
    "\n",
    "without_gst_cost=[100,200,300,400]\n",
    "with_gst_cost=map(lambda x:x+10, without_gst_cost)\n",
    "\n",
    "x=list(with_gst_cost)\n",
    "print(\"Without GST items cost\", without_gst_cost)\n",
    "print(\"With GST iyems costs:\",x)"
   ]
  },
  {
   "cell_type": "markdown",
   "id": "202ecc84",
   "metadata": {},
   "source": [
    "# LIST  Data Structure"
   ]
  },
  {
   "cell_type": "code",
   "execution_count": 1,
   "id": "d2bb262f",
   "metadata": {},
   "outputs": [
    {
     "name": "stdout",
     "output_type": "stream",
     "text": [
      "[]\n",
      "<class 'list'>\n"
     ]
    }
   ],
   "source": [
    "#  Creatinf list\n",
    "\n",
    "a=[]\n",
    "print(a)\n",
    "print(type(a))"
   ]
  },
  {
   "cell_type": "code",
   "execution_count": 2,
   "id": "f463c07f",
   "metadata": {},
   "outputs": [
    {
     "data": {
      "text/plain": [
       "[10, 20, 30, 40]"
      ]
     },
     "execution_count": 2,
     "metadata": {},
     "output_type": "execute_result"
    }
   ],
   "source": [
    "#  Creating list with same type of elements\n",
    "\n",
    "numbers=[10,20,30,40]\n",
    "\n",
    "numbers"
   ]
  },
  {
   "cell_type": "code",
   "execution_count": 3,
   "id": "cbd90a80",
   "metadata": {},
   "outputs": [
    {
     "name": "stdout",
     "output_type": "stream",
     "text": [
      "[10, 20, 30, 40, 10, 20, 30, 40]\n"
     ]
    }
   ],
   "source": [
    "# Creating list with same type of elements with duplicates \n",
    "\n",
    "numbers=[10,20,30,40,10,20,30,40]\n",
    "print(numbers)"
   ]
  },
  {
   "cell_type": "code",
   "execution_count": 4,
   "id": "8ddd4e3e",
   "metadata": {},
   "outputs": [
    {
     "data": {
      "text/plain": [
       "['Daniel', 10, 35.9]"
      ]
     },
     "execution_count": 4,
     "metadata": {},
     "output_type": "execute_result"
    }
   ],
   "source": [
    "#  Creating list with different type of elements\n",
    "\n",
    "student_info=[\"Daniel\",10,35.9]\n",
    "student_info"
   ]
  },
  {
   "cell_type": "code",
   "execution_count": 5,
   "id": "cdf25485",
   "metadata": {},
   "outputs": [
    {
     "name": "stdout",
     "output_type": "stream",
     "text": [
      "[0, 1, 2, 3, 4, 5, 6, 7, 8, 9]\n"
     ]
    }
   ],
   "source": [
    "# Creating list by using list(p) predefined method\n",
    "\n",
    "r=range(0,10)\n",
    "a=list(r)\n",
    "print(a)"
   ]
  },
  {
   "cell_type": "code",
   "execution_count": 7,
   "id": "a1410be0",
   "metadata": {},
   "outputs": [
    {
     "name": "stdout",
     "output_type": "stream",
     "text": [
      "[1, 2, 3, 4, 5]\n",
      "Before modifying a[o]: 1\n",
      "After modifying a[0]: 20\n",
      "[20, 2, 3, 4, 5]\n"
     ]
    }
   ],
   "source": [
    "# List having mutable nature\n",
    "\n",
    "a=[1,2,3,4,5]\n",
    "print(a)\n",
    "print(\"Before modifying a[o]:\",a[0])\n",
    "\n",
    "a[0]=20\n",
    "\n",
    "print(\"After modifying a[0]:\",a[0])\n",
    "\n",
    "print(a)"
   ]
  },
  {
   "cell_type": "code",
   "execution_count": 9,
   "id": "a3788f3b",
   "metadata": {},
   "outputs": [
    {
     "name": "stdout",
     "output_type": "stream",
     "text": [
      "['Daniel', 'Akshay', 'Prasad', 'Ramesh']\n",
      "Daniel\n",
      "Prasad\n"
     ]
    }
   ],
   "source": [
    "#  Accessing element from list\n",
    "\n",
    "names=[\"Daniel\",\"Akshay\",\"Prasad\",\"Ramesh\"]\n",
    "\n",
    "print(names)\n",
    "\n",
    "print(names[0])\n",
    "print(names[2])\n"
   ]
  },
  {
   "cell_type": "markdown",
   "id": "5d39fde6",
   "metadata": {},
   "source": [
    "# TUPLE data Structure"
   ]
  },
  {
   "cell_type": "code",
   "execution_count": 1,
   "id": "87929ebf",
   "metadata": {},
   "outputs": [
    {
     "name": "stdout",
     "output_type": "stream",
     "text": [
      "(10, 20, 30, 40, 50)\n",
      "<class 'tuple'>\n"
     ]
    }
   ],
   "source": [
    "#  Tuple having same type of objects\n",
    "\n",
    "employee_ids=(10,20,30,40,50)\n",
    "print(employee_ids)\n",
    "print(type(employee_ids))"
   ]
  },
  {
   "cell_type": "code",
   "execution_count": 3,
   "id": "6943291b",
   "metadata": {},
   "outputs": [
    {
     "name": "stdout",
     "output_type": "stream",
     "text": [
      "9\n",
      "<class 'int'>\n"
     ]
    }
   ],
   "source": [
    "#  Single value tuple\n",
    "\n",
    "n=(9)\n",
    "print(n)\n",
    "print(type(n))"
   ]
  },
  {
   "cell_type": "code",
   "execution_count": 5,
   "id": "d535aca9",
   "metadata": {},
   "outputs": [
    {
     "name": "stdout",
     "output_type": "stream",
     "text": [
      "Daniel\n",
      "<class 'str'>\n"
     ]
    }
   ],
   "source": [
    "#  A Single value with tuple syntax but not tuple\n",
    "\n",
    "name=(\"Daniel\")\n",
    "\n",
    "print(name)\n",
    "print(type(name))"
   ]
  },
  {
   "cell_type": "code",
   "execution_count": 6,
   "id": "4564957b",
   "metadata": {},
   "outputs": [
    {
     "name": "stdout",
     "output_type": "stream",
     "text": [
      "<class 'tuple'>\n"
     ]
    }
   ],
   "source": [
    "#  Tuple single value with comma seperator then its tuple\n",
    "\n",
    "name=(\"Daniel\",)\n",
    "print(type(name))"
   ]
  },
  {
   "cell_type": "code",
   "execution_count": 7,
   "id": "dca7552d",
   "metadata": {},
   "outputs": [
    {
     "name": "stdout",
     "output_type": "stream",
     "text": [
      "(10, 20, 30, 40, 50)\n",
      "<class 'tuple'>\n"
     ]
    }
   ],
   "source": [
    "#  Paremthesis simbol is optional while craeting tuple\n",
    "\n",
    "ids=10,20,30,40,50\n",
    "print(ids)\n",
    "print(type(ids))"
   ]
  },
  {
   "cell_type": "code",
   "execution_count": 8,
   "id": "cce761a1",
   "metadata": {},
   "outputs": [
    {
     "name": "stdout",
     "output_type": "stream",
     "text": [
      "(11, 12, 13, 'aaaa')\n"
     ]
    }
   ],
   "source": [
    "#  Tuple with mix values\n",
    "t=(11,12,13,\"aaaa\")\n",
    "\n",
    "print(t)"
   ]
  },
  {
   "cell_type": "code",
   "execution_count": 9,
   "id": "2ff2c98b",
   "metadata": {},
   "outputs": [
    {
     "name": "stdout",
     "output_type": "stream",
     "text": [
      "(11, 22, 33)\n"
     ]
    }
   ],
   "source": [
    "#  Creating tuple by using tuple function\n",
    "\n",
    "a=[11,22,33]\n",
    "t=tuple(a)\n",
    "print(t)"
   ]
  },
  {
   "cell_type": "code",
   "execution_count": 10,
   "id": "6c44a52b",
   "metadata": {},
   "outputs": [
    {
     "name": "stdout",
     "output_type": "stream",
     "text": [
      "10\n",
      "60\n"
     ]
    }
   ],
   "source": [
    "#  Accessing elements of the tuple\n",
    "\n",
    "t=(10,20,30,40,50,60)\n",
    "print(t[0])\n",
    "print(t[-1])"
   ]
  },
  {
   "cell_type": "code",
   "execution_count": 13,
   "id": "42aa8b82",
   "metadata": {},
   "outputs": [
    {
     "name": "stdout",
     "output_type": "stream",
     "text": [
      "(30, 40, 50)\n",
      "(30, 40, 50, 60)\n",
      "(10, 30, 50)\n"
     ]
    }
   ],
   "source": [
    "#  Acccessing tuple by using slicing\n",
    "\n",
    "t = (10, 20, 30, 40, 50, 60) \n",
    " \n",
    "print(t[2:5]) \n",
    "print(t[2:100]) \n",
    "print(t[::2])\n"
   ]
  },
  {
   "cell_type": "code",
   "execution_count": 14,
   "id": "8a386a63",
   "metadata": {},
   "outputs": [
    {
     "name": "stdout",
     "output_type": "stream",
     "text": [
      "20\n"
     ]
    },
    {
     "ename": "TypeError",
     "evalue": "'tuple' object does not support item assignment",
     "output_type": "error",
     "traceback": [
      "\u001b[1;31m---------------------------------------------------------------------------\u001b[0m",
      "\u001b[1;31mTypeError\u001b[0m                                 Traceback (most recent call last)",
      "Cell \u001b[1;32mIn[14], line 5\u001b[0m\n\u001b[0;32m      3\u001b[0m t \u001b[38;5;241m=\u001b[39m (\u001b[38;5;241m10\u001b[39m, \u001b[38;5;241m20\u001b[39m, \u001b[38;5;241m30\u001b[39m, \u001b[38;5;241m40\u001b[39m)\n\u001b[0;32m      4\u001b[0m \u001b[38;5;28mprint\u001b[39m(t[\u001b[38;5;241m1\u001b[39m])\n\u001b[1;32m----> 5\u001b[0m t[\u001b[38;5;241m1\u001b[39m] \u001b[38;5;241m=\u001b[39m \u001b[38;5;241m70\u001b[39m\n",
      "\u001b[1;31mTypeError\u001b[0m: 'tuple' object does not support item assignment"
     ]
    }
   ],
   "source": [
    "#Prove tuple having immutable nature\n",
    "\n",
    "t = (10, 20, 30, 40)\n",
    "print(t[1])\n",
    "t[1] = 70"
   ]
  },
  {
   "cell_type": "code",
   "execution_count": 15,
   "id": "ab00af89",
   "metadata": {},
   "outputs": [
    {
     "name": "stdout",
     "output_type": "stream",
     "text": [
      "3\n"
     ]
    }
   ],
   "source": [
    "#  cont(p) method\n",
    "\n",
    "t=(10,20,10,30,10)\n",
    "print(t.count(10))"
   ]
  },
  {
   "cell_type": "code",
   "execution_count": 18,
   "id": "589a34ad",
   "metadata": {},
   "outputs": [
    {
     "name": "stdout",
     "output_type": "stream",
     "text": [
      "2\n"
     ]
    }
   ],
   "source": [
    "#  index(p) method\n",
    "\n",
    "t=(10,20,30,10)\n",
    "print(t.index(30))"
   ]
  },
  {
   "cell_type": "markdown",
   "id": "f827167a",
   "metadata": {},
   "source": [
    "# SET data Structure"
   ]
  },
  {
   "cell_type": "code",
   "execution_count": 19,
   "id": "24c7f9d3",
   "metadata": {},
   "outputs": [
    {
     "name": "stdout",
     "output_type": "stream",
     "text": [
      "{10, 20, 30}\n",
      "<class 'set'>\n"
     ]
    }
   ],
   "source": [
    "#  Creating same type of elements by using set\n",
    "\n",
    "s={10,20,30}\n",
    "print(s)\n",
    "print(type(s))"
   ]
  },
  {
   "cell_type": "code",
   "execution_count": 20,
   "id": "e45402dc",
   "metadata": {},
   "outputs": [
    {
     "name": "stdout",
     "output_type": "stream",
     "text": [
      "{'Prasad', 'Daniel', 40, 10, 30.9}\n",
      "<class 'set'>\n"
     ]
    }
   ],
   "source": [
    "s = {10, \"Daniel\", 30.9, \"Prasad\", 40} \n",
    "print(s) \n",
    "print(type(s))"
   ]
  },
  {
   "cell_type": "code",
   "execution_count": 21,
   "id": "9958413c",
   "metadata": {},
   "outputs": [
    {
     "name": "stdout",
     "output_type": "stream",
     "text": [
      "{0, 1, 2, 3, 4}\n"
     ]
    }
   ],
   "source": [
    "#  Craeting set by using range(p)\n",
    "\n",
    "s=set(range(5))\n",
    "print(s)"
   ]
  },
  {
   "cell_type": "code",
   "execution_count": 22,
   "id": "b4cac417",
   "metadata": {},
   "outputs": [
    {
     "name": "stdout",
     "output_type": "stream",
     "text": [
      "{40, 10, 20, 30}\n",
      "<class 'set'>\n"
     ]
    }
   ],
   "source": [
    "#  Set does nor allow duplicates\n",
    "\n",
    "s={10,20,30,40,10,10}\n",
    "print(s)\n",
    "print(type(s))"
   ]
  },
  {
   "cell_type": "code",
   "execution_count": 23,
   "id": "dec8e6eb",
   "metadata": {},
   "outputs": [
    {
     "name": "stdout",
     "output_type": "stream",
     "text": [
      "{0, 1, 2, 3, 4, 5, 6, 7, 8, 9}\n"
     ]
    }
   ],
   "source": [
    "#  Creating set by using set parameter function3\n",
    "\n",
    "r=range(0,10)\n",
    "l=set(r)\n",
    "print(l)"
   ]
  },
  {
   "cell_type": "code",
   "execution_count": 24,
   "id": "8f8f6667",
   "metadata": {},
   "outputs": [
    {
     "name": "stdout",
     "output_type": "stream",
     "text": [
      "{40, 10, 20, 30}\n"
     ]
    }
   ],
   "source": [
    "#  add(p)    add element to the set\n",
    "\n",
    "s={10,20,30}\n",
    "s.add(40)\n",
    "print(s)"
   ]
  },
  {
   "cell_type": "code",
   "execution_count": 25,
   "id": "62bb6878",
   "metadata": {},
   "outputs": [
    {
     "name": "stdout",
     "output_type": "stream",
     "text": [
      "{40, 10, 20}\n"
     ]
    }
   ],
   "source": [
    "#  remove(p)  method\n",
    "s={40,10,30,20}\n",
    "s.remove(30)\n",
    "print(s)"
   ]
  },
  {
   "cell_type": "code",
   "execution_count": 26,
   "id": "c86f74da",
   "metadata": {},
   "outputs": [
    {
     "name": "stdout",
     "output_type": "stream",
     "text": [
      "set()\n"
     ]
    }
   ],
   "source": [
    "s.clear()\n",
    "print(s)"
   ]
  },
  {
   "cell_type": "markdown",
   "id": "6ff8f50e",
   "metadata": {},
   "source": [
    "# Dictionary data structure\n",
    "\n"
   ]
  },
  {
   "cell_type": "code",
   "execution_count": 27,
   "id": "94f1539b",
   "metadata": {},
   "outputs": [
    {
     "name": "stdout",
     "output_type": "stream",
     "text": [
      "{10: 'Akshay', 20: 'Abhay', 30: 'Daniel'}\n"
     ]
    }
   ],
   "source": [
    "#  Creating dictionary\n",
    "\n",
    "d={10:'Akshay',20:'Abhay',30:'Daniel'}\n",
    "print(d)"
   ]
  },
  {
   "cell_type": "code",
   "execution_count": 29,
   "id": "a4495312",
   "metadata": {},
   "outputs": [
    {
     "data": {
      "text/plain": [
       "{10: 'Akshay', 20: 'Abhay', 30: 'Daniel', 40: 'Arjun'}"
      ]
     },
     "execution_count": 29,
     "metadata": {},
     "output_type": "execute_result"
    }
   ],
   "source": [
    "d[40]='Arjun'\n",
    "d"
   ]
  },
  {
   "cell_type": "code",
   "execution_count": 30,
   "id": "3b1c00ab",
   "metadata": {},
   "outputs": [
    {
     "name": "stdout",
     "output_type": "stream",
     "text": [
      "Akshay\n",
      "Daniel\n"
     ]
    }
   ],
   "source": [
    "# Accessing dictionary values using keys\n",
    "\n",
    "print(d[10])\n",
    "\n",
    "print(d[30])"
   ]
  },
  {
   "cell_type": "code",
   "execution_count": 31,
   "id": "cd1a75cd",
   "metadata": {},
   "outputs": [
    {
     "name": "stdout",
     "output_type": "stream",
     "text": [
      "Before deleting key from dictionary:  {10: 'Ramesh', 20: 'Arjun', 30: 'Daniel'}\n",
      "After deleting key from dictionary:  {20: 'Arjun', 30: 'Daniel'}\n"
     ]
    }
   ],
   "source": [
    "#  deleting key in dictionary\n",
    "\n",
    "d = {10: \"Ramesh\", 20: \"Arjun\", 30: \"Daniel\"}\n",
    "print(\"Before deleting key from dictionary: \", d)\n",
    "del d[10]\n",
    "print(\"After deleting key from dictionary: \", d)\n"
   ]
  },
  {
   "cell_type": "code",
   "execution_count": 32,
   "id": "b89ae2f7",
   "metadata": {},
   "outputs": [
    {
     "name": "stdout",
     "output_type": "stream",
     "text": [
      "After cleared entries in dictionary: {}\n"
     ]
    }
   ],
   "source": [
    "#  clear() method\n",
    "\n",
    "d.clear()\n",
    "print(\"After cleared entries in dictionary:\",d)"
   ]
  },
  {
   "cell_type": "code",
   "execution_count": 33,
   "id": "9997be9b",
   "metadata": {},
   "outputs": [
    {
     "name": "stdout",
     "output_type": "stream",
     "text": [
      "{100: 'Ramesh', 200: 'Daniel', 300: 'Mohan'}\n",
      "dict_keys([100, 200, 300])\n"
     ]
    }
   ],
   "source": [
    "# keys() method\n",
    "\n",
    "d = {100: \"Ramesh\", 200: \"Daniel\", 300: \"Mohan\"}\n",
    "print(d)\n",
    "\n",
    "print(d.keys())\n"
   ]
  },
  {
   "cell_type": "code",
   "execution_count": 35,
   "id": "5eadea26",
   "metadata": {},
   "outputs": [
    {
     "name": "stdout",
     "output_type": "stream",
     "text": [
      "dict_values(['Ramesh', 'Daniel', 'Mohan'])\n"
     ]
    }
   ],
   "source": [
    "#  values()\n",
    "\n",
    "print(d.values())"
   ]
  },
  {
   "cell_type": "code",
   "execution_count": 36,
   "id": "2553eba9",
   "metadata": {},
   "outputs": [
    {
     "name": "stdout",
     "output_type": "stream",
     "text": [
      "100 Ramesh\n",
      "200 Daniel\n",
      "300 Mohan\n"
     ]
    }
   ],
   "source": [
    "#  item()\n",
    "\n",
    "for k,v in d.items():\n",
    "    print(k,v)"
   ]
  },
  {
   "cell_type": "markdown",
   "id": "f6cd57cc",
   "metadata": {},
   "source": [
    "# Python Object Oriented Programming"
   ]
  },
  {
   "cell_type": "code",
   "execution_count": 1,
   "id": "33501571",
   "metadata": {},
   "outputs": [],
   "source": [
    "#  Define a class\n",
    "\n",
    "class Employee:\n",
    "    def dispay(self):\n",
    "        print(\"hello My name is Daniel\")"
   ]
  },
  {
   "cell_type": "code",
   "execution_count": 5,
   "id": "bfdbf4e9",
   "metadata": {},
   "outputs": [
    {
     "name": "stdout",
     "output_type": "stream",
     "text": [
      "Hello My name is Akshay\n"
     ]
    }
   ],
   "source": [
    "#  Creating a class and object\n",
    "\n",
    "class Employee:\n",
    "    def display(self):\n",
    "        print(\"Hello My name is Akshay\")\n",
    "        \n",
    "emp=Employee()\n",
    "emp.display()"
   ]
  },
  {
   "cell_type": "code",
   "execution_count": 6,
   "id": "a93317f2",
   "metadata": {},
   "outputs": [
    {
     "name": "stdout",
     "output_type": "stream",
     "text": [
      "Hello my name is Akshay\n",
      "I like teaching\n"
     ]
    }
   ],
   "source": [
    "#  Creating a class and object\n",
    "\n",
    "class Employee:\n",
    "    def display(self):\n",
    "        print(\"Hello my name is Akshay\")\n",
    "        \n",
    "    def teaching(self):\n",
    "        print(\"I like teaching\")\n",
    "        \n",
    "emp=Employee()\n",
    "\n",
    "emp.display()\n",
    "emp.teaching()"
   ]
  },
  {
   "cell_type": "code",
   "execution_count": 9,
   "id": "7fe4fc30",
   "metadata": {},
   "outputs": [
    {
     "name": "stdout",
     "output_type": "stream",
     "text": [
      "Constructor is executed\n"
     ]
    }
   ],
   "source": [
    "#   Creating a constructor\n",
    "\n",
    "class Employee:\n",
    "    def __init__(self):\n",
    "        print(\"Constructor is executed\")\n",
    "        \n",
    "emp=Employee()\n",
    "\n"
   ]
  },
  {
   "cell_type": "code",
   "execution_count": 10,
   "id": "88d6f9e9",
   "metadata": {},
   "outputs": [
    {
     "name": "stdout",
     "output_type": "stream",
     "text": [
      "Employee id is: 1\n",
      "Employee id is: 2\n",
      "Employee id is: 3\n"
     ]
    }
   ],
   "source": [
    "#  One parameterised constructor\n",
    "\n",
    "class Employee:\n",
    "    def __init__(self,number):\n",
    "        self.number=number\n",
    "        print(\"Employee id is:\",self.number)\n",
    "        \n",
    "e1=Employee(1)\n",
    "e2=Employee(2)\n",
    "e3=Employee(3)\n"
   ]
  },
  {
   "cell_type": "code",
   "execution_count": 15,
   "id": "eab59aff",
   "metadata": {},
   "outputs": [
    {
     "name": "stdout",
     "output_type": "stream",
     "text": [
      "Employee id is: 1\n",
      "Employee id is: 2\n",
      "Employee id is: 3\n"
     ]
    }
   ],
   "source": [
    "#  One parameterised constructor and instance method\n",
    "\n",
    "class Employee: \n",
    "     def __init__(self, number): \n",
    "            self.number = number \n",
    " \n",
    "     def display(self): \n",
    "          print(\"Employee id is:\", self.number) \n",
    " \n",
    "e1 = Employee(1) \n",
    "e2 = Employee(2) \n",
    "e3 = Employee(3) \n",
    " \n",
    "e1.display() \n",
    "e2.display() \n",
    "e3.display()\n",
    "\n"
   ]
  },
  {
   "cell_type": "code",
   "execution_count": 17,
   "id": "9dd52eb0",
   "metadata": {},
   "outputs": [
    {
     "name": "stdout",
     "output_type": "stream",
     "text": [
      "Hello my id is : 1\n",
      "My name is : Daniel\n",
      "Hello my id is : 2\n",
      "My name is : Arjun\n"
     ]
    }
   ],
   "source": [
    "#  Two parameterized constructor\n",
    "\n",
    "class Employee:    \n",
    "    def __init__(self, number, name):    \n",
    "        self.number = number \n",
    "        self.name = name \n",
    " \n",
    "    def display(self):   \n",
    "        print(\"Hello my id is :\", self.number)  \n",
    "        print(\"My name is :\", self.name)      \n",
    " \n",
    "e1=Employee(1, 'Daniel') \n",
    "e1.display() \n",
    " \n",
    "e2=Employee(2, 'Arjun') \n",
    "e2.display()  "
   ]
  },
  {
   "cell_type": "code",
   "execution_count": 18,
   "id": "d1481874",
   "metadata": {},
   "outputs": [
    {
     "name": "stdout",
     "output_type": "stream",
     "text": [
      "Student1 info\n",
      "NAme: Daniel\n",
      "id 101\n",
      "Studen2 info:\n",
      "Name:  Akshay\n",
      "Id :  102\n"
     ]
    }
   ],
   "source": [
    "#  Istance variable\n",
    "\n",
    "class Student:\n",
    "    def __init__(self,name,number):\n",
    "        self.name=name\n",
    "        self.number=number\n",
    "        \n",
    "s1=Student('Daniel',101)\n",
    "s2=Student(\"Akshay\",102)\n",
    "\n",
    "\n",
    "print('Student1 info')\n",
    "print(\"NAme:\",s1.name)\n",
    "print(\"id\",s1.number)\n",
    "\n",
    "print(\"Studen2 info:\") \n",
    "print(\"Name: \", s2.name) \n",
    "print(\"Id : \", s2.number)"
   ]
  },
  {
   "cell_type": "code",
   "execution_count": 19,
   "id": "16069154",
   "metadata": {},
   "outputs": [
    {
     "name": "stdout",
     "output_type": "stream",
     "text": [
      "10\n"
     ]
    }
   ],
   "source": [
    "#  Instance method\n",
    "\n",
    "class Demo:\n",
    "    def __init__(self,a):\n",
    "        self.a=a\n",
    "        \n",
    "    def m(self):\n",
    "        print(self.a)\n",
    "        \n",
    "d=Demo(10)\n",
    "d.m()"
   ]
  },
  {
   "cell_type": "code",
   "execution_count": null,
   "id": "d6d4a72a",
   "metadata": {},
   "outputs": [],
   "source": []
  }
 ],
 "metadata": {
  "kernelspec": {
   "display_name": "Python 3 (ipykernel)",
   "language": "python",
   "name": "python3"
  },
  "language_info": {
   "codemirror_mode": {
    "name": "ipython",
    "version": 3
   },
   "file_extension": ".py",
   "mimetype": "text/x-python",
   "name": "python",
   "nbconvert_exporter": "python",
   "pygments_lexer": "ipython3",
   "version": "3.10.9"
  }
 },
 "nbformat": 4,
 "nbformat_minor": 5
}
