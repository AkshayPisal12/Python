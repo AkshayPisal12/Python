{
 "cells": [
  {
   "cell_type": "code",
   "execution_count": 1,
   "id": "4f952394",
   "metadata": {},
   "outputs": [],
   "source": [
    "     #   FUNCTIONS PART 2\n"
   ]
  },
  {
   "cell_type": "code",
   "execution_count": 2,
   "id": "21794095",
   "metadata": {},
   "outputs": [
    {
     "name": "stdout",
     "output_type": "stream",
     "text": [
      "25\n"
     ]
    }
   ],
   "source": [
    "# FIRMAL AND ACTUAL ARGUMENTS\n",
    "\n",
    "def add(a,b):\n",
    "    c=a+b\n",
    "    print(c)\n",
    "    \n",
    "# call the function\n",
    "\n",
    "x=10        \n",
    "y=15\n",
    "add(x,y)"
   ]
  },
  {
   "cell_type": "code",
   "execution_count": 13,
   "id": "654a4315",
   "metadata": {},
   "outputs": [
    {
     "name": "stdout",
     "output_type": "stream",
     "text": [
      "5\n"
     ]
    }
   ],
   "source": [
    " # POSITIONAL ARGUMENT\n",
    "\n",
    "    \n",
    "    \n",
    "def sub (x, Y):\n",
    "    print(x-y)\n",
    "    \n",
    "#calling function\n",
    "\n",
    "sub(20, 10)\n"
   ]
  },
  {
   "cell_type": "code",
   "execution_count": 14,
   "id": "424854b9",
   "metadata": {},
   "outputs": [
    {
     "ename": "TypeError",
     "evalue": "sub() takes 2 positional arguments but 3 were given",
     "output_type": "error",
     "traceback": [
      "\u001b[1;31m---------------------------------------------------------------------------\u001b[0m",
      "\u001b[1;31mTypeError\u001b[0m                                 Traceback (most recent call last)",
      "Cell \u001b[1;32mIn[14], line 6\u001b[0m\n\u001b[0;32m      3\u001b[0m \u001b[38;5;28;01mdef\u001b[39;00m \u001b[38;5;21msub\u001b[39m(x,y):\n\u001b[0;32m      4\u001b[0m     \u001b[38;5;28mprint\u001b[39m(x\u001b[38;5;241m-\u001b[39my)\n\u001b[1;32m----> 6\u001b[0m \u001b[43msub\u001b[49m\u001b[43m(\u001b[49m\u001b[38;5;241;43m10\u001b[39;49m\u001b[43m,\u001b[49m\u001b[38;5;241;43m20\u001b[39;49m\u001b[43m,\u001b[49m\u001b[38;5;241;43m30\u001b[39;49m\u001b[43m)\u001b[49m\n",
      "\u001b[1;31mTypeError\u001b[0m: sub() takes 2 positional arguments but 3 were given"
     ]
    }
   ],
   "source": [
    "#   Error positional Argument\n",
    "\n",
    "def sub(x,y):\n",
    "    print(x-y)\n",
    "    \n",
    "sub(10,20,30)"
   ]
  },
  {
   "cell_type": "code",
   "execution_count": 16,
   "id": "8c6cfe49",
   "metadata": {},
   "outputs": [
    {
     "name": "stdout",
     "output_type": "stream",
     "text": [
      "10\n"
     ]
    }
   ],
   "source": [
    "#  positional Argument\n",
    "\n",
    "def sub(x,y):\n",
    "    print(x-y)\n",
    "    \n",
    "sub(20,10)"
   ]
  },
  {
   "cell_type": "code",
   "execution_count": 18,
   "id": "74feae1c",
   "metadata": {},
   "outputs": [
    {
     "name": "stdout",
     "output_type": "stream",
     "text": [
      "productis : Bangles\n",
      "cost is: 2000\n"
     ]
    }
   ],
   "source": [
    "#   Keyword  Argument\n",
    "\n",
    "\n",
    "def cart(product,price):\n",
    "    print(\"productis :\",product)\n",
    "    print(\"cost is:\",price)\n",
    "    \n",
    "cart(product=\"Bangles\",price=2000)"
   ]
  },
  {
   "cell_type": "code",
   "execution_count": 19,
   "id": "0f3358f8",
   "metadata": {},
   "outputs": [
    {
     "name": "stdout",
     "output_type": "stream",
     "text": [
      "product is: handbag\n",
      "cost is: 5000\n"
     ]
    }
   ],
   "source": [
    "def cart(product,price ):\n",
    "    print(\"product is:\",product)\n",
    "    print(\"cost is:\",price)\n",
    "    \n",
    "cart(product=\"handbag\",price=5000)"
   ]
  },
  {
   "cell_type": "code",
   "execution_count": 21,
   "id": "178705db",
   "metadata": {},
   "outputs": [
    {
     "name": "stdout",
     "output_type": "stream",
     "text": [
      "Product is : shirt\n",
      "cost is : 1200\n"
     ]
    }
   ],
   "source": [
    "def cart(product, price):\n",
    "    print(\"Product is :\" ,product)\n",
    "    print(\"cost is :\" ,price)\n",
    "cart(price=1200, product = \"shirt\")"
   ]
  },
  {
   "cell_type": "code",
   "execution_count": 22,
   "id": "69b73605",
   "metadata": {},
   "outputs": [
    {
     "name": "stdout",
     "output_type": "stream",
     "text": [
      "product is: pen\n",
      "cost is : 40.0\n"
     ]
    }
   ],
   "source": [
    "#  Default Argument\n",
    "\n",
    "def cart(product,price=40.0):\n",
    "    print(\"product is:\",product)\n",
    "    print(\"cost is :\",price)\n",
    "    \n",
    "cart(product=\"pen\")"
   ]
  },
  {
   "cell_type": "code",
   "execution_count": 23,
   "id": "0bf778fc",
   "metadata": {},
   "outputs": [
    {
     "name": "stdout",
     "output_type": "stream",
     "text": [
      "product is: pen\n",
      "cost is : 10000\n"
     ]
    }
   ],
   "source": [
    "#  Default Argument\n",
    "\n",
    "def cart(product,price=40.0):\n",
    "    print(\"product is:\",product)\n",
    "    print(\"cost is :\",price)\n",
    "    \n",
    "cart(product=\"pen\" ,price=10000)"
   ]
  },
  {
   "cell_type": "code",
   "execution_count": 26,
   "id": "85111dae",
   "metadata": {},
   "outputs": [
    {
     "name": "stdout",
     "output_type": "stream",
     "text": [
      "Product is: shirt\n",
      "cost is: 500\n"
     ]
    }
   ],
   "source": [
    "def cart(product, price = 40.0):\n",
    "    print(\"Product is:\",product)\n",
    "    print(\"cost is:\",price)\n",
    "    \n",
    "cart(price=500, product=\"shirt\")"
   ]
  },
  {
   "cell_type": "code",
   "execution_count": 27,
   "id": "6084614c",
   "metadata": {},
   "outputs": [
    {
     "name": "stdout",
     "output_type": "stream",
     "text": [
      "10\n"
     ]
    }
   ],
   "source": [
    "#  *args OR Variable lenght argument  \n",
    "\n",
    "def m(x):\n",
    "    print(x)\n",
    "    \n",
    "m(10)"
   ]
  },
  {
   "cell_type": "code",
   "execution_count": 28,
   "id": "b403ade6",
   "metadata": {},
   "outputs": [
    {
     "ename": "TypeError",
     "evalue": "m() takes 1 positional argument but 2 were given",
     "output_type": "error",
     "traceback": [
      "\u001b[1;31m---------------------------------------------------------------------------\u001b[0m",
      "\u001b[1;31mTypeError\u001b[0m                                 Traceback (most recent call last)",
      "Cell \u001b[1;32mIn[28], line 4\u001b[0m\n\u001b[0;32m      1\u001b[0m \u001b[38;5;28;01mdef\u001b[39;00m \u001b[38;5;21mm\u001b[39m(x):\n\u001b[0;32m      2\u001b[0m     \u001b[38;5;28mprint\u001b[39m(x)\n\u001b[1;32m----> 4\u001b[0m \u001b[43mm\u001b[49m\u001b[43m(\u001b[49m\u001b[38;5;241;43m10\u001b[39;49m\u001b[43m,\u001b[49m\u001b[38;5;241;43m20\u001b[39;49m\u001b[43m)\u001b[49m\n",
      "\u001b[1;31mTypeError\u001b[0m: m() takes 1 positional argument but 2 were given"
     ]
    }
   ],
   "source": [
    "# error\n",
    "\n",
    "\n",
    "def m(x):\n",
    "    print(x)\n",
    "    \n",
    "m(10,20)"
   ]
  },
  {
   "cell_type": "code",
   "execution_count": 30,
   "id": "7758681b",
   "metadata": {},
   "outputs": [
    {
     "name": "stdout",
     "output_type": "stream",
     "text": [
      "(10,)\n"
     ]
    }
   ],
   "source": [
    "# variable length argument\n",
    "\n",
    "def m(*x):\n",
    "    print(x)\n",
    "    \n",
    "m(10)"
   ]
  },
  {
   "cell_type": "code",
   "execution_count": 31,
   "id": "9c7b397a",
   "metadata": {},
   "outputs": [
    {
     "name": "stdout",
     "output_type": "stream",
     "text": [
      "(10, 20)\n"
     ]
    }
   ],
   "source": [
    "def m(*x):\n",
    "    print(x)\n",
    "    \n",
    "m(10,20)"
   ]
  },
  {
   "cell_type": "code",
   "execution_count": 32,
   "id": "9b84316e",
   "metadata": {},
   "outputs": [
    {
     "name": "stdout",
     "output_type": "stream",
     "text": [
      "(10, 20, 30)\n"
     ]
    }
   ],
   "source": [
    "\n",
    "def m(*x):\n",
    "    print(x)\n",
    "    \n",
    "m(10,20,30)"
   ]
  },
  {
   "cell_type": "code",
   "execution_count": 33,
   "id": "bd1019a6",
   "metadata": {},
   "outputs": [
    {
     "name": "stdout",
     "output_type": "stream",
     "text": [
      "16\n"
     ]
    }
   ],
   "source": [
    "#  ANANYMOUS FUNCTION LAMBDAS\n",
    "\n",
    "s=lambda a:a*a\n",
    "x=s(4)\n",
    "print(x)"
   ]
  },
  {
   "cell_type": "code",
   "execution_count": 38,
   "id": "9fc2a8b2",
   "metadata": {},
   "outputs": [
    {
     "name": "stdout",
     "output_type": "stream",
     "text": [
      "4\n"
     ]
    }
   ],
   "source": [
    "#  A simple difference between Normal and Lambda Function\n",
    "\n",
    "def square(t):\n",
    "    return t*t\n",
    "    \n",
    "s=square(2)\n",
    "print(s)"
   ]
  },
  {
   "cell_type": "code",
   "execution_count": 36,
   "id": "fbbee25a",
   "metadata": {},
   "outputs": [
    {
     "name": "stdout",
     "output_type": "stream",
     "text": [
      "5\n"
     ]
    }
   ],
   "source": [
    "def add(x,y):\n",
    "    return x+y\n",
    "b=add(2,3)\n",
    "print(b)"
   ]
  },
  {
   "cell_type": "code",
   "execution_count": 39,
   "id": "0a5e99a7",
   "metadata": {},
   "outputs": [
    {
     "name": "stdout",
     "output_type": "stream",
     "text": [
      "The sum of values is: 8\n"
     ]
    }
   ],
   "source": [
    "#  To find sum  of two fiunctions using ananymous function\n",
    "\n",
    "add=lambda x,y:x+y\n",
    "\n",
    "result=add(5,3)\n",
    "print(\"The sum of values is:\",result)"
   ]
  },
  {
   "cell_type": "code",
   "execution_count": 41,
   "id": "7aae5316",
   "metadata": {},
   "outputs": [
    {
     "name": "stdout",
     "output_type": "stream",
     "text": [
      "Without GSt items costs is: [100, 200, 300, 400]\n",
      "With GSt items costs is: [110, 210, 310, 410]\n"
     ]
    }
   ],
   "source": [
    "# map(p1,p2)Function\n",
    "\n",
    "without_gst_cost=[100,200,300,400]\n",
    "with_gst_cost=map(lambda x:x+10,without_gst_cost)\n",
    "\n",
    "x=list(with_gst_cost)\n",
    "print(\"Without GSt items costs is:\",without_gst_cost)\n",
    "print(\"With GSt items costs is:\",x)\n",
    "      "
   ]
  },
  {
   "cell_type": "code",
   "execution_count": 42,
   "id": "8c3632b4",
   "metadata": {},
   "outputs": [
    {
     "name": "stdout",
     "output_type": "stream",
     "text": [
      "Elligible for discount [1100, 1200, 1300]\n"
     ]
    }
   ],
   "source": [
    "#  Filter(p1,p2) function\n",
    "\n",
    "items_cost=[999,888,1100,1200,1300,777]\n",
    "gt_thousand=filter(lambda x: x>1000,items_cost)\n",
    "\n",
    "x=list(gt_thousand)\n",
    "print(\"Elligible for discount\",x)\n",
    "\n"
   ]
  },
  {
   "cell_type": "code",
   "execution_count": 43,
   "id": "f1db8a92",
   "metadata": {},
   "outputs": [
    {
     "name": "stdout",
     "output_type": "stream",
     "text": [
      "1110\n"
     ]
    }
   ],
   "source": [
    "#  reduce(p1,p2) function\n",
    "\n",
    "from functools import reduce\n",
    "\n",
    "items_cost=[111,222,333,444]\n",
    "total_cost=reduce(lambda x,y: x+y,items_cost)\n",
    "print(total_cost)"
   ]
  },
  {
   "cell_type": "code",
   "execution_count": null,
   "id": "68968a6c",
   "metadata": {},
   "outputs": [],
   "source": []
  }
 ],
 "metadata": {
  "kernelspec": {
   "display_name": "Python 3 (ipykernel)",
   "language": "python",
   "name": "python3"
  },
  "language_info": {
   "codemirror_mode": {
    "name": "ipython",
    "version": 3
   },
   "file_extension": ".py",
   "mimetype": "text/x-python",
   "name": "python",
   "nbconvert_exporter": "python",
   "pygments_lexer": "ipython3",
   "version": "3.10.9"
  }
 },
 "nbformat": 4,
 "nbformat_minor": 5
}
