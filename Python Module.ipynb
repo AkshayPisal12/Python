{
 "cells": [
  {
   "cell_type": "code",
   "execution_count": 1,
   "id": "e0fa3422",
   "metadata": {},
   "outputs": [],
   "source": [
    "#Python Module"
   ]
  },
  {
   "cell_type": "code",
   "execution_count": 2,
   "id": "a5137530",
   "metadata": {},
   "outputs": [],
   "source": [
    "# Module program\n",
    "#addditionmultiploication.py   ---------file is module/////No output\n",
    "\n",
    "x=10\n",
    "def addition(a,b):\n",
    "    print (\"Sum of the two values :\",(a+b))\n",
    "def multplication(a,b):\n",
    "    print(\"Multiplication of two values:\",(a*b))"
   ]
  },
  {
   "cell_type": "code",
   "execution_count": 4,
   "id": "16daa6ff",
   "metadata": {},
   "outputs": [
    {
     "ename": "ModuleNotFoundError",
     "evalue": "No module named 'additionmultiplication'",
     "output_type": "error",
     "traceback": [
      "\u001b[1;31m---------------------------------------------------------------------------\u001b[0m",
      "\u001b[1;31mModuleNotFoundError\u001b[0m                       Traceback (most recent call last)",
      "Cell \u001b[1;32mIn[4], line 4\u001b[0m\n\u001b[0;32m      1\u001b[0m \u001b[38;5;66;03m# importing addition Multiplication module and calling members \u001b[39;00m\n\u001b[1;32m----> 4\u001b[0m \u001b[38;5;28;01mimport\u001b[39;00m \u001b[38;5;21;01madditionmultiplication\u001b[39;00m\n\u001b[0;32m      6\u001b[0m \u001b[38;5;28mprint\u001b[39m(additionmultiplication\u001b[38;5;241m.\u001b[39mx)\n\u001b[0;32m      7\u001b[0m additionmultiplication\u001b[38;5;241m.\u001b[39maddition(\u001b[38;5;241m1\u001b[39m,\u001b[38;5;241m2\u001b[39m)\n",
      "\u001b[1;31mModuleNotFoundError\u001b[0m: No module named 'additionmultiplication'"
     ]
    }
   ],
   "source": [
    "# importing addition Multiplication module and calling members \n",
    "\n",
    "\n",
    "import additionmultiplication\n",
    "\n",
    "print(additionmultiplication.x)\n",
    "additionmultiplication.addition(1,2)\n",
    "additionmultiplication.multiplicaion(2,3)"
   ]
  },
  {
   "cell_type": "code",
   "execution_count": 5,
   "id": "f4ebee00",
   "metadata": {},
   "outputs": [
    {
     "ename": "ModuleNotFoundError",
     "evalue": "No module named 'additionmultiplication'",
     "output_type": "error",
     "traceback": [
      "\u001b[1;31m---------------------------------------------------------------------------\u001b[0m",
      "\u001b[1;31mModuleNotFoundError\u001b[0m                       Traceback (most recent call last)",
      "Cell \u001b[1;32mIn[5], line 1\u001b[0m\n\u001b[1;32m----> 1\u001b[0m \u001b[38;5;28;01mimport\u001b[39;00m \u001b[38;5;21;01madditionmultiplication\u001b[39;00m \u001b[38;5;28;01mas\u001b[39;00m \u001b[38;5;21;01madmul\u001b[39;00m\n\u001b[0;32m      2\u001b[0m \u001b[38;5;28mprint\u001b[39m(admul\u001b[38;5;241m.\u001b[39mx) \n\u001b[0;32m      3\u001b[0m admul\u001b[38;5;241m.\u001b[39maddition(\u001b[38;5;241m1\u001b[39m,\u001b[38;5;241m2\u001b[39m) \n",
      "\u001b[1;31mModuleNotFoundError\u001b[0m: No module named 'additionmultiplication'"
     ]
    }
   ],
   "source": [
    "import additionmultiplication as admul\n",
    "print(admul.x) \n",
    "admul.addition(1,2) \n",
    "admul.multiplication(3, 4)\n"
   ]
  },
  {
   "cell_type": "code",
   "execution_count": null,
   "id": "ccf2a9a7",
   "metadata": {},
   "outputs": [],
   "source": []
  }
 ],
 "metadata": {
  "kernelspec": {
   "display_name": "Python 3 (ipykernel)",
   "language": "python",
   "name": "python3"
  },
  "language_info": {
   "codemirror_mode": {
    "name": "ipython",
    "version": 3
   },
   "file_extension": ".py",
   "mimetype": "text/x-python",
   "name": "python",
   "nbconvert_exporter": "python",
   "pygments_lexer": "ipython3",
   "version": "3.10.9"
  }
 },
 "nbformat": 4,
 "nbformat_minor": 5
}
