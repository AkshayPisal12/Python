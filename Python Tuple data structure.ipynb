{
 "cells": [
  {
   "cell_type": "markdown",
   "id": "ba57dd46",
   "metadata": {},
   "source": [
    "   Tubple data Structure\n",
    "  "
   ]
  },
  {
   "cell_type": "code",
   "execution_count": 2,
   "id": "e7045017",
   "metadata": {},
   "outputs": [
    {
     "name": "stdout",
     "output_type": "stream",
     "text": [
      "(10, 20, 30, 40, 50)\n",
      "<class 'tuple'>\n"
     ]
    }
   ],
   "source": [
    "# Tuple having same type of elements\n",
    "\n",
    "employee_ids=(10,20,30,40,50,)\n",
    "print(employee_ids)\n",
    "print(type(employee_ids))"
   ]
  },
  {
   "cell_type": "code",
   "execution_count": 4,
   "id": "6ef02f24",
   "metadata": {},
   "outputs": [
    {
     "name": "stdout",
     "output_type": "stream",
     "text": [
      "9\n",
      "<class 'int'>\n",
      "\n",
      "\n",
      "\n",
      "Daniel\n",
      "<class 'str'>\n"
     ]
    }
   ],
   "source": [
    "#  A single value with Tuple syntax,but its not Tuple\n",
    "\n",
    "\n",
    "number=(9)\n",
    "\n",
    "print(number)\n",
    "print(type(number))\n",
    "\n",
    "print()    # For specifying space in output\n",
    "print()\n",
    "print()\n",
    "\n",
    "name=(\"Daniel\")\n",
    "\n",
    "print(name)\n",
    "print(type(name))"
   ]
  },
  {
   "cell_type": "code",
   "execution_count": 6,
   "id": "8fb0fa54",
   "metadata": {},
   "outputs": [
    {
     "name": "stdout",
     "output_type": "stream",
     "text": [
      "('Daniel',)\n",
      "<class 'tuple'>\n"
     ]
    }
   ],
   "source": [
    "#   Tuple Single value ends with comma seperator then its tuple\n",
    "\n",
    "name=(\"Daniel\",)\n",
    "print(name)\n",
    "print(type(name))"
   ]
  },
  {
   "cell_type": "code",
   "execution_count": 7,
   "id": "877f12e7",
   "metadata": {},
   "outputs": [
    {
     "name": "stdout",
     "output_type": "stream",
     "text": [
      "(10, 20, 30, 40, 50)\n"
     ]
    }
   ],
   "source": [
    "#  Parenrhesis Symbol is optional while using tuple\n",
    "\n",
    "emp_ids= 10,20,30,40,50\n",
    "\n",
    "print(emp_ids)\n"
   ]
  },
  {
   "cell_type": "code",
   "execution_count": 8,
   "id": "7b2d8b47",
   "metadata": {},
   "outputs": [
    {
     "name": "stdout",
     "output_type": "stream",
     "text": [
      "()\n",
      "<class 'tuple'>\n"
     ]
    }
   ],
   "source": [
    "#  Empty tuple\n",
    "\n",
    "emp_ids=()\n",
    "print(emp_ids)\n",
    "print(type(emp_ids))"
   ]
  },
  {
   "cell_type": "code",
   "execution_count": 9,
   "id": "ab9a048b",
   "metadata": {},
   "outputs": [
    {
     "name": "stdout",
     "output_type": "stream",
     "text": [
      "(11, 12, 13)\n",
      "(120, 130, 140)\n"
     ]
    }
   ],
   "source": [
    "#  Tuple example\n",
    "\n",
    "emp_id = (11, 12, 13)\n",
    "std_id = 120, 130, 140\n",
    "print(emp_id)\n",
    "print(std_id)"
   ]
  },
  {
   "cell_type": "code",
   "execution_count": 10,
   "id": "ad5fd5fc",
   "metadata": {},
   "outputs": [
    {
     "name": "stdout",
     "output_type": "stream",
     "text": [
      "(11, 12, 13, 'Akshay')\n"
     ]
    }
   ],
   "source": [
    "t=(11,12,13,\"Akshay\")\n",
    "print(t)"
   ]
  },
  {
   "cell_type": "code",
   "execution_count": 11,
   "id": "87f75f1a",
   "metadata": {},
   "outputs": [
    {
     "name": "stdout",
     "output_type": "stream",
     "text": [
      "(11, 22, 33)\n"
     ]
    }
   ],
   "source": [
    "#  Creaing Tuple by using Tuple function\n",
    "\n",
    "a=[11,22,33]\n",
    "t=tuple(a)\n",
    "print(t)"
   ]
  },
  {
   "cell_type": "code",
   "execution_count": 13,
   "id": "ee8d1bbc",
   "metadata": {},
   "outputs": [
    {
     "name": "stdout",
     "output_type": "stream",
     "text": [
      "10\n",
      "60\n"
     ]
    }
   ],
   "source": [
    "# Accesing tuple by using index\n",
    "\n",
    "t=(10,20,30,40,50,60)\n",
    "print(t[0])\n",
    "print(t[-1])"
   ]
  },
  {
   "cell_type": "code",
   "execution_count": 14,
   "id": "5d30ec22",
   "metadata": {},
   "outputs": [
    {
     "name": "stdout",
     "output_type": "stream",
     "text": [
      "(30, 40, 50)\n",
      "(30, 40, 50, 60)\n",
      "(10, 30, 50)\n"
     ]
    }
   ],
   "source": [
    "# Accesing uple by using licing\n",
    "t=(10,20,30,40,50,60)\n",
    "\n",
    "print(t[2:5])\n",
    "print(t[2:100])\n",
    "print(t[::2])"
   ]
  },
  {
   "cell_type": "code",
   "execution_count": 1,
   "id": "6a10ab85",
   "metadata": {},
   "outputs": [
    {
     "ename": "SyntaxError",
     "evalue": "cannot assign to literal here. Maybe you meant '==' instead of '='? (968659641.py, line 5)",
     "output_type": "error",
     "traceback": [
      "\u001b[1;36m  Cell \u001b[1;32mIn[1], line 5\u001b[1;36m\u001b[0m\n\u001b[1;33m    t[1=70]\u001b[0m\n\u001b[1;37m      ^\u001b[0m\n\u001b[1;31mSyntaxError\u001b[0m\u001b[1;31m:\u001b[0m cannot assign to literal here. Maybe you meant '==' instead of '='?\n"
     ]
    }
   ],
   "source": [
    "# Tuple vs immutability....Getting error\n",
    "\n",
    "t=(10,20,30,40)\n",
    "print([1])\n",
    "t[1=70]"
   ]
  },
  {
   "cell_type": "code",
   "execution_count": 2,
   "id": "326cce69",
   "metadata": {},
   "outputs": [],
   "source": [
    "#   Mathematical Operators on Tuple "
   ]
  },
  {
   "cell_type": "code",
   "execution_count": 3,
   "id": "db9b933a",
   "metadata": {},
   "outputs": [
    {
     "name": "stdout",
     "output_type": "stream",
     "text": [
      "(10, 20, 30, 40, 50, 60)\n"
     ]
    }
   ],
   "source": [
    "#   Concatenation Operator(+)\n",
    "\n",
    "t1=(10,20,30)\n",
    "t2=(40,50,60)\n",
    "t3=t1+t2\n",
    "\n",
    "print(t3)"
   ]
  },
  {
   "cell_type": "code",
   "execution_count": null,
   "id": "f07ac957",
   "metadata": {},
   "outputs": [],
   "source": []
  }
 ],
 "metadata": {
  "kernelspec": {
   "display_name": "Python 3 (ipykernel)",
   "language": "python",
   "name": "python3"
  },
  "language_info": {
   "codemirror_mode": {
    "name": "ipython",
    "version": 3
   },
   "file_extension": ".py",
   "mimetype": "text/x-python",
   "name": "python",
   "nbconvert_exporter": "python",
   "pygments_lexer": "ipython3",
   "version": "3.10.9"
  }
 },
 "nbformat": 4,
 "nbformat_minor": 5
}
