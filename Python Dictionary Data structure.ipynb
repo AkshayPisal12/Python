{
 "cells": [
  {
   "cell_type": "code",
   "execution_count": 1,
   "id": "2ef3aaad",
   "metadata": {},
   "outputs": [],
   "source": [
    "#  Python dictionary data structure"
   ]
  },
  {
   "cell_type": "code",
   "execution_count": 2,
   "id": "752cb897",
   "metadata": {},
   "outputs": [
    {
     "name": "stdout",
     "output_type": "stream",
     "text": [
      "{10: 'Ramesh', 20: 'Arjun', 30: 'Daniel'}\n"
     ]
    }
   ],
   "source": [
    "# Creating Dictionary\n",
    "d={10:\"Ramesh\",20:\"Arjun\",30:\"Daniel\"}\n",
    "print(d)"
   ]
  },
  {
   "cell_type": "code",
   "execution_count": 3,
   "id": "b9c1624c",
   "metadata": {},
   "outputs": [
    {
     "name": "stdout",
     "output_type": "stream",
     "text": [
      "{}\n",
      "<class 'dict'>\n"
     ]
    }
   ],
   "source": [
    "#  Creating Empty Dictionary\n",
    "d={}\n",
    "print(d)\n",
    "print(type(d))"
   ]
  },
  {
   "cell_type": "code",
   "execution_count": 4,
   "id": "7e80d938",
   "metadata": {},
   "outputs": [
    {
     "name": "stdout",
     "output_type": "stream",
     "text": [
      "{10: 'Ramesh', 20: 'Suresh', 30: 'Daniel'}\n"
     ]
    }
   ],
   "source": [
    "#  Creating empty dictionary and adding elements to dictionary\n",
    "\n",
    "d={}\n",
    "d[10]=\"Ramesh\"\n",
    "d[20]=\"Suresh\"\n",
    "d[30]=\"Daniel\"\n",
    "print(d)"
   ]
  },
  {
   "cell_type": "code",
   "execution_count": 5,
   "id": "536167bc",
   "metadata": {},
   "outputs": [
    {
     "name": "stdout",
     "output_type": "stream",
     "text": [
      "Ramesh\n",
      "Arjun\n",
      "Daniel\n"
     ]
    }
   ],
   "source": [
    "#  Accesing dictionary Values by using keys\n",
    "\n",
    "d={10:\"Ramesh\",20:\"Arjun\",30:\"Daniel\"}\n",
    "\n",
    "print(d[10])\n",
    "print(d[20])\n",
    "print(d[30])\n"
   ]
  },
  {
   "cell_type": "code",
   "execution_count": 7,
   "id": "c97baee9",
   "metadata": {},
   "outputs": [
    {
     "name": "stdout",
     "output_type": "stream",
     "text": [
      "10 Ramesh\n",
      "20 Arjun\n",
      "30 Daniel\n"
     ]
    }
   ],
   "source": [
    "#  Accesing keys and values using foer loop\n",
    "d={10:\"Ramesh\",20:\"Arjun\",30:\"Daniel\"}\n",
    "for i in d:\n",
    "    print(i,d[i])"
   ]
  },
  {
   "cell_type": "code",
   "execution_count": 8,
   "id": "36e5376a",
   "metadata": {},
   "outputs": [
    {
     "name": "stdout",
     "output_type": "stream",
     "text": [
      "old dictionary: {10: 'Ramesh', 20: 'Arjun', 30: 'Daniel'}\n",
      "Added key-value pair to dictionary: {10: 'Ramesh', 20: 'Arjun', 30: 'Daniel', 9: 'john'}\n"
     ]
    }
   ],
   "source": [
    "#  Adding key-value pair to dictionary\n",
    "\n",
    "d={10:\"Ramesh\",20:\"Arjun\",30:\"Daniel\"}\n",
    "print(\"old dictionary:\",d)\n",
    "\n",
    "d[9]=\"john\"\n",
    "print(\"Added key-value pair to dictionary:\",d)"
   ]
  },
  {
   "cell_type": "code",
   "execution_count": 9,
   "id": "5e87561a",
   "metadata": {},
   "outputs": [
    {
     "name": "stdout",
     "output_type": "stream",
     "text": [
      "old dictionary: {10: 'Ramesh', 20: 'Arjun', 30: 'Daniel'}\n",
      "Updated dictionary 3:Chandu: {10: 'Ramesh', 20: 'Arjun', 30: 'Chandu'}\n"
     ]
    }
   ],
   "source": [
    "#  Updating key value pair in dictionary\n",
    "\n",
    "d={10:\"Ramesh\",20:\"Arjun\",30:\"Daniel\"}\n",
    "print(\"old dictionary:\",d)\n",
    "\n",
    "d[30]='Chandu'\n",
    "print(\"Updated dictionary 3:Chandu:\",d)"
   ]
  },
  {
   "cell_type": "code",
   "execution_count": 10,
   "id": "f909dede",
   "metadata": {},
   "outputs": [
    {
     "name": "stdout",
     "output_type": "stream",
     "text": [
      "Before deleting key from dictionary: {10: 'Ramesh', 20: 'Arjun', 30: 'Daniel'}\n",
      "After deleting key from dictionary: {20: 'Arjun', 30: 'Daniel'}\n"
     ]
    }
   ],
   "source": [
    "#  Removing or Deleting elements from diction\n",
    "\n",
    "d={10:\"Ramesh\",20:\"Arjun\",30:\"Daniel\"}\n",
    "print(\"Before deleting key from dictionary:\",d)\n",
    "del d[10]\n",
    "print(\"After deleting key from dictionary:\",d)\n"
   ]
  },
  {
   "cell_type": "code",
   "execution_count": 11,
   "id": "0b4816d5",
   "metadata": {},
   "outputs": [
    {
     "name": "stdout",
     "output_type": "stream",
     "text": [
      "{10: 'Ramesh', 20: 'Arjun', 30: 'Daniel'}\n"
     ]
    },
    {
     "ename": "NameError",
     "evalue": "name 'd' is not defined",
     "output_type": "error",
     "traceback": [
      "\u001b[1;31m---------------------------------------------------------------------------\u001b[0m",
      "\u001b[1;31mNameError\u001b[0m                                 Traceback (most recent call last)",
      "Cell \u001b[1;32mIn[11], line 6\u001b[0m\n\u001b[0;32m      4\u001b[0m \u001b[38;5;28mprint\u001b[39m(d)\n\u001b[0;32m      5\u001b[0m \u001b[38;5;28;01mdel\u001b[39;00m d\n\u001b[1;32m----> 6\u001b[0m \u001b[38;5;28mprint\u001b[39m(\u001b[43md\u001b[49m)\n",
      "\u001b[1;31mNameError\u001b[0m: name 'd' is not defined"
     ]
    }
   ],
   "source": [
    "#  We can delete total dictionary object.... Aftr run got error\n",
    "\n",
    "d={10:\"Ramesh\",20:\"Arjun\",30:\"Daniel\"}\n",
    "print(d)\n",
    "del d\n",
    "print(d)"
   ]
  },
  {
   "cell_type": "code",
   "execution_count": 12,
   "id": "e95d56ed",
   "metadata": {},
   "outputs": [
    {
     "name": "stdout",
     "output_type": "stream",
     "text": [
      "3\n"
     ]
    }
   ],
   "source": [
    "# len(p)\n",
    "\n",
    "d={10:\"Ramesh\",20:\"Arjun\",30:\"Daniel\"}\n",
    "print(len(d))"
   ]
  },
  {
   "cell_type": "code",
   "execution_count": 13,
   "id": "e119b0f5",
   "metadata": {},
   "outputs": [
    {
     "name": "stdout",
     "output_type": "stream",
     "text": [
      "['__class__', '__class_getitem__', '__contains__', '__delattr__', '__delitem__', '__dir__', '__doc__', '__eq__', '__format__', '__ge__', '__getattribute__', '__getitem__', '__gt__', '__hash__', '__init__', '__init_subclass__', '__ior__', '__iter__', '__le__', '__len__', '__lt__', '__ne__', '__new__', '__or__', '__reduce__', '__reduce_ex__', '__repr__', '__reversed__', '__ror__', '__setattr__', '__setitem__', '__sizeof__', '__str__', '__subclasshook__', 'clear', 'copy', 'fromkeys', 'get', 'items', 'keys', 'pop', 'popitem', 'setdefault', 'update', 'values']\n"
     ]
    }
   ],
   "source": [
    "# methods in dictionary\n",
    "\n",
    "print(dir(dict))"
   ]
  },
  {
   "cell_type": "code",
   "execution_count": 14,
   "id": "e1fddb6c",
   "metadata": {},
   "outputs": [
    {
     "name": "stdout",
     "output_type": "stream",
     "text": [
      "{10: 'Ramesh', 20: 'Arjun', 30: 'Daniel'}\n",
      "after cleared entries in dictionary: {}\n"
     ]
    }
   ],
   "source": [
    "#  Removing dictionary object by using clear()method\n",
    "\n",
    "d={10:\"Ramesh\",20:\"Arjun\",30:\"Daniel\"}\n",
    "print(d)\n",
    "d.clear()\n",
    "print(\"after cleared entries in dictionary:\",d)"
   ]
  },
  {
   "cell_type": "code",
   "execution_count": 15,
   "id": "599f8d6b",
   "metadata": {},
   "outputs": [
    {
     "name": "stdout",
     "output_type": "stream",
     "text": [
      "{10: 'Ramesh', 20: 'Arjun', 30: 'Daniel'}\n",
      "dict_keys([10, 20, 30])\n"
     ]
    }
   ],
   "source": [
    "#  Keys() method\n",
    "\n",
    "d={10:\"Ramesh\",20:\"Arjun\",30:\"Daniel\"}\n",
    "print(d)\n",
    "print(d.keys())\n"
   ]
  },
  {
   "cell_type": "code",
   "execution_count": 16,
   "id": "1e7112e7",
   "metadata": {},
   "outputs": [
    {
     "name": "stdout",
     "output_type": "stream",
     "text": [
      "{100: 'Ramesh', 200: 'Daniel', 300: 'Mohan'}\n",
      "dict_values(['Ramesh', 'Daniel', 'Mohan'])\n"
     ]
    }
   ],
   "source": [
    "# Values()\n",
    "d={100:\"Ramesh\",200:'Daniel',300:'Mohan'}\n",
    "print(d)\n",
    "print(d.values())"
   ]
  },
  {
   "cell_type": "code",
   "execution_count": 17,
   "id": "8ed856f6",
   "metadata": {},
   "outputs": [
    {
     "name": "stdout",
     "output_type": "stream",
     "text": [
      "10 Ramesh\n",
      "20 Arjun\n",
      "30 Daniel\n"
     ]
    }
   ],
   "source": [
    "# items()\n",
    "d={10:\"Ramesh\",20:\"Arjun\",30:\"Daniel\"}\n",
    "\n",
    "for k,v in d.items():\n",
    "    print(k,v)"
   ]
  },
  {
   "cell_type": "code",
   "execution_count": 18,
   "id": "ebdcd927",
   "metadata": {},
   "outputs": [
    {
     "name": "stdout",
     "output_type": "stream",
     "text": [
      "{1: 1, 2: 4, 3: 9, 4: 16, 5: 25}\n"
     ]
    }
   ],
   "source": [
    "# Dictionary compression\n",
    "\n",
    "squares={a:a*a for a in range(1,6)}\n",
    "print(squares)"
   ]
  },
  {
   "cell_type": "code",
   "execution_count": null,
   "id": "1e50a9e0",
   "metadata": {},
   "outputs": [],
   "source": []
  }
 ],
 "metadata": {
  "kernelspec": {
   "display_name": "Python 3 (ipykernel)",
   "language": "python",
   "name": "python3"
  },
  "language_info": {
   "codemirror_mode": {
    "name": "ipython",
    "version": 3
   },
   "file_extension": ".py",
   "mimetype": "text/x-python",
   "name": "python",
   "nbconvert_exporter": "python",
   "pygments_lexer": "ipython3",
   "version": "3.10.9"
  }
 },
 "nbformat": 4,
 "nbformat_minor": 5
}
