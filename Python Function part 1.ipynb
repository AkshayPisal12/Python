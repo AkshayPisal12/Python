{
 "cells": [
  {
   "cell_type": "code",
   "execution_count": 1,
   "id": "6a52d797",
   "metadata": {},
   "outputs": [],
   "source": [
    "# PYTHON FUNCTIONS PART 1"
   ]
  },
  {
   "cell_type": "code",
   "execution_count": 3,
   "id": "5c15d98e",
   "metadata": {},
   "outputs": [
    {
     "name": "stdout",
     "output_type": "stream",
     "text": [
      "Welcome to Function\n"
     ]
    }
   ],
   "source": [
    "#  CREATING A FUNCTION\n",
    "\n",
    "def display():\n",
    "    print(\"Welcome to Function\")\n",
    "    \n",
    "#Function calling\n",
    "\n",
    "display()"
   ]
  },
  {
   "cell_type": "code",
   "execution_count": 4,
   "id": "eb0df7e0",
   "metadata": {},
   "outputs": [
    {
     "name": "stdout",
     "output_type": "stream",
     "text": [
      "Welcome to Function\n",
      "Welcome to Function\n"
     ]
    }
   ],
   "source": [
    "#  CREATING A FUNCTION\n",
    "\n",
    "def display():\n",
    "    print(\"Welcome to Function\")\n",
    "    \n",
    "#Function calling\n",
    "\n",
    "display()\n",
    "display()"
   ]
  },
  {
   "cell_type": "code",
   "execution_count": 5,
   "id": "a3780faf",
   "metadata": {},
   "outputs": [
    {
     "ename": "NameError",
     "evalue": "name 'detail' is not defined",
     "output_type": "error",
     "traceback": [
      "\u001b[1;31m---------------------------------------------------------------------------\u001b[0m",
      "\u001b[1;31mNameError\u001b[0m                                 Traceback (most recent call last)",
      "Cell \u001b[1;32mIn[5], line 6\u001b[0m\n\u001b[0;32m      3\u001b[0m \u001b[38;5;28;01mdef\u001b[39;00m \u001b[38;5;21mdisplay\u001b[39m():\n\u001b[0;32m      4\u001b[0m     \u001b[38;5;28mprint\u001b[39m(\u001b[38;5;124m\"\u001b[39m\u001b[38;5;124mWelcome to function concept\u001b[39m\u001b[38;5;124m\"\u001b[39m)\n\u001b[1;32m----> 6\u001b[0m \u001b[43mdetail\u001b[49m()\n",
      "\u001b[1;31mNameError\u001b[0m: name 'detail' is not defined"
     ]
    }
   ],
   "source": [
    "# Name error\n",
    "\n",
    "def display():\n",
    "    print(\"Welcome to function concept\")\n",
    "    \n",
    "detail()"
   ]
  },
  {
   "cell_type": "code",
   "execution_count": 6,
   "id": "cbafa3bd",
   "metadata": {},
   "outputs": [
    {
     "name": "stdout",
     "output_type": "stream",
     "text": [
      "This is first function\n",
      "This is second function\n"
     ]
    }
   ],
   "source": [
    "#  CREATING TWO FUNCTIONS IN A SINGLE PROGRAM\n",
    "\n",
    "def first():\n",
    "    print(\"This is first function\")\n",
    "    \n",
    "def second():\n",
    "    print(\"This is second function\")\n",
    "    \n",
    "first()\n",
    "second()"
   ]
  },
  {
   "cell_type": "code",
   "execution_count": 7,
   "id": "c674f52b",
   "metadata": {},
   "outputs": [],
   "source": [
    "# A FUNCTION CAN CALL OTHER FUNCTION"
   ]
  },
  {
   "cell_type": "code",
   "execution_count": 8,
   "id": "8c7295d0",
   "metadata": {},
   "outputs": [
    {
     "name": "stdout",
     "output_type": "stream",
     "text": [
      "First function\n",
      "second function\n"
     ]
    }
   ],
   "source": [
    "def m1():\n",
    "    print(\"First function\")\n",
    "def m2():\n",
    "    print(\"second function\")\n",
    "    \n",
    "m1()\n",
    "m2()\n"
   ]
  },
  {
   "cell_type": "code",
   "execution_count": 10,
   "id": "3cf5438d",
   "metadata": {},
   "outputs": [
    {
     "name": "stdout",
     "output_type": "stream",
     "text": [
      "second function\n",
      "First function\n"
     ]
    }
   ],
   "source": [
    "def m1():\n",
    "    m2()\n",
    "    print(\"First function\")\n",
    "    \n",
    "    \n",
    "def m2():\n",
    "    print(\"second function\")\n",
    "    \n",
    "m1()\n"
   ]
  },
  {
   "cell_type": "code",
   "execution_count": 11,
   "id": "8ddf5a40",
   "metadata": {},
   "outputs": [],
   "source": [
    "#  FUNCTION WITH PARAMETER\n"
   ]
  },
  {
   "cell_type": "code",
   "execution_count": 14,
   "id": "9a0c299c",
   "metadata": {},
   "outputs": [
    {
     "name": "stdout",
     "output_type": "stream",
     "text": [
      "One parameterised function: 10\n"
     ]
    }
   ],
   "source": [
    "def testing(a):\n",
    "    print(\"One parameterised function:\",a)\n",
    "    \n",
    "testing(10)"
   ]
  },
  {
   "cell_type": "code",
   "execution_count": 15,
   "id": "b26f26e4",
   "metadata": {},
   "outputs": [
    {
     "name": "stdout",
     "output_type": "stream",
     "text": [
      "One parameterised function: 10.55\n"
     ]
    }
   ],
   "source": [
    "def testing(a):\n",
    "    print(\"One parameterised function:\",a)\n",
    "    \n",
    "testing(10.55)"
   ]
  },
  {
   "cell_type": "code",
   "execution_count": 16,
   "id": "57db5c1e",
   "metadata": {},
   "outputs": [
    {
     "name": "stdout",
     "output_type": "stream",
     "text": [
      "One parameterised function: Akshay\n"
     ]
    }
   ],
   "source": [
    "def testing(a):\n",
    "    print(\"One parameterised function:\",a)\n",
    "    \n",
    "testing(\"Akshay\")"
   ]
  },
  {
   "cell_type": "code",
   "execution_count": 18,
   "id": "0cd173c3",
   "metadata": {},
   "outputs": [
    {
     "name": "stdout",
     "output_type": "stream",
     "text": [
      "Enter a value:55\n",
      "one parameterised finction: 55\n"
     ]
    }
   ],
   "source": [
    "def testing(a):\n",
    "    print(\"one parameterised finction:\",a)\n",
    "    \n",
    "a=input(\"Enter a value:\")\n",
    "testing(a)"
   ]
  },
  {
   "cell_type": "code",
   "execution_count": 20,
   "id": "e8297b4e",
   "metadata": {},
   "outputs": [
    {
     "name": "stdout",
     "output_type": "stream",
     "text": [
      "two parameterised finction: 10 20\n"
     ]
    }
   ],
   "source": [
    "def testing(a,b):\n",
    "    print(\"two parameterised finction:\", a,b)\n",
    "testing(10,20)"
   ]
  },
  {
   "cell_type": "code",
   "execution_count": 21,
   "id": "6f029de0",
   "metadata": {},
   "outputs": [
    {
     "name": "stdout",
     "output_type": "stream",
     "text": [
      "Addition of two values= 30\n"
     ]
    }
   ],
   "source": [
    "def addition(a,b):\n",
    "    print(\"Addition of two values=\",(a+b))\n",
    "    \n",
    "addition(10,20)"
   ]
  },
  {
   "cell_type": "code",
   "execution_count": 22,
   "id": "4e05f97c",
   "metadata": {},
   "outputs": [],
   "source": [
    "# RETURN KEYWORD"
   ]
  },
  {
   "cell_type": "code",
   "execution_count": 23,
   "id": "23df57ba",
   "metadata": {},
   "outputs": [
    {
     "name": "stdout",
     "output_type": "stream",
     "text": [
      "Hello\n"
     ]
    },
    {
     "ename": "SyntaxError",
     "evalue": "'return' outside function (3226782495.py, line 4)",
     "output_type": "error",
     "traceback": [
      "\u001b[1;36m  Cell \u001b[1;32mIn[23], line 4\u001b[1;36m\u001b[0m\n\u001b[1;33m    return 100\u001b[0m\n\u001b[1;37m    ^\u001b[0m\n\u001b[1;31mSyntaxError\u001b[0m\u001b[1;31m:\u001b[0m 'return' outside function\n"
     ]
    }
   ],
   "source": [
    "#  return outside the function  ERROR\n",
    "\n",
    "print('Hello')\n",
    "return 100"
   ]
  },
  {
   "cell_type": "code",
   "execution_count": 24,
   "id": "6d48dbc4",
   "metadata": {},
   "outputs": [
    {
     "name": "stdout",
     "output_type": "stream",
     "text": [
      "My bank balance is: \n"
     ]
    }
   ],
   "source": [
    "# FUNCTION WITHOUT RETURN\n",
    "\n",
    "def balance():\n",
    "    print(\"My bank balance is: \")\n",
    "balance()"
   ]
  },
  {
   "cell_type": "code",
   "execution_count": 25,
   "id": "c2c7a0dd",
   "metadata": {},
   "outputs": [
    {
     "name": "stdout",
     "output_type": "stream",
     "text": [
      "My bank balance is:\n"
     ]
    },
    {
     "data": {
      "text/plain": [
       "100"
      ]
     },
     "execution_count": 25,
     "metadata": {},
     "output_type": "execute_result"
    }
   ],
   "source": [
    "# FUNCTION WITH RETURN\n",
    "\n",
    "def balance():\n",
    "    print(\"My bank balance is:\")\n",
    "    return 100\n",
    "balance()"
   ]
  },
  {
   "cell_type": "code",
   "execution_count": 26,
   "id": "da6be0a3",
   "metadata": {},
   "outputs": [
    {
     "name": "stdout",
     "output_type": "stream",
     "text": [
      "My bank balance is :\n",
      "100\n"
     ]
    }
   ],
   "source": [
    "def balance():\n",
    "    print(\"My bank balance is :\")\n",
    "    return 100\n",
    "b=balance()\n",
    "print(b)"
   ]
  },
  {
   "cell_type": "code",
   "execution_count": 27,
   "id": "8250a146",
   "metadata": {},
   "outputs": [
    {
     "name": "stdout",
     "output_type": "stream",
     "text": [
      "My bank balance is :\n",
      "None\n"
     ]
    }
   ],
   "source": [
    "def balance():\n",
    "    print(\"My bank balance is :\")\n",
    "    \n",
    "b=balance()\n",
    "print(b)"
   ]
  },
  {
   "cell_type": "code",
   "execution_count": 30,
   "id": "8d49237c",
   "metadata": {},
   "outputs": [
    {
     "name": "stdout",
     "output_type": "stream",
     "text": [
      "balance is: 100\n"
     ]
    }
   ],
   "source": [
    "# FUNCTION WITH RETURN STATEMENT\n",
    "\n",
    "\n",
    "def balance():\n",
    "    return 100\n",
    "\n",
    "b=balance()\n",
    "if b==0:\n",
    "    print(\"Balance is :\",b)\n",
    "    \n",
    "elif b==0:\n",
    "    print(\"Balance is:\",b,\" negative plzz deposite\")\n",
    "    \n",
    "else:\n",
    "    print(\"balance is:\",b)\n",
    "    "
   ]
  },
  {
   "cell_type": "code",
   "execution_count": 31,
   "id": "562678b7",
   "metadata": {},
   "outputs": [
    {
     "name": "stdout",
     "output_type": "stream",
     "text": [
      "Balance is:  0\n"
     ]
    }
   ],
   "source": [
    "def balance():\n",
    "    return 0\n",
    "b = balance()\n",
    "if b == 0:\n",
    "    print(\"Balance is: \", b)\n",
    "elif b<=0:\n",
    "    print(\"Balance is: \", b, \" negative please deposit\")\n",
    "else:\n",
    "    print(\"Balance is: \", b)"
   ]
  },
  {
   "cell_type": "code",
   "execution_count": 32,
   "id": "99e7cd36",
   "metadata": {},
   "outputs": [
    {
     "name": "stdout",
     "output_type": "stream",
     "text": [
      "Balance is:  -50  negative please deposit\n"
     ]
    }
   ],
   "source": [
    "def balance():\n",
    "    return -50\n",
    "b = balance()\n",
    "if b == 0:\n",
    "    print(\"Balance is: \", b)\n",
    "elif b<=0:\n",
    "    print(\"Balance is: \", b, \" negative please deposit\")\n",
    "else:\n",
    "    print(\"Balance is: \", b)"
   ]
  },
  {
   "cell_type": "code",
   "execution_count": 34,
   "id": "de93d7ca",
   "metadata": {},
   "outputs": [
    {
     "name": "stdout",
     "output_type": "stream",
     "text": [
      "My balance is :\n",
      "100\n"
     ]
    }
   ],
   "source": [
    "# This program also valid but not recommnded\n",
    "\n",
    "def balance():\n",
    "    print(\"My balance is :\")\n",
    "    return 100\n",
    "print(balance())"
   ]
  },
  {
   "cell_type": "code",
   "execution_count": 35,
   "id": "47a15ded",
   "metadata": {},
   "outputs": [
    {
     "name": "stdout",
     "output_type": "stream",
     "text": [
      "This function is returning nothing\n",
      "None\n"
     ]
    }
   ],
   "source": [
    "#  function returning the None value\n",
    "\n",
    "def m1():\n",
    "    print(\"This function is returning nothing\")\n",
    "x = m1()\n",
    "print(x)\n"
   ]
  },
  {
   "cell_type": "code",
   "execution_count": 36,
   "id": "7c0d7ab3",
   "metadata": {},
   "outputs": [
    {
     "name": "stdout",
     "output_type": "stream",
     "text": [
      "first value is 10\n",
      "second value is 20\n"
     ]
    }
   ],
   "source": [
    "#  A FUCTION CAN RETURN MULTIPLE VALUES\n",
    "\n",
    "def m1():\n",
    "    a=10\n",
    "    b=20\n",
    "    return a,b\n",
    "x,y=m1()\n",
    "\n",
    "print(\"first value is\",x)\n",
    "print(\"second value is\",y)"
   ]
  },
  {
   "cell_type": "code",
   "execution_count": 38,
   "id": "bedcdb7b",
   "metadata": {},
   "outputs": [
    {
     "name": "stdout",
     "output_type": "stream",
     "text": [
      "first value is: 10\n",
      "second value is: 11\n",
      "third value is: 12\n"
     ]
    }
   ],
   "source": [
    "def m1():\n",
    "    a = 10\n",
    "    b = 11\n",
    "    c = 12\n",
    "    return a, b, c\n",
    "x, y, z = m1()\n",
    "print(\"first value is:\", x)\n",
    "print(\"second value is:\", y)\n",
    "print(\"third value is:\", z)"
   ]
  },
  {
   "cell_type": "code",
   "execution_count": 39,
   "id": "f09cd34b",
   "metadata": {},
   "outputs": [
    {
     "name": "stdout",
     "output_type": "stream",
     "text": [
      "all values: (10, 11, 12)\n"
     ]
    }
   ],
   "source": [
    "def m1():\n",
    "    a = 10\n",
    "    b = 11\n",
    "    c = 12\n",
    "    return a, b, c\n",
    "x = m1()\n",
    "print(\"all values:\", x)"
   ]
  },
  {
   "cell_type": "code",
   "execution_count": 40,
   "id": "99f7f432",
   "metadata": {},
   "outputs": [
    {
     "name": "stdout",
     "output_type": "stream",
     "text": [
      "Addition of values= 60\n"
     ]
    }
   ],
   "source": [
    "def add(x,y,z):\n",
    "    result=x+y+z\n",
    "    return result\n",
    "r= add(10,20,30)\n",
    "\n",
    "print(\"Addition of values=\",r)"
   ]
  },
  {
   "cell_type": "code",
   "execution_count": null,
   "id": "c6265b85",
   "metadata": {},
   "outputs": [],
   "source": []
  }
 ],
 "metadata": {
  "kernelspec": {
   "display_name": "Python 3 (ipykernel)",
   "language": "python",
   "name": "python3"
  },
  "language_info": {
   "codemirror_mode": {
    "name": "ipython",
    "version": 3
   },
   "file_extension": ".py",
   "mimetype": "text/x-python",
   "name": "python",
   "nbconvert_exporter": "python",
   "pygments_lexer": "ipython3",
   "version": "3.10.9"
  }
 },
 "nbformat": 4,
 "nbformat_minor": 5
}
