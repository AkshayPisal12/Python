{
 "cells": [
  {
   "cell_type": "code",
   "execution_count": 2,
   "id": "0c5578d1",
   "metadata": {},
   "outputs": [],
   "source": [
    "# Python Input and Output"
   ]
  },
  {
   "cell_type": "code",
   "execution_count": 3,
   "id": "26cfc060",
   "metadata": {},
   "outputs": [
    {
     "name": "stdout",
     "output_type": "stream",
     "text": [
      "21\n"
     ]
    }
   ],
   "source": [
    "#  Hard coading the Values\n",
    "\n",
    "age=21\n",
    "print(age)"
   ]
  },
  {
   "cell_type": "code",
   "execution_count": 4,
   "id": "8590165d",
   "metadata": {},
   "outputs": [
    {
     "name": "stdout",
     "output_type": "stream",
     "text": [
      "Enter your nameAkshay\n",
      "you enter name as: Akshay\n"
     ]
    }
   ],
   "source": [
    "# Printing name by taking value at run time\n",
    "\n",
    "\n",
    "name= input(\"Enter your name\")\n",
    "print(\"you enter name as:\",name)"
   ]
  },
  {
   "cell_type": "code",
   "execution_count": 5,
   "id": "eb1e26ab",
   "metadata": {},
   "outputs": [
    {
     "name": "stdout",
     "output_type": "stream",
     "text": [
      "Enter the name: Akshay\n",
      "Enter the age:21\n",
      "you entered name as: Akshay\n",
      "you entered age as: 21\n"
     ]
    }
   ],
   "source": [
    "# Printing name and age by taking value atbruntime\n",
    "\n",
    "name=input(\"Enter the name: \")\n",
    "age=input(\"Enter the age:\")\n",
    "\n",
    "print(\"you entered name as:\" ,name)\n",
    "print(\"you entered age as:\",age)"
   ]
  },
  {
   "cell_type": "code",
   "execution_count": 6,
   "id": "3edb090d",
   "metadata": {},
   "outputs": [
    {
     "name": "stdout",
     "output_type": "stream",
     "text": [
      "Enter the value Akshay\n",
      "Entered value as:  Akshay\n",
      "type is:  <class 'str'>\n"
     ]
    }
   ],
   "source": [
    "#checking type for input function\n",
    "\n",
    "value = input(\"Enter the value \")\n",
    "print(\"Entered value as: \", value)\n",
    "print(\"type is: \", type(value))"
   ]
  },
  {
   "cell_type": "code",
   "execution_count": 7,
   "id": "b5abd7a9",
   "metadata": {},
   "outputs": [
    {
     "name": "stdout",
     "output_type": "stream",
     "text": [
      "123\n",
      "<class 'str'>\n",
      "123\n",
      "<class 'int'>\n"
     ]
    }
   ],
   "source": [
    "# Conver from string to int data type\n",
    "\n",
    "a = \"123\"\n",
    "print(a)\n",
    "print(type(a))\n",
    "\n",
    "b=int(a)\n",
    "print(b)\n",
    "print(type(b))"
   ]
  },
  {
   "cell_type": "code",
   "execution_count": 8,
   "id": "5efdfac4",
   "metadata": {},
   "outputs": [
    {
     "name": "stdout",
     "output_type": "stream",
     "text": [
      "Enter a value:123\n",
      "Your value is: 123\n",
      "data type is: <class 'str'>\n",
      "After converting the value is: 123\n",
      "data type is: <class 'int'>\n"
     ]
    }
   ],
   "source": [
    "#Converting from string to int data type\n",
    "\n",
    "a = input(\"Enter a value:\")\n",
    "print(\"Your value is:\", a)\n",
    "print(\"data type is:\", type(a))\n",
    "b = int(a)\n",
    "print(\"After converting the value is:\", b)\n",
    "print(\"data type is:\", type(b))"
   ]
  },
  {
   "cell_type": "code",
   "execution_count": 9,
   "id": "acd468cc",
   "metadata": {},
   "outputs": [
    {
     "name": "stdout",
     "output_type": "stream",
     "text": [
      "123.99\n",
      "<class 'str'>\n",
      "123.99\n",
      "<class 'float'>\n"
     ]
    }
   ],
   "source": [
    "#  Converting from string to float data type\n",
    "\n",
    "a = \"123.99\"\n",
    "print(a)\n",
    "print(type(a))\n",
    "\n",
    "b = float(a)\n",
    "print(b)\n",
    "print(type(b))"
   ]
  },
  {
   "cell_type": "code",
   "execution_count": 10,
   "id": "d77164cf",
   "metadata": {},
   "outputs": [
    {
     "name": "stdout",
     "output_type": "stream",
     "text": [
      "Enter a value:11.10\n",
      "Your value is: 11.10\n",
      "data type is: <class 'str'>\n",
      "After converting the value is: 11.1\n",
      "data type is: <class 'float'>\n"
     ]
    }
   ],
   "source": [
    "#  Converting from string to float data type\n",
    "\n",
    "a = input(\"Enter a value:\")\n",
    "print(\"Your value is:\", a)\n",
    "print(\"data type is:\", type(a))\n",
    "\n",
    "b = float(a)\n",
    "print(\"After converting the value is:\", b)\n",
    "print(\"data type is:\", type(b))"
   ]
  },
  {
   "cell_type": "code",
   "execution_count": 11,
   "id": "2ada0317",
   "metadata": {},
   "outputs": [
    {
     "name": "stdout",
     "output_type": "stream",
     "text": [
      "10000.45\n",
      "<class 'float'>\n",
      "10000\n",
      "<class 'int'>\n"
     ]
    }
   ],
   "source": [
    "#Converting from float to int data type\n",
    "# demo10.py\n",
    "a = 10000.45\n",
    "print(a)\n",
    "print(type(a))\n",
    "b = int(a)\n",
    "print(b)\n",
    "print(type(b))"
   ]
  },
  {
   "cell_type": "code",
   "execution_count": 12,
   "id": "8b00bf7a",
   "metadata": {},
   "outputs": [
    {
     "name": "stdout",
     "output_type": "stream",
     "text": [
      "Enter First product price:15\n",
      "Enter Second product price:25\n",
      "Total price is: 1525\n"
     ]
    }
   ],
   "source": [
    "#  + operator concatenates/joins two string values\n",
    "\n",
    "\n",
    "p1 = input(\"Enter First product price:\")\n",
    "p2 = input(\"Enter Second product price:\")\n",
    "\n",
    "print(\"Total price is:\", p1+p2)\n"
   ]
  },
  {
   "cell_type": "code",
   "execution_count": 13,
   "id": "2cf19710",
   "metadata": {},
   "outputs": [
    {
     "name": "stdout",
     "output_type": "stream",
     "text": [
      "Enter First product price:55\n",
      "Enter Second product price:55\n",
      "Total price is: 110\n"
     ]
    }
   ],
   "source": [
    "#Converting string to int and perform + operator\n",
    "\n",
    "\n",
    "p1 = input(\"Enter First product price:\")\n",
    "p2 = input(\"Enter Second product price:\")\n",
    "a = int(p1)\n",
    "b = int(p2)\n",
    "print(\"Total price is:\", a+b)"
   ]
  },
  {
   "cell_type": "code",
   "execution_count": null,
   "id": "770ad269",
   "metadata": {},
   "outputs": [],
   "source": []
  }
 ],
 "metadata": {
  "kernelspec": {
   "display_name": "Python 3 (ipykernel)",
   "language": "python",
   "name": "python3"
  },
  "language_info": {
   "codemirror_mode": {
    "name": "ipython",
    "version": 3
   },
   "file_extension": ".py",
   "mimetype": "text/x-python",
   "name": "python",
   "nbconvert_exporter": "python",
   "pygments_lexer": "ipython3",
   "version": "3.10.9"
  }
 },
 "nbformat": 4,
 "nbformat_minor": 5
}
