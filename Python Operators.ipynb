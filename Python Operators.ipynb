{
 "cells": [
  {
   "cell_type": "code",
   "execution_count": 1,
   "id": "06a1d500",
   "metadata": {},
   "outputs": [],
   "source": [
    "#  Python Operators\n"
   ]
  },
  {
   "cell_type": "code",
   "execution_count": null,
   "id": "e20c7e05",
   "metadata": {},
   "outputs": [],
   "source": []
  },
  {
   "cell_type": "code",
   "execution_count": 2,
   "id": "b9a918dd",
   "metadata": {},
   "outputs": [
    {
     "name": "stdout",
     "output_type": "stream",
     "text": [
      "30\n"
     ]
    }
   ],
   "source": [
    "# Operators and Operands\n",
    "\n",
    "a=10\n",
    "b=20\n",
    "\n",
    "c=a+b\n",
    "print(c)"
   ]
  },
  {
   "cell_type": "code",
   "execution_count": 3,
   "id": "0a36adff",
   "metadata": {},
   "outputs": [
    {
     "name": "stdout",
     "output_type": "stream",
     "text": [
      "18\n",
      "8\n",
      "65\n",
      "2.6\n",
      "3\n",
      "371293\n",
      "2\n"
     ]
    }
   ],
   "source": [
    "a=13\n",
    "b=5\n",
    "\n",
    "print(a+b)\n",
    "print(a-b)\n",
    "print(a*b)\n",
    "print(a/b)\n",
    "print(a%b)\n",
    "print(a**b)\n",
    "print(a//b)"
   ]
  },
  {
   "cell_type": "code",
   "execution_count": 5,
   "id": "e9c265fa",
   "metadata": {},
   "outputs": [
    {
     "name": "stdout",
     "output_type": "stream",
     "text": [
      "13\n",
      "18\n"
     ]
    }
   ],
   "source": [
    "# Assignment operator\n",
    "\n",
    "a=13\n",
    "print(a)\n",
    "a+=5\n",
    "print(a)\n"
   ]
  },
  {
   "cell_type": "code",
   "execution_count": 6,
   "id": "c0c2991f",
   "metadata": {},
   "outputs": [
    {
     "name": "stdout",
     "output_type": "stream",
     "text": [
      "10\n",
      "-10\n"
     ]
    }
   ],
   "source": [
    "#  Uniary minus operator\n",
    "\n",
    "a=10\n",
    "print(a)\n",
    "print(-a)"
   ]
  },
  {
   "cell_type": "code",
   "execution_count": 7,
   "id": "b3782fb2",
   "metadata": {},
   "outputs": [
    {
     "name": "stdout",
     "output_type": "stream",
     "text": [
      "True\n",
      "False\n",
      "True\n",
      "False\n",
      "False\n",
      "True\n"
     ]
    }
   ],
   "source": [
    "#  Relational Operators\n",
    "\n",
    "a=13\n",
    "b=5\n",
    "\n",
    "print(a>b)\n",
    "print(a<b)\n",
    "print(a>=b)\n",
    "print(a<=b)\n",
    "print(a==b)\n",
    "print(a!=b)\n"
   ]
  },
  {
   "cell_type": "code",
   "execution_count": 8,
   "id": "03b45266",
   "metadata": {},
   "outputs": [
    {
     "name": "stdout",
     "output_type": "stream",
     "text": [
      "True\n",
      "True\n",
      "False\n"
     ]
    }
   ],
   "source": [
    "#  Logical Operators\n",
    "\n",
    "a=True\n",
    "b=False\n",
    "\n",
    "print(a and a)\n",
    "print(a or b)\n",
    "print(not a)\n"
   ]
  },
  {
   "cell_type": "code",
   "execution_count": 10,
   "id": "f75a8d61",
   "metadata": {},
   "outputs": [
    {
     "name": "stdout",
     "output_type": "stream",
     "text": [
      "False\n",
      "True\n"
     ]
    }
   ],
   "source": [
    "#Logical operators\n",
    "\n",
    "a=1\n",
    "b=2\n",
    "c=3\n",
    "\n",
    "print((a>b)and (b>c))\n",
    "print((a<b)and (b<c))"
   ]
  },
  {
   "cell_type": "code",
   "execution_count": 11,
   "id": "5831328c",
   "metadata": {},
   "outputs": [
    {
     "name": "stdout",
     "output_type": "stream",
     "text": [
      "True\n",
      "False\n"
     ]
    }
   ],
   "source": [
    "#  In Not Operators\n",
    "\n",
    "values = [10, 20, 30]\n",
    "\n",
    "print(20 in values)\n",
    "print(22 in values)\n"
   ]
  },
  {
   "cell_type": "code",
   "execution_count": 12,
   "id": "aa1ab27a",
   "metadata": {},
   "outputs": [
    {
     "name": "stdout",
     "output_type": "stream",
     "text": [
      "False\n",
      "True\n",
      "False\n",
      "True\n"
     ]
    }
   ],
   "source": [
    "#  IN  Not operator\n",
    "\n",
    "text=\"welcome to [pythin programming\"\n",
    "\n",
    "print(\"Welcome\" in text)\n",
    "print(\"welcome\" in text)\n",
    "print(\"Akshy\" in text)\n",
    "print(\"Akshay\" not in text)"
   ]
  },
  {
   "cell_type": "code",
   "execution_count": null,
   "id": "192b8468",
   "metadata": {},
   "outputs": [],
   "source": []
  }
 ],
 "metadata": {
  "kernelspec": {
   "display_name": "Python 3 (ipykernel)",
   "language": "python",
   "name": "python3"
  },
  "language_info": {
   "codemirror_mode": {
    "name": "ipython",
    "version": 3
   },
   "file_extension": ".py",
   "mimetype": "text/x-python",
   "name": "python",
   "nbconvert_exporter": "python",
   "pygments_lexer": "ipython3",
   "version": "3.10.9"
  }
 },
 "nbformat": 4,
 "nbformat_minor": 5
}
