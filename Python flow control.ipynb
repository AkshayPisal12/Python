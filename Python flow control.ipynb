{
 "cells": [
  {
   "cell_type": "code",
   "execution_count": 1,
   "id": "78730b85",
   "metadata": {},
   "outputs": [],
   "source": [
    "#   IF STATEMENT"
   ]
  },
  {
   "cell_type": "code",
   "execution_count": 3,
   "id": "90972627",
   "metadata": {},
   "outputs": [
    {
     "name": "stdout",
     "output_type": "stream",
     "text": [
      "x==y value is: True\n",
      " if block statement executed\n"
     ]
    }
   ],
   "source": [
    "x=1\n",
    "y=1\n",
    "print(\"x==y value is:\",(x==y))\n",
    "if x==y:\n",
    "    print(\" if block statement executed\")"
   ]
  },
  {
   "cell_type": "code",
   "execution_count": 10,
   "id": "dfc1f8a5",
   "metadata": {},
   "outputs": [
    {
     "name": "stdout",
     "output_type": "stream",
     "text": [
      "x==y value is; False\n",
      "out of block statements\n"
     ]
    }
   ],
   "source": [
    "x=1\n",
    "y=2\n",
    "\n",
    "print(\"x==y value is;\",(x==y))\n",
    "if x==y:\n",
    "    print(\"if block statement is executed \")\n",
    "print (\"out of block statements\")    "
   ]
  },
  {
   "cell_type": "code",
   "execution_count": 11,
   "id": "57a4a3be",
   "metadata": {},
   "outputs": [],
   "source": [
    "  #IF ELSE STATEMENT"
   ]
  },
  {
   "cell_type": "code",
   "execution_count": 14,
   "id": "073cbd0d",
   "metadata": {},
   "outputs": [
    {
     "name": "stdout",
     "output_type": "stream",
     "text": [
      "x==Y valus is : True\n",
      "if block statement executed \n"
     ]
    }
   ],
   "source": [
    "x=1\n",
    "y=1\n",
    "\n",
    "print(\"x==Y valus is :\",(x==y))\n",
    "\n",
    "if x==y:\n",
    "    print(\"if block statement executed \")\n",
    "\n",
    "else:\n",
    "    print(\"else block statement executed\")"
   ]
  },
  {
   "cell_type": "code",
   "execution_count": 15,
   "id": "84968105",
   "metadata": {},
   "outputs": [
    {
     "name": "stdout",
     "output_type": "stream",
     "text": [
      "x==Y valus is : False\n",
      "else block statement executed\n"
     ]
    }
   ],
   "source": [
    "x=1\n",
    "y=2\n",
    "\n",
    "print(\"x==Y valus is :\",(x==y))\n",
    "\n",
    "if x==y:\n",
    "    print(\"if block statement executed \")\n",
    "\n",
    "else:\n",
    "    print(\"else block statement executed\")"
   ]
  },
  {
   "cell_type": "code",
   "execution_count": null,
   "id": "df7ef317",
   "metadata": {},
   "outputs": [],
   "source": [
    "print(\"enter the value from 0 to 4\")\n",
    "\n",
    "x=int(input(\"Enter a number\"))\n",
    "\n",
    "if x==0:\n",
    "    print(\"you entered:\",x)\n",
    "elif x==1:\n",
    "    print(\"you entered:\",x)\n",
    "elif x==2:\n",
    "    print(\"you entered:\",x)\n",
    "elif x==3:\n",
    "    print(\"you entered:\",x)\n",
    "else:\n",
    "    print(\"you entered out of range value\")\n",
    "    "
   ]
  },
  {
   "cell_type": "code",
   "execution_count": null,
   "id": "68d3a334",
   "metadata": {},
   "outputs": [],
   "source": []
  }
 ],
 "metadata": {
  "kernelspec": {
   "display_name": "Python 3 (ipykernel)",
   "language": "python",
   "name": "python3"
  },
  "language_info": {
   "codemirror_mode": {
    "name": "ipython",
    "version": 3
   },
   "file_extension": ".py",
   "mimetype": "text/x-python",
   "name": "python",
   "nbconvert_exporter": "python",
   "pygments_lexer": "ipython3",
   "version": "3.10.9"
  }
 },
 "nbformat": 4,
 "nbformat_minor": 5
}
