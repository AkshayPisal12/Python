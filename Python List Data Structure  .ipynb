{
 "cells": [
  {
   "cell_type": "code",
   "execution_count": 1,
   "id": "9ded7914",
   "metadata": {},
   "outputs": [],
   "source": [
    "#  Data Science -Python List Data Structure"
   ]
  },
  {
   "cell_type": "code",
   "execution_count": 2,
   "id": "bbd61005",
   "metadata": {},
   "outputs": [
    {
     "name": "stdout",
     "output_type": "stream",
     "text": [
      "[]\n",
      "<class 'list'>\n"
     ]
    }
   ],
   "source": [
    "a=[]\n",
    "\n",
    "print(a)\n",
    "print(type(a))"
   ]
  },
  {
   "cell_type": "code",
   "execution_count": 4,
   "id": "120446be",
   "metadata": {},
   "outputs": [
    {
     "name": "stdout",
     "output_type": "stream",
     "text": [
      "[10, 20, 30, 40]\n"
     ]
    }
   ],
   "source": [
    "#  Creating List with same type of elements\n",
    "\n",
    "numbers=[10,20,30,40]\n",
    "print(numbers)"
   ]
  },
  {
   "cell_type": "code",
   "execution_count": 5,
   "id": "17751957",
   "metadata": {},
   "outputs": [
    {
     "name": "stdout",
     "output_type": "stream",
     "text": [
      "['Daniel', 'Sonu', 'abhi']\n"
     ]
    }
   ],
   "source": [
    "names=[\"Daniel\",\"Sonu\",\"abhi\"]\n",
    "print(names)"
   ]
  },
  {
   "cell_type": "code",
   "execution_count": 6,
   "id": "191ea78a",
   "metadata": {},
   "outputs": [
    {
     "name": "stdout",
     "output_type": "stream",
     "text": [
      "['Daniel', 10, 35.9]\n"
     ]
    }
   ],
   "source": [
    "student_info=[\"Daniel\",10,35.9]\n",
    "print(student_info)"
   ]
  },
  {
   "cell_type": "code",
   "execution_count": 7,
   "id": "5746bf11",
   "metadata": {},
   "outputs": [
    {
     "name": "stdout",
     "output_type": "stream",
     "text": [
      "[0, 1, 2, 3, 4, 5, 6, 7, 8, 9]\n"
     ]
    }
   ],
   "source": [
    "#   Creating List by using list(p) predifined function\n",
    "\n",
    "r=range(0,10)\n",
    "a=list(r)\n",
    "print(a)"
   ]
  },
  {
   "cell_type": "code",
   "execution_count": 10,
   "id": "f67f1865",
   "metadata": {},
   "outputs": [
    {
     "name": "stdout",
     "output_type": "stream",
     "text": [
      "[1, 2, 3, 4, 5]\n",
      "Before modifying a[0]: 1\n",
      "After modifyinga[0]: 20\n",
      "[20, 2, 3, 4, 5]\n"
     ]
    }
   ],
   "source": [
    "# List having mutable nature\n",
    "\n",
    "a=[1,2,3,4,5,]\n",
    "print(a)\n",
    "print(\"Before modifying a[0]:\",a[0])\n",
    "\n",
    "\n",
    "\n",
    "a[0]=20\n",
    "\n",
    "print(\"After modifyinga[0]:\",a[0])\n",
    "print(a)"
   ]
  },
  {
   "cell_type": "code",
   "execution_count": 2,
   "id": "9101bac7",
   "metadata": {},
   "outputs": [
    {
     "name": "stdout",
     "output_type": "stream",
     "text": [
      "['Daniel', 'Prasad', 'Ramesh']\n",
      "Daniel\n",
      "Ramesh\n",
      "<class 'list'>\n"
     ]
    }
   ],
   "source": [
    "#   Accesinhg elements from list\n",
    "# By using Indexing\n",
    "\n",
    "names=[\"Daniel\",\"Prasad\",\"Ramesh\"]\n",
    "\n",
    "print(names)\n",
    "print(names[0])\n",
    "print(names[2])\n",
    "\n",
    "print(type(names))\n"
   ]
  },
  {
   "cell_type": "code",
   "execution_count": 4,
   "id": "3717f5c3",
   "metadata": {},
   "outputs": [
    {
     "name": "stdout",
     "output_type": "stream",
     "text": [
      "['Daniel', 'Prasad', 'Ramesh']\n",
      "Daniel\n",
      "Prasad\n",
      "Ramesh\n",
      "<class 'list'>\n",
      "<class 'str'>\n",
      "<class 'str'>\n",
      "<class 'str'>\n"
     ]
    }
   ],
   "source": [
    "names =[\"Daniel\",\"Prasad\",\"Ramesh\"]\n",
    "print(names)\n",
    "\n",
    "print(names[0])\n",
    "print(names[1])\n",
    "print(names[2])\n",
    "\n",
    "print(type(names))\n",
    "\n",
    "print(type(names[0]))\n",
    "print(type(names[1]))\n",
    "print(type(names[2]))"
   ]
  },
  {
   "cell_type": "code",
   "execution_count": 5,
   "id": "10788bd6",
   "metadata": {},
   "outputs": [
    {
     "name": "stdout",
     "output_type": "stream",
     "text": [
      "['Daniel', 'Prasad', 'Ramesh']\n"
     ]
    },
    {
     "ename": "IndexError",
     "evalue": "list index out of range",
     "output_type": "error",
     "traceback": [
      "\u001b[1;31m---------------------------------------------------------------------------\u001b[0m",
      "\u001b[1;31mIndexError\u001b[0m                                Traceback (most recent call last)",
      "Cell \u001b[1;32mIn[5], line 6\u001b[0m\n\u001b[0;32m      3\u001b[0m names\u001b[38;5;241m=\u001b[39m[\u001b[38;5;124m\"\u001b[39m\u001b[38;5;124mDaniel\u001b[39m\u001b[38;5;124m\"\u001b[39m,\u001b[38;5;124m\"\u001b[39m\u001b[38;5;124mPrasad\u001b[39m\u001b[38;5;124m\"\u001b[39m,\u001b[38;5;124m\"\u001b[39m\u001b[38;5;124mRamesh\u001b[39m\u001b[38;5;124m\"\u001b[39m]\n\u001b[0;32m      5\u001b[0m \u001b[38;5;28mprint\u001b[39m(names)\n\u001b[1;32m----> 6\u001b[0m \u001b[38;5;28mprint\u001b[39m(\u001b[43mnames\u001b[49m\u001b[43m[\u001b[49m\u001b[38;5;241;43m30\u001b[39;49m\u001b[43m]\u001b[49m)\n",
      "\u001b[1;31mIndexError\u001b[0m: list index out of range"
     ]
    }
   ],
   "source": [
    "#  Inde3x Error\n",
    "\n",
    "names=[\"Daniel\",\"Prasad\",\"Ramesh\"]\n",
    "\n",
    "print(names)\n",
    "print(names[30])\n"
   ]
  },
  {
   "cell_type": "code",
   "execution_count": 6,
   "id": "4413861b",
   "metadata": {},
   "outputs": [
    {
     "name": "stdout",
     "output_type": "stream",
     "text": [
      "[1, 2, 3, 4, 5, 6, 7, 8, 9, 10]\n",
      "[1, 2, 3, 4, 5, 6, 7, 8, 9, 10]\n",
      "[1, 2, 3, 4, 5, 6, 7, 8, 9, 10]\n",
      "[1, 2, 3, 4, 5]\n"
     ]
    }
   ],
   "source": [
    "#  Accesing element from List By Slicing\n",
    "\n",
    "\n",
    "n=[1,2,3,4,5,6,7,8,9,10]\n",
    "print(n)\n",
    "print(n[:])\n",
    "print(n[::])\n",
    "print(n[0:5])\n"
   ]
  },
  {
   "cell_type": "code",
   "execution_count": 7,
   "id": "2b7f460b",
   "metadata": {},
   "outputs": [
    {
     "name": "stdout",
     "output_type": "stream",
     "text": [
      "100\n",
      "200\n",
      "300\n",
      "400\n"
     ]
    }
   ],
   "source": [
    "#  Accesing List by using For loop\n",
    "\n",
    "values=[100,200,300,400]\n",
    "\n",
    "for value in values:\n",
    "    print(value)"
   ]
  },
  {
   "cell_type": "code",
   "execution_count": 8,
   "id": "be93596d",
   "metadata": {},
   "outputs": [
    {
     "name": "stdout",
     "output_type": "stream",
     "text": [
      "5\n"
     ]
    }
   ],
   "source": [
    "# Len(p) function\n",
    "\n",
    "values=[10,20,30,40,50]\n",
    "print(len(values))"
   ]
  },
  {
   "cell_type": "code",
   "execution_count": 9,
   "id": "d87e3bbb",
   "metadata": {},
   "outputs": [],
   "source": [
    "#   METHODS IN LIST DATA STRUCTURE"
   ]
  },
  {
   "cell_type": "code",
   "execution_count": 10,
   "id": "7e8b46e9",
   "metadata": {},
   "outputs": [
    {
     "name": "stdout",
     "output_type": "stream",
     "text": [
      "['__add__', '__class__', '__class_getitem__', '__contains__', '__delattr__', '__delitem__', '__dir__', '__doc__', '__eq__', '__format__', '__ge__', '__getattribute__', '__getitem__', '__gt__', '__hash__', '__iadd__', '__imul__', '__init__', '__init_subclass__', '__iter__', '__le__', '__len__', '__lt__', '__mul__', '__ne__', '__new__', '__reduce__', '__reduce_ex__', '__repr__', '__reversed__', '__rmul__', '__setattr__', '__setitem__', '__sizeof__', '__str__', '__subclasshook__', 'append', 'clear', 'copy', 'count', 'extend', 'index', 'insert', 'pop', 'remove', 'reverse', 'sort']\n"
     ]
    }
   ],
   "source": [
    "#  Printing list data structure methods by using dir(list) function\n",
    "\n",
    "print(dir(list))"
   ]
  },
  {
   "cell_type": "code",
   "execution_count": 1,
   "id": "03d65996",
   "metadata": {},
   "outputs": [
    {
     "name": "stdout",
     "output_type": "stream",
     "text": [
      "3\n",
      "1\n"
     ]
    }
   ],
   "source": [
    "#  Count(p) method\n",
    "\n",
    "n=[1,2,3,4,5,5,5,3]\n",
    "print(n.count(5))\n",
    "print(n.count(2))"
   ]
  },
  {
   "cell_type": "code",
   "execution_count": 4,
   "id": "2177c29d",
   "metadata": {},
   "outputs": [
    {
     "name": "stdout",
     "output_type": "stream",
     "text": [
      "[10, 20, 100]\n"
     ]
    }
   ],
   "source": [
    "#  Append elements into list\n",
    "\n",
    "a=[]\n",
    "a.append(10)\n",
    "a.append(20)\n",
    "a.append(100)\n",
    "print(a)"
   ]
  },
  {
   "cell_type": "code",
   "execution_count": 5,
   "id": "c1a11074",
   "metadata": {},
   "outputs": [
    {
     "name": "stdout",
     "output_type": "stream",
     "text": [
      "[10, 20, 'Daniel', 'Naresh', 'Veeru']\n"
     ]
    }
   ],
   "source": [
    "a = [10, 20, \"Daniel\"] \n",
    "a.append(\"Naresh\") \n",
    "a.append(\"Veeru\") \n",
    "print(a)\n"
   ]
  },
  {
   "cell_type": "code",
   "execution_count": 6,
   "id": "d9106a04",
   "metadata": {},
   "outputs": [
    {
     "name": "stdout",
     "output_type": "stream",
     "text": [
      "[76, 10, 20, 30, 40, 50]\n"
     ]
    }
   ],
   "source": [
    "#  Insert Method\n",
    "\n",
    "a=[10,20,30,40,50]\n",
    "\n",
    "a.insert(0,76)\n",
    "print(a)"
   ]
  },
  {
   "cell_type": "code",
   "execution_count": 7,
   "id": "0875842c",
   "metadata": {},
   "outputs": [
    {
     "name": "stdout",
     "output_type": "stream",
     "text": [
      "[20, 30]\n"
     ]
    }
   ],
   "source": [
    "#  remove(p) method\n",
    "\n",
    "a=[10,20,30]\n",
    "\n",
    "a.remove(10)\n",
    "print(a)"
   ]
  },
  {
   "cell_type": "code",
   "execution_count": 8,
   "id": "30afe015",
   "metadata": {},
   "outputs": [
    {
     "name": "stdout",
     "output_type": "stream",
     "text": [
      "[10, 20, 30, 40]\n",
      "[40, 30, 20, 10]\n"
     ]
    }
   ],
   "source": [
    "# reverse() method\n",
    "\n",
    "a=[10,20,30,40]\n",
    "print(a)\n",
    "a.reverse()\n",
    "print(a)"
   ]
  },
  {
   "cell_type": "code",
   "execution_count": 9,
   "id": "28d12db0",
   "metadata": {},
   "outputs": [
    {
     "name": "stdout",
     "output_type": "stream",
     "text": [
      "[10, 30, 40, 50, 70, 90, 610]\n",
      "['Arjun', 'Daniel', 'Ramesh']\n"
     ]
    }
   ],
   "source": [
    "a=[10,40,50,610,30,90,70]\n",
    "a.sort()\n",
    "print(a)\n",
    "\n",
    "b=['Daniel','Ramesh','Arjun']\n",
    "b.sort()\n",
    "print(b)"
   ]
  },
  {
   "cell_type": "code",
   "execution_count": 12,
   "id": "a498553d",
   "metadata": {},
   "outputs": [
    {
     "name": "stdout",
     "output_type": "stream",
     "text": [
      "[10, 20, 30, 40, 50, 60]\n"
     ]
    }
   ],
   "source": [
    "#  Mathamatical + and * operators\n",
    "\n",
    "# + operator concatenates the lists \n",
    "\n",
    "a=[10,20,30]\n",
    "b=[40,50,60]\n",
    "c=a+b\n",
    "\n",
    "print(c)"
   ]
  },
  {
   "cell_type": "code",
   "execution_count": 14,
   "id": "c9816a4f",
   "metadata": {},
   "outputs": [
    {
     "name": "stdout",
     "output_type": "stream",
     "text": [
      "[10, 20, 30]\n",
      "[10, 20, 30, 10, 20, 30, 10, 20, 30]\n"
     ]
    }
   ],
   "source": [
    "#  * repetition operator\n",
    "\n",
    "a=[10,20,30]\n",
    "print(a)\n",
    "print(a*3)"
   ]
  },
  {
   "cell_type": "code",
   "execution_count": null,
   "id": "ffc2fc40",
   "metadata": {},
   "outputs": [],
   "source": []
  }
 ],
 "metadata": {
  "kernelspec": {
   "display_name": "Python 3 (ipykernel)",
   "language": "python",
   "name": "python3"
  },
  "language_info": {
   "codemirror_mode": {
    "name": "ipython",
    "version": 3
   },
   "file_extension": ".py",
   "mimetype": "text/x-python",
   "name": "python",
   "nbconvert_exporter": "python",
   "pygments_lexer": "ipython3",
   "version": "3.10.9"
  }
 },
 "nbformat": 4,
 "nbformat_minor": 5
}
