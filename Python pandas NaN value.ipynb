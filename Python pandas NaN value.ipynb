{
 "cells": [
  {
   "cell_type": "markdown",
   "id": "d4e7e674",
   "metadata": {},
   "source": [
    "# Pandas NuN value\n"
   ]
  },
  {
   "cell_type": "code",
   "execution_count": 1,
   "id": "6826aad1",
   "metadata": {},
   "outputs": [
    {
     "name": "stdout",
     "output_type": "stream",
     "text": [
      "0    36.0\n",
      "1    70.0\n",
      "2     NaN\n",
      "3    60.0\n",
      "dtype: float64\n"
     ]
    }
   ],
   "source": [
    "#  Creating series with NaN values\n",
    "\n",
    "import pandas as pd \n",
    "import numpy as np\n",
    "\n",
    "marks=[36,70,np.nan,60]\n",
    "s=pd.Series(marks)\n",
    "print(s)"
   ]
  },
  {
   "cell_type": "code",
   "execution_count": 3,
   "id": "9761cec7",
   "metadata": {},
   "outputs": [
    {
     "name": "stdout",
     "output_type": "stream",
     "text": [
      "0    Daniel\n",
      "1    Akshay\n",
      "2    Ranjan\n",
      "3       NaN\n",
      "dtype: object\n"
     ]
    }
   ],
   "source": [
    "import pandas as pd\n",
    "import numpy as np\n",
    "\n",
    "names=[\"Daniel\",\"Akshay\",\"Ranjan\",np.nan]\n",
    "s=pd.Series(names)\n",
    "print(s)"
   ]
  },
  {
   "cell_type": "code",
   "execution_count": null,
   "id": "370d81c6",
   "metadata": {},
   "outputs": [],
   "source": []
  }
 ],
 "metadata": {
  "kernelspec": {
   "display_name": "Python 3 (ipykernel)",
   "language": "python",
   "name": "python3"
  },
  "language_info": {
   "codemirror_mode": {
    "name": "ipython",
    "version": 3
   },
   "file_extension": ".py",
   "mimetype": "text/x-python",
   "name": "python",
   "nbconvert_exporter": "python",
   "pygments_lexer": "ipython3",
   "version": "3.10.9"
  }
 },
 "nbformat": 4,
 "nbformat_minor": 5
}
