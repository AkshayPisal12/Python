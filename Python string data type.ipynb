{
 "cells": [
  {
   "cell_type": "code",
   "execution_count": 1,
   "id": "0686b3af",
   "metadata": {},
   "outputs": [],
   "source": [
    "#   STRING DATA TYPE"
   ]
  },
  {
   "cell_type": "code",
   "execution_count": 2,
   "id": "cf8f628f",
   "metadata": {},
   "outputs": [
    {
     "name": "stdout",
     "output_type": "stream",
     "text": [
      "Akshay name is created by using single quotes\n",
      "Akshay name is created by using double quotes\n",
      "Akshay name is created by using triple single quotes\n",
      "Akshay name is created by using triple double quotes quotes\n"
     ]
    }
   ],
   "source": [
    "name1='Akshay'\n",
    "name2=\"Akshay\"\n",
    "name3='''Akshay'''\n",
    "name4=\"\"\"Akshay\"\"\"\n",
    "\n",
    "\n",
    "print(name1,\"name is created by using single quotes\")\n",
    "print(name2,\"name is created by using double quotes\")\n",
    "print(name3,\"name is created by using triple single quotes\")\n",
    "print(name4,\"name is created by using triple double quotes quotes\")"
   ]
  },
  {
   "cell_type": "code",
   "execution_count": 3,
   "id": "c84fc32a",
   "metadata": {},
   "outputs": [
    {
     "name": "stdout",
     "output_type": "stream",
     "text": [
      "TCS company \n",
      "        white field \n",
      "        banglore\n",
      "TCS company \n",
      "     Pune \n",
      "     Hinjewadi\n"
     ]
    }
   ],
   "source": [
    "loc1='''TCS company \n",
    "        white field \n",
    "        banglore'''\n",
    "loc2=\"\"\"TCS company \n",
    "     Pune \n",
    "     Hinjewadi\"\"\"\n",
    "\n",
    "print(loc1)\n",
    "print(loc2)"
   ]
  },
  {
   "cell_type": "code",
   "execution_count": 4,
   "id": "f45bef8e",
   "metadata": {
    "scrolled": true
   },
   "outputs": [
    {
     "name": "stdout",
     "output_type": "stream",
     "text": [
      "h\n",
      "l\n"
     ]
    }
   ],
   "source": [
    "#  ACCESING STRING BY USING INDEX\n",
    "\n",
    "wish=\"hello world\"\n",
    "\n",
    "print(wish[0])\n",
    "print(wish[3])"
   ]
  },
  {
   "cell_type": "code",
   "execution_count": 5,
   "id": "83c63e65",
   "metadata": {},
   "outputs": [
    {
     "name": "stdout",
     "output_type": "stream",
     "text": [
      "hello\n"
     ]
    }
   ],
   "source": [
    "wish=\"hello world\"\n",
    "\n",
    "print(wish[0:5])\n"
   ]
  },
  {
   "cell_type": "code",
   "execution_count": 6,
   "id": "1df27dcf",
   "metadata": {},
   "outputs": [
    {
     "name": "stdout",
     "output_type": "stream",
     "text": [
      "hello wo\n"
     ]
    }
   ],
   "source": [
    "wish=\"hello world\"\n",
    "\n",
    "print(wish[0:8])"
   ]
  },
  {
   "cell_type": "code",
   "execution_count": 7,
   "id": "063eceb9",
   "metadata": {},
   "outputs": [
    {
     "name": "stdout",
     "output_type": "stream",
     "text": [
      "hellowor\n"
     ]
    }
   ],
   "source": [
    "wish=\"helloworld\"\n",
    "\n",
    "print(wish[0:8])"
   ]
  },
  {
   "cell_type": "code",
   "execution_count": 8,
   "id": "a07afe2c",
   "metadata": {},
   "outputs": [
    {
     "name": "stdout",
     "output_type": "stream",
     "text": [
      "h\n",
      "e\n",
      "l\n",
      "l\n",
      "o\n",
      " \n",
      "w\n",
      "o\n",
      "r\n",
      "l\n",
      "d\n"
     ]
    }
   ],
   "source": [
    "wish=\"hello world\"\n",
    "\n",
    "for char in wish:\n",
    "    print(char)"
   ]
  },
  {
   "cell_type": "code",
   "execution_count": 9,
   "id": "66169b05",
   "metadata": {},
   "outputs": [],
   "source": [
    "#   STRING IS IMMUTABLE i.e IT CHANGES CAN NIT BE MADE"
   ]
  },
  {
   "cell_type": "code",
   "execution_count": 10,
   "id": "06aacf67",
   "metadata": {},
   "outputs": [
    {
     "name": "stdout",
     "output_type": "stream",
     "text": [
      "Akshay\n",
      "A\n"
     ]
    }
   ],
   "source": [
    "#PRINTING NAME AND FIRST INDEX\n",
    "\n",
    "name=\"Akshay\"\n",
    "\n",
    "print(name)\n",
    "print(name[0])\n"
   ]
  },
  {
   "cell_type": "code",
   "execution_count": 11,
   "id": "aa21ac13",
   "metadata": {},
   "outputs": [
    {
     "name": "stdout",
     "output_type": "stream",
     "text": [
      "Akshay\n",
      "A\n"
     ]
    },
    {
     "ename": "TypeError",
     "evalue": "'str' object does not support item assignment",
     "output_type": "error",
     "traceback": [
      "\u001b[1;31m---------------------------------------------------------------------------\u001b[0m",
      "\u001b[1;31mTypeError\u001b[0m                                 Traceback (most recent call last)",
      "Cell \u001b[1;32mIn[11], line 7\u001b[0m\n\u001b[0;32m      5\u001b[0m \u001b[38;5;28mprint\u001b[39m(name)\n\u001b[0;32m      6\u001b[0m \u001b[38;5;28mprint\u001b[39m(name[\u001b[38;5;241m0\u001b[39m])\n\u001b[1;32m----> 7\u001b[0m name[\u001b[38;5;241m0\u001b[39m]\u001b[38;5;241m=\u001b[39m\u001b[38;5;124m\"\u001b[39m\u001b[38;5;124mx\u001b[39m\u001b[38;5;124m\"\u001b[39m\n",
      "\u001b[1;31mTypeError\u001b[0m: 'str' object does not support item assignment"
     ]
    }
   ],
   "source": [
    "#trying to modify string its shows error\n",
    "\n",
    "name=\"Akshay\"\n",
    "\n",
    "print(name)\n",
    "print(name[0])\n",
    "name[0]=\"x\""
   ]
  },
  {
   "cell_type": "code",
   "execution_count": 12,
   "id": "865b424b",
   "metadata": {},
   "outputs": [
    {
     "name": "stdout",
     "output_type": "stream",
     "text": [
      "pythonprogramming\n"
     ]
    }
   ],
   "source": [
    "# + WORKS AS A COCATENATION OPERATOR IN STRING\n",
    "\n",
    "a=\"python\"\n",
    "b=\"programming\"\n",
    "print(a+b)"
   ]
  },
  {
   "cell_type": "code",
   "execution_count": 13,
   "id": "847c0992",
   "metadata": {},
   "outputs": [
    {
     "name": "stdout",
     "output_type": "stream",
     "text": [
      "pythonpythonpython\n"
     ]
    }
   ],
   "source": [
    "#   * OPERATOR WORKS AS A REPETATION IN STRING\n",
    "\n",
    "course=\"python\"\n",
    "print(course*3)"
   ]
  },
  {
   "cell_type": "code",
   "execution_count": 14,
   "id": "95ff4901",
   "metadata": {},
   "outputs": [
    {
     "name": "stdout",
     "output_type": "stream",
     "text": [
      "6\n"
     ]
    }
   ],
   "source": [
    "#  LENGTH OF THE STRING\n",
    "\n",
    "course=\"Python\"\n",
    "print(len(course))"
   ]
  },
  {
   "cell_type": "code",
   "execution_count": 15,
   "id": "399346be",
   "metadata": {},
   "outputs": [],
   "source": [
    "#   MEMBERSHIP OPERATORS IN,NOT IN"
   ]
  },
  {
   "cell_type": "code",
   "execution_count": 17,
   "id": "9d3b39ad",
   "metadata": {},
   "outputs": [
    {
     "name": "stdout",
     "output_type": "stream",
     "text": [
      "True\n",
      "False\n",
      "True\n",
      "False\n"
     ]
    }
   ],
   "source": [
    "print('p'in 'python')\n",
    "print('z'in 'python')\n",
    "print('on'in 'python')\n",
    "print('pa'in 'python')"
   ]
  },
  {
   "cell_type": "code",
   "execution_count": 19,
   "id": "f898a80c",
   "metadata": {},
   "outputs": [
    {
     "name": "stdout",
     "output_type": "stream",
     "text": [
      "True\n"
     ]
    }
   ],
   "source": [
    "print('b' not in 'apple')"
   ]
  },
  {
   "cell_type": "code",
   "execution_count": 20,
   "id": "8e38c607",
   "metadata": {},
   "outputs": [
    {
     "name": "stdout",
     "output_type": "stream",
     "text": [
      "['__add__', '__class__', '__contains__', '__delattr__', '__dir__', '__doc__', '__eq__', '__format__', '__ge__', '__getattribute__', '__getitem__', '__getnewargs__', '__gt__', '__hash__', '__init__', '__init_subclass__', '__iter__', '__le__', '__len__', '__lt__', '__mod__', '__mul__', '__ne__', '__new__', '__reduce__', '__reduce_ex__', '__repr__', '__rmod__', '__rmul__', '__setattr__', '__sizeof__', '__str__', '__subclasshook__', 'capitalize', 'casefold', 'center', 'count', 'encode', 'endswith', 'expandtabs', 'find', 'format', 'format_map', 'index', 'isalnum', 'isalpha', 'isascii', 'isdecimal', 'isdigit', 'isidentifier', 'islower', 'isnumeric', 'isprintable', 'isspace', 'istitle', 'isupper', 'join', 'ljust', 'lower', 'lstrip', 'maketrans', 'partition', 'removeprefix', 'removesuffix', 'replace', 'rfind', 'rindex', 'rjust', 'rpartition', 'rsplit', 'rstrip', 'split', 'splitlines', 'startswith', 'strip', 'swapcase', 'title', 'translate', 'upper', 'zfill']\n"
     ]
    }
   ],
   "source": [
    "#  PRINTING str CLASS METHODS BY USING dir(str) function\n",
    "\n",
    "\n",
    "print(dir(str))"
   ]
  },
  {
   "cell_type": "code",
   "execution_count": 21,
   "id": "6c57d7eb",
   "metadata": {},
   "outputs": [],
   "source": [
    "#  MTHODS IN str  \n",
    "#  'count','upper','lower','replace','split','strip'"
   ]
  },
  {
   "cell_type": "code",
   "execution_count": 22,
   "id": "e4654e70",
   "metadata": {},
   "outputs": [
    {
     "name": "stdout",
     "output_type": "stream",
     "text": [
      "Before converting: Akshay\n",
      "After converting: AKSHAY\n"
     ]
    }
   ],
   "source": [
    "#UPPER METHOD \n",
    "\n",
    "name=\"Akshay\"\n",
    "print(\"Before converting:\",name)\n",
    "print(\"After converting:\",name.upper())"
   ]
  },
  {
   "cell_type": "code",
   "execution_count": 23,
   "id": "460f973d",
   "metadata": {},
   "outputs": [
    {
     "name": "stdout",
     "output_type": "stream",
     "text": [
      "Before converting:  DANIEL\n",
      "After converting:  daniel\n"
     ]
    }
   ],
   "source": [
    "# lower method\n",
    "\n",
    "name = \"DANIEL\"\n",
    "print(\"Before converting: \", name)\n",
    "print(\"After converting: \", name.lower())"
   ]
  },
  {
   "cell_type": "code",
   "execution_count": 25,
   "id": "5d6d1445",
   "metadata": {},
   "outputs": [
    {
     "name": "stdout",
     "output_type": "stream",
     "text": [
      "with spaces course lenfth is: 12\n",
      "after removing speces,course length is: 6\n"
     ]
    }
   ],
   "source": [
    "#  Strip() method\n",
    "\n",
    "course=\"python      \"\n",
    "print(\"with spaces course lenfth is:\",len(course))\n",
    "x=course.strip()\n",
    "print(\"after removing speces,course length is:\",len(x))"
   ]
  },
  {
   "cell_type": "code",
   "execution_count": 28,
   "id": "a4babbaa",
   "metadata": {},
   "outputs": [
    {
     "name": "stdout",
     "output_type": "stream",
     "text": [
      "2\n",
      "0\n"
     ]
    }
   ],
   "source": [
    "#  COUNT()\n",
    "\n",
    "s=\"Python is a programming language,Python is easy\"\n",
    "print(s.count(\"Python\"))\n",
    "print(s.count(\"hello\"))"
   ]
  },
  {
   "cell_type": "code",
   "execution_count": 32,
   "id": "15d1c04e",
   "metadata": {},
   "outputs": [
    {
     "name": "stdout",
     "output_type": "stream",
     "text": [
      "Java programming language\n",
      "Python programming language\n"
     ]
    }
   ],
   "source": [
    "#  Replace()\n",
    "\n",
    "s1= \"Java programming language\"\n",
    "s2=s1.replace(\"Java\",\"Python\")\n",
    "\n",
    "print(s1)\n",
    "print(s2)\n"
   ]
  },
  {
   "cell_type": "code",
   "execution_count": 35,
   "id": "eed59c91",
   "metadata": {},
   "outputs": [
    {
     "name": "stdout",
     "output_type": "stream",
     "text": [
      "Java programming language\n",
      "python programming language\n",
      "1731382716384\n",
      "1731412105200\n"
     ]
    }
   ],
   "source": [
    "s1=\"Java programming language\"\n",
    "s2=s1.replace(\"Java\",\"python\")\n",
    "\n",
    "print(s1)\n",
    "print(s2)\n",
    "\n",
    "print(id(s1))\n",
    "print(id(s2))"
   ]
  },
  {
   "cell_type": "code",
   "execution_count": 36,
   "id": "bb13c6e1",
   "metadata": {},
   "outputs": [
    {
     "name": "stdout",
     "output_type": "stream",
     "text": [
      "Before splitting: Python programming language\n",
      "After splitting: ['Python', 'programming', 'language']\n"
     ]
    }
   ],
   "source": [
    "# split()\n",
    "\n",
    "\n",
    "s= \"Python programming language\"\n",
    "n=s.split()\n",
    "\n",
    "print(\"Before splitting:\",s)\n",
    "print(\"After splitting:\",n)"
   ]
  },
  {
   "cell_type": "code",
   "execution_count": 37,
   "id": "78943b44",
   "metadata": {},
   "outputs": [
    {
     "name": "stdout",
     "output_type": "stream",
     "text": [
      "Before splitting: This is,Python programming language ,study\n",
      "After splitting: ['This is', 'Python programming language ', 'study']\n"
     ]
    }
   ],
   "source": [
    "s=\"This is,Python programming language ,study\"\n",
    "n=s.split(\",\")\n",
    "\n",
    "print(\"Before splitting:\",s)\n",
    "print(\"After splitting:\",n)"
   ]
  },
  {
   "cell_type": "code",
   "execution_count": null,
   "id": "b1b99b86",
   "metadata": {},
   "outputs": [],
   "source": []
  }
 ],
 "metadata": {
  "kernelspec": {
   "display_name": "Python 3 (ipykernel)",
   "language": "python",
   "name": "python3"
  },
  "language_info": {
   "codemirror_mode": {
    "name": "ipython",
    "version": 3
   },
   "file_extension": ".py",
   "mimetype": "text/x-python",
   "name": "python",
   "nbconvert_exporter": "python",
   "pygments_lexer": "ipython3",
   "version": "3.10.9"
  }
 },
 "nbformat": 4,
 "nbformat_minor": 5
}
