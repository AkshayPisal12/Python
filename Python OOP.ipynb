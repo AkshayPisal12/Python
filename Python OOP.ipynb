{
 "cells": [
  {
   "cell_type": "code",
   "execution_count": 1,
   "id": "c367d105",
   "metadata": {},
   "outputs": [],
   "source": [
    "   #   OBJECT ORIENTED PROGRAMMING"
   ]
  },
  {
   "cell_type": "code",
   "execution_count": null,
   "id": "84c710da",
   "metadata": {},
   "outputs": [],
   "source": [
    "#  cLASS"
   ]
  },
  {
   "cell_type": "code",
   "execution_count": 5,
   "id": "6478c209",
   "metadata": {},
   "outputs": [],
   "source": [
    "# How to create a class\n",
    "\n",
    "class Empoyee:\n",
    "    def display(self):\n",
    "        print(\"Hello My name is Akshay\")\n",
    "        \n",
    "        \n",
    "# here we does not create object hence output is not displayed"
   ]
  },
  {
   "cell_type": "code",
   "execution_count": 6,
   "id": "49838cb2",
   "metadata": {},
   "outputs": [
    {
     "name": "stdout",
     "output_type": "stream",
     "text": [
      "Hello my name is Akshay\n"
     ]
    }
   ],
   "source": [
    "#   Creating a class and object\n",
    "\n",
    "class Employee:\n",
    "    def display(self):\n",
    "        print(\"Hello my name is Akshay\")\n",
    "        \n",
    "emp=Employee()\n",
    "emp.display()"
   ]
  },
  {
   "cell_type": "code",
   "execution_count": 9,
   "id": "876c4dc6",
   "metadata": {},
   "outputs": [
    {
     "name": "stdout",
     "output_type": "stream",
     "text": [
      "Hello My name is Akshay\n",
      " i like learning\n"
     ]
    }
   ],
   "source": [
    "class Employee:\n",
    "    def display(self):\n",
    "        print(\"Hello My name is Akshay\")\n",
    "        \n",
    "    def teaching(self):\n",
    "        print(\" i like learning\")\n",
    "        \n",
    "emp=Employee()\n",
    "emp.display()\n",
    "emp.teaching()"
   ]
  },
  {
   "cell_type": "code",
   "execution_count": 10,
   "id": "c2d8cf63",
   "metadata": {},
   "outputs": [],
   "source": [
    "#    CONSTRUCTOR"
   ]
  },
  {
   "cell_type": "code",
   "execution_count": 23,
   "id": "71d2f836",
   "metadata": {},
   "outputs": [
    {
     "name": "stdout",
     "output_type": "stream",
     "text": [
      "constructor is executed\n"
     ]
    }
   ],
   "source": [
    "class Employee:\n",
    "    def __init__(self):\n",
    "        print(\"constructor is executed\")\n",
    "emp = Employee()\n",
    "    "
   ]
  },
  {
   "cell_type": "code",
   "execution_count": 26,
   "id": "81b38937",
   "metadata": {},
   "outputs": [
    {
     "name": "stdout",
     "output_type": "stream",
     "text": [
      "Constructor is executed successfully\n",
      "Constructor is executed successfully\n",
      "Constructor is executed successfully\n"
     ]
    }
   ],
   "source": [
    "#  How many times constructor will execute\n",
    "\n",
    "class Employee:\n",
    "    def __init__(self):\n",
    "        print(\"Constructor is executed successfully\")\n",
    "        \n",
    "emp1=Employee()\n",
    "emp2=Employee()\n",
    "emp3=Employee()\n"
   ]
  },
  {
   "cell_type": "code",
   "execution_count": 27,
   "id": "e3b66a8e",
   "metadata": {},
   "outputs": [
    {
     "data": {
      "text/plain": [
       "'\\n1. constructor without parameters\\n2.constructor without parameter\\n\\n'"
      ]
     },
     "execution_count": 27,
     "metadata": {},
     "output_type": "execute_result"
    }
   ],
   "source": [
    "#  Types of constructor\n",
    "'''\n",
    "1. constructor without parameters\n",
    "2.constructor without parameter\n",
    "\n",
    "'''\n"
   ]
  },
  {
   "cell_type": "code",
   "execution_count": 29,
   "id": "9d7dab00",
   "metadata": {},
   "outputs": [
    {
     "name": "stdout",
     "output_type": "stream",
     "text": [
      "constructor is executed\n"
     ]
    }
   ],
   "source": [
    "#  Constructor without parameters\n",
    "\n",
    "class Employee:\n",
    "    def __init__(self):\n",
    "        print(\"constructor is executed\")\n",
    "        \n",
    "emp=Employee()"
   ]
  },
  {
   "cell_type": "code",
   "execution_count": 30,
   "id": "2a14332f",
   "metadata": {},
   "outputs": [
    {
     "name": "stdout",
     "output_type": "stream",
     "text": [
      "Employee id is: 1\n",
      "Employee id is: 2\n",
      "Employee id is: 4\n"
     ]
    }
   ],
   "source": [
    "#  parameterised Constructor\n",
    "\n",
    "class Employee:\n",
    "    def __init__(self,number):\n",
    "        self.number=number\n",
    "        print(\"Employee id is:\",self.number)\n",
    "        \n",
    "e1=Employee(1)\n",
    "e2=Employee(2)\n",
    "e3=Employee(4)"
   ]
  },
  {
   "cell_type": "code",
   "execution_count": 33,
   "id": "3fbe9fb4",
   "metadata": {},
   "outputs": [
    {
     "name": "stdout",
     "output_type": "stream",
     "text": [
      "Employee id is: 1\n",
      "Employee id is: 2\n",
      "Employee id is: 3\n"
     ]
    }
   ],
   "source": [
    "#   One parameterised constructor and instance method\n",
    "\n",
    "class Employee:\n",
    "    def __init__(self,number):\n",
    "        self.number=number\n",
    "        \n",
    "    def display(self):\n",
    "        print(\"Employee id is:\",self.number)\n",
    "        \n",
    "e1=Employee(1)\n",
    "e2=Employee(2)\n",
    "e3=Employee(3)\n",
    "\n",
    "e1.display()\n",
    "e2.display()\n",
    "e3.display()\n"
   ]
  },
  {
   "cell_type": "code",
   "execution_count": 36,
   "id": "faf85f59",
   "metadata": {},
   "outputs": [
    {
     "name": "stdout",
     "output_type": "stream",
     "text": [
      "Hello my id is : 1\n",
      "My name is : Daniel\n",
      "Hello my id is : 2\n",
      "My name is : Arjun\n"
     ]
    }
   ],
   "source": [
    "#  Two parameterised constructor and instance method\n",
    "\n",
    "class Employee: \n",
    "    def __init__(self, number, name): \n",
    "        self.number = number\n",
    "        self.name = name\n",
    "    def display(self): \n",
    "        print(\"Hello my id is :\", self.number) \n",
    "        print(\"My name is :\", self.name) \n",
    "\n",
    "e1=Employee(1, 'Daniel')\n",
    "e1.display()\n",
    "e2=Employee(2, 'Arjun')\n",
    "e2.display()\n"
   ]
  },
  {
   "cell_type": "code",
   "execution_count": 40,
   "id": "4935ee88",
   "metadata": {},
   "outputs": [
    {
     "name": "stdout",
     "output_type": "stream",
     "text": [
      "Hello my id is: 1\n",
      "My name is : Daniel\n",
      "My age is: 16\n",
      "Hello my id is: 2\n",
      "My name is : Arjun\n",
      "My age is: 17\n",
      "Hello my id is: 3\n",
      "My name is : Prasad\n",
      "My age is: 18\n"
     ]
    }
   ],
   "source": [
    "#  Three parmeterised constructor with and instance method\n",
    "\n",
    "class Employee:\n",
    "    def __init__(self,number,name,age):\n",
    "        self.number=number\n",
    "        self.name=name\n",
    "        self.age=age\n",
    "        \n",
    "    def display(self):\n",
    "        print(\"Hello my id is:\",self.number)\n",
    "        print(\"My name is :\",self.name)\n",
    "        print(\"My age is:\",self.age)\n",
    "        \n",
    "e1=Employee(1, 'Daniel', 16)\n",
    "e1.display()\n",
    "e2=Employee(2, 'Arjun', 17)\n",
    "e2.display()\n",
    "e3=Employee(3, 'Prasad', 18)\n",
    "e3.display()\n"
   ]
  },
  {
   "cell_type": "code",
   "execution_count": 7,
   "id": "8b8af594",
   "metadata": {},
   "outputs": [
    {
     "name": "stdout",
     "output_type": "stream",
     "text": [
      "Student1 info:\n",
      "Name: Akshay\n",
      "id: 101\n",
      "\n",
      "Student1 info:\n",
      "Name: Daniel\n",
      "id: 102\n"
     ]
    }
   ],
   "source": [
    "#  Three parameterised consttuctor\n",
    "\n",
    "class Student:\n",
    "    def __init__(self,name,number):\n",
    "        self.name=name\n",
    "        self.number=number\n",
    "    \n",
    "s1=Student('Akshay',101)\n",
    "s2=Student('Daniel',102)\n",
    "\n",
    "print(\"Student1 info:\")\n",
    "print(\"Name:\",s1.name)\n",
    "print(\"id:\",s1.number)\n",
    "print()\n",
    "print(\"Student1 info:\")\n",
    "print(\"Name:\",s2.name)\n",
    "print(\"id:\",s2.number)\n"
   ]
  },
  {
   "cell_type": "code",
   "execution_count": 8,
   "id": "5f18f099",
   "metadata": {},
   "outputs": [
    {
     "name": "stdout",
     "output_type": "stream",
     "text": [
      "Employee number: 10\n",
      "Employee name: Daniel\n",
      "Empoyee salary: 10000\n"
     ]
    }
   ],
   "source": [
    "#    Initializing instance variable inside constructor\n",
    "\n",
    "class Employee:\n",
    "    def __init__(self):\n",
    "        self.eno=10\n",
    "        self.ename=\"Daniel\"\n",
    "        self.esal=10000\n",
    "        \n",
    "emp=Employee()\n",
    "\n",
    "print(\"Employee number:\",emp.eno)\n",
    "print(\"Employee name:\",emp.ename)\n",
    "print(\"Empoyee salary:\",emp.esal)"
   ]
  },
  {
   "cell_type": "code",
   "execution_count": 10,
   "id": "bd16dbcf",
   "metadata": {},
   "outputs": [
    {
     "name": "stdout",
     "output_type": "stream",
     "text": [
      "10\n"
     ]
    }
   ],
   "source": [
    "#   Instance Method\n",
    "\n",
    "class Demo:\n",
    "    def __init__(self,a):\n",
    "        self.a=a\n",
    "        \n",
    "    def m(self):\n",
    "        print(self.a)\n",
    "        \n",
    "d=Demo(10)\n",
    "d.m()\n"
   ]
  },
  {
   "cell_type": "code",
   "execution_count": 17,
   "id": "b242c8ab",
   "metadata": {},
   "outputs": [
    {
     "name": "stdout",
     "output_type": "stream",
     "text": [
      "My number is: 101\n",
      "My name is: Daniel\n"
     ]
    }
   ],
   "source": [
    "#  Class + keyword argument\n",
    "\n",
    "class Student:\n",
    "    def __init__(self,number,name):\n",
    "        self.number=number\n",
    "        self.name=name\n",
    "    \n",
    "    def display(self):\n",
    "        print(\"My number is:\",self.number)\n",
    "        print(\"My name is:\",self.name)\n",
    "            \n",
    "s1=Student(101,\"Daniel\")\n",
    "s1.display()"
   ]
  },
  {
   "cell_type": "code",
   "execution_count": null,
   "id": "422e66b9",
   "metadata": {},
   "outputs": [],
   "source": []
  },
  {
   "cell_type": "code",
   "execution_count": null,
   "id": "09afc6cb",
   "metadata": {},
   "outputs": [],
   "source": []
  }
 ],
 "metadata": {
  "kernelspec": {
   "display_name": "Python 3 (ipykernel)",
   "language": "python",
   "name": "python3"
  },
  "language_info": {
   "codemirror_mode": {
    "name": "ipython",
    "version": 3
   },
   "file_extension": ".py",
   "mimetype": "text/x-python",
   "name": "python",
   "nbconvert_exporter": "python",
   "pygments_lexer": "ipython3",
   "version": "3.10.9"
  }
 },
 "nbformat": 4,
 "nbformat_minor": 5
}
