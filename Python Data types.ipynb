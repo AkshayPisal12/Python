{
 "cells": [
  {
   "cell_type": "code",
   "execution_count": 1,
   "id": "605a7ae2",
   "metadata": {},
   "outputs": [],
   "source": [
    "   # Python datatypes\n",
    "    "
   ]
  },
  {
   "cell_type": "code",
   "execution_count": 2,
   "id": "c5a89b84",
   "metadata": {},
   "outputs": [
    {
     "name": "stdout",
     "output_type": "stream",
     "text": [
      "My employee id is:  1\n",
      "My name is:  Daniel\n",
      "My salary is:  10000.56\n"
     ]
    }
   ],
   "source": [
    "#print different kinds of variables\n",
    "#demo1.py\n",
    "\n",
    "\n",
    "emp_id = 1\n",
    "name = \"Daniel\"\n",
    "salary = 10000.56\n",
    "\n",
    "print(\"My employee id is: \", emp_id)\n",
    "print(\"My name is: \", name)\n",
    "print(\"My salary is: \", salary)"
   ]
  },
  {
   "cell_type": "code",
   "execution_count": 3,
   "id": "40a93cca",
   "metadata": {},
   "outputs": [
    {
     "name": "stdout",
     "output_type": "stream",
     "text": [
      "My employee id is:  1\n",
      "My name is:  Daniel\n",
      "My salary is:  10000.56\n",
      "\n",
      "emp_id type is : <class 'int'>\n",
      "name type is : <class 'str'>\n",
      "salary type is : <class 'float'>\n"
     ]
    }
   ],
   "source": [
    "# Check the type of variable\n",
    "\n",
    "\n",
    "emp_id = 1\n",
    "name = \"Daniel\"\n",
    "salary = 10000.56\n",
    "print(\"My employee id is: \", emp_id)\n",
    "print(\"My name is: \", name)\n",
    "print(\"My salary is: \", salary)\n",
    "print()       # creating space in output\n",
    "print(\"emp_id type is :\",type(emp_id))\n",
    "print(\"name type is :\",type(name))\n",
    "print(\"salary type is :\",type(salary))\n"
   ]
  },
  {
   "cell_type": "code",
   "execution_count": 4,
   "id": "a00c6843",
   "metadata": {},
   "outputs": [
    {
     "name": "stdout",
     "output_type": "stream",
     "text": [
      "20\n",
      "<class 'int'>\n"
     ]
    }
   ],
   "source": [
    "# To print integer value\n",
    "\n",
    "\n",
    "a=20\n",
    "print(a)\n",
    "print(type(a))"
   ]
  },
  {
   "cell_type": "code",
   "execution_count": 5,
   "id": "0220a575",
   "metadata": {},
   "outputs": [
    {
     "name": "stdout",
     "output_type": "stream",
     "text": [
      "99999999999\n",
      "<class 'int'>\n"
     ]
    }
   ],
   "source": [
    "# int data type can store bigger values tooo\n",
    "\n",
    "\n",
    "b=99999999999\n",
    "print(b)\n",
    "print(type(b))"
   ]
  },
  {
   "cell_type": "code",
   "execution_count": 6,
   "id": "157a273c",
   "metadata": {},
   "outputs": [
    {
     "name": "stdout",
     "output_type": "stream",
     "text": [
      "1000.52\n",
      "<class 'float'>\n"
     ]
    }
   ],
   "source": [
    "#  Float value\n",
    "\n",
    "salary = 1000.52\n",
    "print(salary)\n",
    "print(type(salary))"
   ]
  },
  {
   "cell_type": "code",
   "execution_count": 8,
   "id": "d4962f1c",
   "metadata": {},
   "outputs": [
    {
     "name": "stdout",
     "output_type": "stream",
     "text": [
      "True\n",
      "False\n"
     ]
    }
   ],
   "source": [
    "# Boolean data type \n",
    "\n",
    "a=True\n",
    "b=False\n",
    "\n",
    "print(a)\n",
    "print(b)\n"
   ]
  },
  {
   "cell_type": "code",
   "execution_count": 9,
   "id": "98229dd7",
   "metadata": {},
   "outputs": [
    {
     "name": "stdout",
     "output_type": "stream",
     "text": [
      "None\n",
      "<class 'NoneType'>\n"
     ]
    }
   ],
   "source": [
    "#  None Data type\n",
    "\n",
    "a= None\n",
    "\n",
    "print(a)\n",
    "print(type(a))"
   ]
  },
  {
   "cell_type": "code",
   "execution_count": 10,
   "id": "9d123d91",
   "metadata": {},
   "outputs": [
    {
     "name": "stdout",
     "output_type": "stream",
     "text": [
      "Akshay\n",
      "Akshay\n",
      " Akshay\n",
      "Akshay\n",
      "<class 'str'>\n",
      "<class 'str'>\n",
      "<class 'str'>\n",
      "<class 'str'>\n"
     ]
    }
   ],
   "source": [
    "# Creating  String\n",
    "\n",
    "\n",
    "name1='Akshay'\n",
    "name2=\"Akshay\"\n",
    "name3=''' Akshay'''\n",
    "name4=\"\"\"Akshay\"\"\"\n",
    "\n",
    "print(name1)\n",
    "print(name2)\n",
    "print(name3)\n",
    "print(name4)\n",
    "\n",
    "print(type(name1))\n",
    "print(type(name2))\n",
    "print(type(name3))\n",
    "print(type(name4))\n"
   ]
  },
  {
   "cell_type": "code",
   "execution_count": 11,
   "id": "0878fadf",
   "metadata": {},
   "outputs": [
    {
     "name": "stdout",
     "output_type": "stream",
     "text": [
      "[10, 20, 30, 40]\n",
      "<class 'list'>\n"
     ]
    }
   ],
   "source": [
    "#  Creating a list datatype\n",
    "\n",
    "values = [10,20,30,40]\n",
    "print(values)\n",
    "print(type(values))"
   ]
  },
  {
   "cell_type": "code",
   "execution_count": 12,
   "id": "dcce3603",
   "metadata": {},
   "outputs": [
    {
     "name": "stdout",
     "output_type": "stream",
     "text": [
      "(10, 20, 30, 40)\n",
      "<class 'tuple'>\n"
     ]
    }
   ],
   "source": [
    "#  Creating tuple data structure\n",
    "\n",
    "\n",
    "values = (10, 20, 30, 40)\n",
    "\n",
    "print(values)\n",
    "print(type(values))\n"
   ]
  },
  {
   "cell_type": "code",
   "execution_count": 13,
   "id": "f05f3ecc",
   "metadata": {},
   "outputs": [
    {
     "name": "stdout",
     "output_type": "stream",
     "text": [
      "{40, 10, 20, 30}\n",
      "<class 'set'>\n"
     ]
    }
   ],
   "source": [
    "# creating a sett data structure\n",
    "\n",
    "values={10,20,30,40}\n",
    "print(values)\n",
    "print(type(values))"
   ]
  },
  {
   "cell_type": "code",
   "execution_count": 14,
   "id": "749d028d",
   "metadata": {},
   "outputs": [
    {
     "name": "stdout",
     "output_type": "stream",
     "text": [
      "{1: 'Jeswanth', 2: 'Kumari', 3: 'Prasad', 4: 'Daniel'}\n",
      "<class 'dict'>\n"
     ]
    }
   ],
   "source": [
    "#  Creating disctionary data structure\n",
    "\n",
    "details = {1: \"Jeswanth\", 2: \"Kumari\", 3: \"Prasad\", 4: \"Daniel\"}\n",
    "\n",
    "print(details)\n",
    "print(type(details))"
   ]
  },
  {
   "cell_type": "code",
   "execution_count": 15,
   "id": "d5c6cf30",
   "metadata": {},
   "outputs": [
    {
     "name": "stdout",
     "output_type": "stream",
     "text": [
      "range(0, 5)\n",
      "<class 'range'>\n"
     ]
    }
   ],
   "source": [
    "#  Creating Range of value\n",
    "\n",
    "a=range(5)\n",
    "print(a)\n",
    "print(type(a))\n"
   ]
  },
  {
   "cell_type": "code",
   "execution_count": 16,
   "id": "db258b27",
   "metadata": {},
   "outputs": [
    {
     "name": "stdout",
     "output_type": "stream",
     "text": [
      "range(1, 10)\n"
     ]
    }
   ],
   "source": [
    "#  Range start,end Function\n",
    "\n",
    "a=range(1,10)\n",
    "print(a)\n"
   ]
  },
  {
   "cell_type": "code",
   "execution_count": 17,
   "id": "52f1632a",
   "metadata": {},
   "outputs": [
    {
     "name": "stdout",
     "output_type": "stream",
     "text": [
      "10\n",
      "11\n",
      "12\n",
      "13\n",
      "14\n"
     ]
    }
   ],
   "source": [
    "# Access element from range data type\n",
    "\n",
    "\n",
    "r=range(10,15)\n",
    "for value in r:\n",
    "    print(value)"
   ]
  },
  {
   "cell_type": "code",
   "execution_count": null,
   "id": "49b46883",
   "metadata": {},
   "outputs": [],
   "source": []
  }
 ],
 "metadata": {
  "kernelspec": {
   "display_name": "Python 3 (ipykernel)",
   "language": "python",
   "name": "python3"
  },
  "language_info": {
   "codemirror_mode": {
    "name": "ipython",
    "version": 3
   },
   "file_extension": ".py",
   "mimetype": "text/x-python",
   "name": "python",
   "nbconvert_exporter": "python",
   "pygments_lexer": "ipython3",
   "version": "3.10.9"
  }
 },
 "nbformat": 4,
 "nbformat_minor": 5
}
