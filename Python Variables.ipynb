{
 "cells": [
  {
   "cell_type": "code",
   "execution_count": 1,
   "id": "3b524e29",
   "metadata": {},
   "outputs": [
    {
     "name": "stdout",
     "output_type": "stream",
     "text": [
      "16\n"
     ]
    }
   ],
   "source": [
    "# creating a single variable\n",
    "#demo1.py\n",
    "age=16\n",
    "print(age)"
   ]
  },
  {
   "cell_type": "code",
   "execution_count": 2,
   "id": "46daca34",
   "metadata": {},
   "outputs": [],
   "source": [
    "#Creating two vaeiables "
   ]
  },
  {
   "cell_type": "code",
   "execution_count": 3,
   "id": "afb631ca",
   "metadata": {},
   "outputs": [
    {
     "name": "stdout",
     "output_type": "stream",
     "text": [
      "Akshay\n",
      "21\n"
     ]
    }
   ],
   "source": [
    "name = \"Akshay\"\n",
    "age = 21\n",
    "print(name)\n",
    "print(age)"
   ]
  },
  {
   "cell_type": "code",
   "execution_count": 4,
   "id": "3fc9ddb1",
   "metadata": {},
   "outputs": [
    {
     "name": "stdout",
     "output_type": "stream",
     "text": [
      "Akshay 21\n"
     ]
    }
   ],
   "source": [
    "#Creating two variables and using one print\n",
    "#name=Demo3.py\n",
    "\n",
    "name=\"Akshay\"\n",
    "age=\"21\"\n",
    "\n",
    "print(name,age)"
   ]
  },
  {
   "cell_type": "code",
   "execution_count": 5,
   "id": "5e0b88b6",
   "metadata": {},
   "outputs": [
    {
     "name": "stdout",
     "output_type": "stream",
     "text": [
      "I am Akshay\n"
     ]
    }
   ],
   "source": [
    "#Creating variable with meaningful text msg.\n",
    "#demo4.py\n",
    "\n",
    "name = \"Akshay\"\n",
    "print(\"I am\",name)"
   ]
  },
  {
   "cell_type": "code",
   "execution_count": 7,
   "id": "eeb1f8d7",
   "metadata": {},
   "outputs": [
    {
     "name": "stdout",
     "output_type": "stream",
     "text": [
      "3\n",
      "2\n",
      "1\n"
     ]
    }
   ],
   "source": [
    "#Creating multiple variables in single line\n",
    "A,B,C =1,2,3\n",
    "print(C)\n",
    "print(B)\n",
    "print(A)"
   ]
  },
  {
   "cell_type": "code",
   "execution_count": 10,
   "id": "c145cb84",
   "metadata": {},
   "outputs": [
    {
     "name": "stdout",
     "output_type": "stream",
     "text": [
      "5\n",
      "5\n",
      "5\n"
     ]
    }
   ],
   "source": [
    "# Assign single value to multiple variables \n",
    "\n",
    "a=b=c=5\n",
    "print(a)\n",
    "print(b)\n",
    "print(c)\n"
   ]
  },
  {
   "cell_type": "code",
   "execution_count": 11,
   "id": "be4523b2",
   "metadata": {},
   "outputs": [
    {
     "name": "stdout",
     "output_type": "stream",
     "text": [
      "My salary is: 12000\n"
     ]
    }
   ],
   "source": [
    "#Creating variable\n",
    "\n",
    "sal=10000\n",
    "sal=12000\n",
    "\n",
    "print(\"My salary is:\",sal)"
   ]
  },
  {
   "cell_type": "code",
   "execution_count": 1,
   "id": "a3e05e7b",
   "metadata": {},
   "outputs": [
    {
     "name": "stdout",
     "output_type": "stream",
     "text": [
      "Emp name is:  Daniel\n",
      "Emp id is:  11\n",
      "Emp salary is:  1000.123\n"
     ]
    }
   ],
   "source": [
    "#Printing name, id, salary with meaningful info\n",
    "#Name demo2.py\n",
    "name = \"Daniel\"\n",
    "emp_id = 11\n",
    "emp_salary = 1000.123\n",
    "print(\"Emp name is: \",name)\n",
    "print(\"Emp id is: \",emp_id)\n",
    "print(\"Emp salary is: \",emp_salary)"
   ]
  },
  {
   "cell_type": "code",
   "execution_count": 4,
   "id": "640270f8",
   "metadata": {},
   "outputs": [
    {
     "name": "stdout",
     "output_type": "stream",
     "text": [
      "1\n",
      "2\n",
      "3\n",
      "4\n"
     ]
    }
   ],
   "source": [
    "#below variable names are valid or invalid\n",
    "#Name demo3.py\n",
    "a=1\n",
    "_a = 2        # single underscore\n",
    "__a = 3       # two underscore\n",
    "__a__ = 4     # two underscores starting and ending of the variable\n",
    "\n",
    "print(a)\n",
    "print(_a)\n",
    "print(__a)\n",
    "print(__a__)"
   ]
  },
  {
   "cell_type": "code",
   "execution_count": null,
   "id": "28671dc4",
   "metadata": {},
   "outputs": [],
   "source": []
  }
 ],
 "metadata": {
  "kernelspec": {
   "display_name": "Python 3 (ipykernel)",
   "language": "python",
   "name": "python3"
  },
  "language_info": {
   "codemirror_mode": {
    "name": "ipython",
    "version": 3
   },
   "file_extension": ".py",
   "mimetype": "text/x-python",
   "name": "python",
   "nbconvert_exporter": "python",
   "pygments_lexer": "ipython3",
   "version": "3.10.9"
  }
 },
 "nbformat": 4,
 "nbformat_minor": 5
}
